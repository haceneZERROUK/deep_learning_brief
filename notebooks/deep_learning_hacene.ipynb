{
 "cells": [
  {
   "cell_type": "code",
   "execution_count": 3,
   "id": "4ae89c08",
   "metadata": {},
   "outputs": [],
   "source": [
    "import pandas as pd\n",
    "import numpy as np\n",
    "from sklearn.compose import ColumnTransformer\n",
    "from sklearn.model_selection import train_test_split\n",
    "from sklearn.preprocessing import StandardScaler, RobustScaler, OneHotEncoder,OrdinalEncoder, LabelEncoder, LabelBinarizer\n",
    "from sklearn.metrics import classification_report, confusion_matrix\n",
    "import tensorflow as tf"
   ]
  },
  {
   "cell_type": "code",
   "execution_count": 4,
   "id": "403b3a87",
   "metadata": {},
   "outputs": [
    {
     "name": "stderr",
     "output_type": "stream",
     "text": [
      "/tmp/ipykernel_132648/4209060789.py:7: FutureWarning: DataFrame.applymap has been deprecated. Use DataFrame.map instead.\n",
      "  df = df.applymap(lambda x: x.strip() if isinstance(x, str) else x)\n"
     ]
    }
   ],
   "source": [
    "df = pd.read_csv('dataset.csv')\n",
    "df.columns = [c.strip().lower() for c in df.columns]\n",
    "# 2. Strip whitespace from column names\n",
    "df.columns = df.columns.str.strip()\n",
    "\n",
    "# 3. Trim whitespace in all string cells\n",
    "df = df.applymap(lambda x: x.strip() if isinstance(x, str) else x)\n",
    "\n",
    "# 4. Convert empty strings to NaN (optional)\n",
    "df.replace('', np.nan, inplace=True)\n",
    "df.totalcharges = pd.to_numeric(df.totalcharges)\n",
    "# 5. Drop duplicate rows\n",
    "df.drop_duplicates(inplace=True)\n",
    "\n",
    "# 6. Drop rows with missing values\n",
    "df.dropna(inplace=True)\n"
   ]
  },
  {
   "cell_type": "code",
   "execution_count": 3,
   "id": "e9a0bb79",
   "metadata": {},
   "outputs": [
    {
     "data": {
      "text/html": [
       "<div>\n",
       "<style scoped>\n",
       "    .dataframe tbody tr th:only-of-type {\n",
       "        vertical-align: middle;\n",
       "    }\n",
       "\n",
       "    .dataframe tbody tr th {\n",
       "        vertical-align: top;\n",
       "    }\n",
       "\n",
       "    .dataframe thead th {\n",
       "        text-align: right;\n",
       "    }\n",
       "</style>\n",
       "<table border=\"1\" class=\"dataframe\">\n",
       "  <thead>\n",
       "    <tr style=\"text-align: right;\">\n",
       "      <th></th>\n",
       "      <th>customerid</th>\n",
       "      <th>gender</th>\n",
       "      <th>seniorcitizen</th>\n",
       "      <th>partner</th>\n",
       "      <th>dependents</th>\n",
       "      <th>tenure</th>\n",
       "      <th>phoneservice</th>\n",
       "      <th>multiplelines</th>\n",
       "      <th>internetservice</th>\n",
       "      <th>onlinesecurity</th>\n",
       "      <th>onlinebackup</th>\n",
       "      <th>deviceprotection</th>\n",
       "      <th>techsupport</th>\n",
       "      <th>streamingtv</th>\n",
       "      <th>streamingmovies</th>\n",
       "      <th>contract</th>\n",
       "      <th>paperlessbilling</th>\n",
       "      <th>paymentmethod</th>\n",
       "      <th>monthlycharges</th>\n",
       "      <th>totalcharges</th>\n",
       "      <th>churn</th>\n",
       "    </tr>\n",
       "  </thead>\n",
       "  <tbody>\n",
       "    <tr>\n",
       "      <th>0</th>\n",
       "      <td>7590-VHVEG</td>\n",
       "      <td>Female</td>\n",
       "      <td>0</td>\n",
       "      <td>Yes</td>\n",
       "      <td>No</td>\n",
       "      <td>1</td>\n",
       "      <td>No</td>\n",
       "      <td>No phone service</td>\n",
       "      <td>DSL</td>\n",
       "      <td>No</td>\n",
       "      <td>Yes</td>\n",
       "      <td>No</td>\n",
       "      <td>No</td>\n",
       "      <td>No</td>\n",
       "      <td>No</td>\n",
       "      <td>Month-to-month</td>\n",
       "      <td>Yes</td>\n",
       "      <td>Electronic check</td>\n",
       "      <td>29.85</td>\n",
       "      <td>29.85</td>\n",
       "      <td>No</td>\n",
       "    </tr>\n",
       "    <tr>\n",
       "      <th>1</th>\n",
       "      <td>5575-GNVDE</td>\n",
       "      <td>Male</td>\n",
       "      <td>0</td>\n",
       "      <td>No</td>\n",
       "      <td>No</td>\n",
       "      <td>34</td>\n",
       "      <td>Yes</td>\n",
       "      <td>No</td>\n",
       "      <td>DSL</td>\n",
       "      <td>Yes</td>\n",
       "      <td>No</td>\n",
       "      <td>Yes</td>\n",
       "      <td>No</td>\n",
       "      <td>No</td>\n",
       "      <td>No</td>\n",
       "      <td>One year</td>\n",
       "      <td>No</td>\n",
       "      <td>Mailed check</td>\n",
       "      <td>56.95</td>\n",
       "      <td>1889.5</td>\n",
       "      <td>No</td>\n",
       "    </tr>\n",
       "    <tr>\n",
       "      <th>2</th>\n",
       "      <td>3668-QPYBK</td>\n",
       "      <td>Male</td>\n",
       "      <td>0</td>\n",
       "      <td>No</td>\n",
       "      <td>No</td>\n",
       "      <td>2</td>\n",
       "      <td>Yes</td>\n",
       "      <td>No</td>\n",
       "      <td>DSL</td>\n",
       "      <td>Yes</td>\n",
       "      <td>Yes</td>\n",
       "      <td>No</td>\n",
       "      <td>No</td>\n",
       "      <td>No</td>\n",
       "      <td>No</td>\n",
       "      <td>Month-to-month</td>\n",
       "      <td>Yes</td>\n",
       "      <td>Mailed check</td>\n",
       "      <td>53.85</td>\n",
       "      <td>108.15</td>\n",
       "      <td>Yes</td>\n",
       "    </tr>\n",
       "    <tr>\n",
       "      <th>3</th>\n",
       "      <td>7795-CFOCW</td>\n",
       "      <td>Male</td>\n",
       "      <td>0</td>\n",
       "      <td>No</td>\n",
       "      <td>No</td>\n",
       "      <td>45</td>\n",
       "      <td>No</td>\n",
       "      <td>No phone service</td>\n",
       "      <td>DSL</td>\n",
       "      <td>Yes</td>\n",
       "      <td>No</td>\n",
       "      <td>Yes</td>\n",
       "      <td>Yes</td>\n",
       "      <td>No</td>\n",
       "      <td>No</td>\n",
       "      <td>One year</td>\n",
       "      <td>No</td>\n",
       "      <td>Bank transfer (automatic)</td>\n",
       "      <td>42.30</td>\n",
       "      <td>1840.75</td>\n",
       "      <td>No</td>\n",
       "    </tr>\n",
       "    <tr>\n",
       "      <th>4</th>\n",
       "      <td>9237-HQITU</td>\n",
       "      <td>Female</td>\n",
       "      <td>0</td>\n",
       "      <td>No</td>\n",
       "      <td>No</td>\n",
       "      <td>2</td>\n",
       "      <td>Yes</td>\n",
       "      <td>No</td>\n",
       "      <td>Fiber optic</td>\n",
       "      <td>No</td>\n",
       "      <td>No</td>\n",
       "      <td>No</td>\n",
       "      <td>No</td>\n",
       "      <td>No</td>\n",
       "      <td>No</td>\n",
       "      <td>Month-to-month</td>\n",
       "      <td>Yes</td>\n",
       "      <td>Electronic check</td>\n",
       "      <td>70.70</td>\n",
       "      <td>151.65</td>\n",
       "      <td>Yes</td>\n",
       "    </tr>\n",
       "  </tbody>\n",
       "</table>\n",
       "</div>"
      ],
      "text/plain": [
       "   customerid  gender  seniorcitizen partner dependents  tenure phoneservice  \\\n",
       "0  7590-VHVEG  Female              0     Yes         No       1           No   \n",
       "1  5575-GNVDE    Male              0      No         No      34          Yes   \n",
       "2  3668-QPYBK    Male              0      No         No       2          Yes   \n",
       "3  7795-CFOCW    Male              0      No         No      45           No   \n",
       "4  9237-HQITU  Female              0      No         No       2          Yes   \n",
       "\n",
       "      multiplelines internetservice onlinesecurity onlinebackup  \\\n",
       "0  No phone service             DSL             No          Yes   \n",
       "1                No             DSL            Yes           No   \n",
       "2                No             DSL            Yes          Yes   \n",
       "3  No phone service             DSL            Yes           No   \n",
       "4                No     Fiber optic             No           No   \n",
       "\n",
       "  deviceprotection techsupport streamingtv streamingmovies        contract  \\\n",
       "0               No          No          No              No  Month-to-month   \n",
       "1              Yes          No          No              No        One year   \n",
       "2               No          No          No              No  Month-to-month   \n",
       "3              Yes         Yes          No              No        One year   \n",
       "4               No          No          No              No  Month-to-month   \n",
       "\n",
       "  paperlessbilling              paymentmethod  monthlycharges totalcharges  \\\n",
       "0              Yes           Electronic check           29.85        29.85   \n",
       "1               No               Mailed check           56.95       1889.5   \n",
       "2              Yes               Mailed check           53.85       108.15   \n",
       "3               No  Bank transfer (automatic)           42.30      1840.75   \n",
       "4              Yes           Electronic check           70.70       151.65   \n",
       "\n",
       "  churn  \n",
       "0    No  \n",
       "1    No  \n",
       "2   Yes  \n",
       "3    No  \n",
       "4   Yes  "
      ]
     },
     "execution_count": 3,
     "metadata": {},
     "output_type": "execute_result"
    }
   ],
   "source": [
    "pd.set_option('display.max_columns', None)\n",
    "df.head()"
   ]
  },
  {
   "cell_type": "code",
   "execution_count": 4,
   "id": "d0efef58",
   "metadata": {},
   "outputs": [
    {
     "name": "stdout",
     "output_type": "stream",
     "text": [
      "pour la colonne customerid le nombre d'élement est de 7032\n",
      "pour la colonne gender le nombre d'élement est de 2\n",
      "pour la colonne seniorcitizen le nombre d'élement est de 2\n",
      "pour la colonne partner le nombre d'élement est de 2\n",
      "pour la colonne dependents le nombre d'élement est de 2\n",
      "pour la colonne tenure le nombre d'élement est de 72\n",
      "pour la colonne phoneservice le nombre d'élement est de 2\n",
      "pour la colonne multiplelines le nombre d'élement est de 3\n",
      "pour la colonne internetservice le nombre d'élement est de 3\n",
      "pour la colonne onlinesecurity le nombre d'élement est de 3\n",
      "pour la colonne onlinebackup le nombre d'élement est de 3\n",
      "pour la colonne deviceprotection le nombre d'élement est de 3\n",
      "pour la colonne techsupport le nombre d'élement est de 3\n",
      "pour la colonne streamingtv le nombre d'élement est de 3\n",
      "pour la colonne streamingmovies le nombre d'élement est de 3\n",
      "pour la colonne contract le nombre d'élement est de 3\n",
      "pour la colonne paperlessbilling le nombre d'élement est de 2\n",
      "pour la colonne paymentmethod le nombre d'élement est de 4\n",
      "pour la colonne monthlycharges le nombre d'élement est de 1584\n",
      "pour la colonne totalcharges le nombre d'élement est de 6530\n",
      "pour la colonne churn le nombre d'élement est de 2\n"
     ]
    }
   ],
   "source": [
    "for elem in df.columns:\n",
    "    print(f\"pour la colonne {elem} le nombre d'élement est de {len(df[elem].unique())}\")"
   ]
  },
  {
   "cell_type": "code",
   "execution_count": null,
   "id": "d29d1b43",
   "metadata": {},
   "outputs": [],
   "source": []
  },
  {
   "cell_type": "code",
   "execution_count": 5,
   "id": "5747f14c",
   "metadata": {},
   "outputs": [],
   "source": [
    "features_of_interest = [\n",
    "'gender',\n",
    "'seniorcitizen',\n",
    "'partner',\n",
    "'dependents',\n",
    "'tenure', \n",
    "'phoneservice', \n",
    "'multiplelines', \n",
    "'internetservice',\n",
    "'onlinesecurity',\n",
    "'onlinebackup', \n",
    "'deviceprotection', \n",
    "'techsupport',\n",
    "'streamingtv', \n",
    "'streamingmovies', \n",
    "'contract', \n",
    "'paperlessbilling',\n",
    "'paymentmethod', \n",
    "'monthlycharges', \n",
    "'totalcharges'\n",
    "]\n",
    "\n",
    "\n",
    "numerical_column = [\n",
    "\n",
    "'tenure', \n",
    "'monthlycharges',\n",
    "'totalcharges'\n",
    "]\n",
    "\n",
    "\n",
    "ordinal_column = [\n",
    "'seniorcitizen',\n",
    "'gender',\n",
    "'partner',\n",
    "'dependents',\n",
    "'phoneservice',\n",
    "'paperlessbilling',\n",
    "\n",
    "\n",
    "]\n",
    "\n",
    "categorical_column = [\n",
    "\n",
    "'multiplelines', \n",
    "'onlinesecurity',\n",
    "'onlinebackup', \n",
    "'deviceprotection', \n",
    "'techsupport',\n",
    "'streamingtv', \n",
    "'streamingmovies', \n",
    "'contract', \n",
    "'paymentmethod', \n",
    "\n",
    "\n",
    "]\n",
    "\n",
    "target_name = \"churn\"\n",
    "# data, target, numerical_data,categorical_data, ordinal_column = (\n",
    "#     df[features_of_interest],\n",
    "#     df[target_name],\n",
    "#     df[numerical_column],\n",
    "#     df[categorical_column]\n",
    "# )\n"
   ]
  },
  {
   "cell_type": "markdown",
   "id": "fb73e4e1",
   "metadata": {},
   "source": [
    "### Analyse exploratoire(Anova)"
   ]
  },
  {
   "cell_type": "code",
   "execution_count": 37,
   "id": "f28b0a24",
   "metadata": {},
   "outputs": [
    {
     "name": "stdout",
     "output_type": "stream",
     "text": [
      "Le résultat pour tenure\n",
      "Statistique F: 1007.5094314093412\n",
      "P-value: 9.437650217603554e-207\n",
      "\n",
      "================================================================================\n",
      "Le résultat pour monthlycharges\n",
      "Statistique F: 271.5769897682043\n",
      "P-value: 6.760843117999019e-60\n",
      "\n",
      "================================================================================\n",
      "Le résultat pour totalcharges\n",
      "Statistique F: 291.34486236649343\n",
      "P-value: 4.8768656897080145e-64\n",
      "\n",
      "================================================================================\n"
     ]
    }
   ],
   "source": [
    "\n",
    "\n",
    "from scipy.stats import f_oneway\n",
    "# Exemple de dataframe df_2_anova\n",
    "num_anova = [\n",
    "\n",
    "'tenure', \n",
    "'monthlycharges',\n",
    "'totalcharges',\n",
    "'churn'\n",
    "]\n",
    "df_2_anova = df[num_anova]\n",
    "\n",
    "\n",
    "\n",
    "# Boucle sur les colonnes discrètes\n",
    "for column in num_anova:\n",
    "    if column != 'churn':\n",
    "        # Créer les groupes selon la valeur de churn (\"Yes\" ou \"No\")\n",
    "        groups = [\n",
    "            df_2_anova[df_2_anova['churn'] == label][column].dropna()\n",
    "            for label in df_2_anova['churn'].unique()\n",
    "        ]\n",
    "        # Appliquer le test ANOVA\n",
    "        stat_anova, p_value = f_oneway(*groups)\n",
    "        \n",
    "        # Afficher les résultats de l'ANOVA\n",
    "        print(f'Le résultat pour {column}')\n",
    "        print(\"Statistique F:\", stat_anova)\n",
    "        print(\"P-value:\", p_value)\n",
    "        print('')\n",
    "        print('================================================================================')\n",
    "\n"
   ]
  },
  {
   "cell_type": "markdown",
   "id": "2548afd2",
   "metadata": {},
   "source": [
    "#### Analyse du chi2"
   ]
  },
  {
   "cell_type": "code",
   "execution_count": 43,
   "id": "8437af87",
   "metadata": {},
   "outputs": [
    {
     "name": "stdout",
     "output_type": "stream",
     "text": [
      "           Variable         Chi2  df        p-value Significance  Cramér's V  \\\n",
      "7          contract  1179.545829   2  7.326182e-257  Significant    0.409560   \n",
      "1    onlinesecurity   846.677389   2  1.400687e-184  Significant    0.346992   \n",
      "4       techsupport   824.925564   2  7.407808e-180  Significant    0.342506   \n",
      "8     paymentmethod   645.429900   3  1.426310e-139  Significant    0.302960   \n",
      "2      onlinebackup   599.175185   2  7.776099e-131  Significant    0.291902   \n",
      "3  deviceprotection   555.880327   2  1.959389e-121  Significant    0.281159   \n",
      "6   streamingmovies   374.268432   2   5.353560e-82  Significant    0.230702   \n",
      "5       streamingtv   372.456502   2   1.324641e-81  Significant    0.230143   \n",
      "0     multiplelines    11.271541   2   3.567927e-03  Significant    0.040036   \n",
      "\n",
      "  Association Strength  \n",
      "7             Moderate  \n",
      "1             Moderate  \n",
      "4             Moderate  \n",
      "8             Moderate  \n",
      "2                 Weak  \n",
      "3                 Weak  \n",
      "6                 Weak  \n",
      "5                 Weak  \n",
      "0            Very weak  \n"
     ]
    }
   ],
   "source": [
    "from scipy.stats import chi2_contingency\n",
    "import numpy as np\n",
    "import pandas as pd\n",
    "\n",
    "results = []\n",
    "\n",
    "cat_column = [\n",
    "    'multiplelines', \n",
    "    'onlinesecurity',\n",
    "    'onlinebackup', \n",
    "    'deviceprotection', \n",
    "    'techsupport',\n",
    "    'streamingtv', \n",
    "    'streamingmovies', \n",
    "    'contract', \n",
    "    'paymentmethod', \n",
    "    'churn'  # cible\n",
    "]\n",
    "\n",
    "# On isole churn\n",
    "target = 'churn'\n",
    "features = [col for col in cat_column if col != target]\n",
    "\n",
    "# Test du chi2 + Cramér's V\n",
    "for var in features:\n",
    "    contingency_table = pd.crosstab(df[var], df[target])\n",
    "\n",
    "    # Chi2\n",
    "    chi2, p, dof, expected = chi2_contingency(contingency_table)\n",
    "\n",
    "    # Cramér's V\n",
    "    n = contingency_table.sum().sum()\n",
    "    k, r = contingency_table.shape\n",
    "    cramers_v = np.sqrt(chi2 / (n * (min(k - 1, r - 1))))\n",
    "\n",
    "    # Interprétation\n",
    "    if cramers_v < 0.1:\n",
    "        strength = 'Very weak'\n",
    "    elif cramers_v < 0.3:\n",
    "        strength = 'Weak'\n",
    "    elif cramers_v < 0.5:\n",
    "        strength = 'Moderate'\n",
    "    else:\n",
    "        strength = 'Strong'\n",
    "    \n",
    "    significance = 'Significant' if p < 0.05 else 'Not significant'\n",
    "    \n",
    "    results.append([var, chi2, dof, p, significance, cramers_v, strength])\n",
    "\n",
    "# Résultats en DataFrame pour affichage clair\n",
    "results_df = pd.DataFrame(results, columns=['Variable', 'Chi2', 'df', 'p-value', 'Significance', \"Cramér's V\", 'Association Strength'])\n",
    "print(results_df.sort_values(\"Cramér's V\", ascending=False))\n"
   ]
  },
  {
   "cell_type": "code",
   "execution_count": 6,
   "id": "c7829fb7",
   "metadata": {},
   "outputs": [
    {
     "data": {
      "text/plain": [
       "((7032, 20), (7032, 1))"
      ]
     },
     "execution_count": 6,
     "metadata": {},
     "output_type": "execute_result"
    }
   ],
   "source": [
    "# Séparation train/val/test (80/20 puis 20% de train pour val)\n",
    "X = df.drop(columns=target_name)\n",
    "y=df[target_name]\n",
    "binirazer = LabelBinarizer()\n",
    "y = binirazer.fit_transform(y)\n",
    "X.shape, y.shape"
   ]
  },
  {
   "cell_type": "code",
   "execution_count": 7,
   "id": "48324313",
   "metadata": {},
   "outputs": [
    {
     "data": {
      "text/plain": [
       "((4500, 20), (1407, 20), (1125, 20), (1407, 20), (1125, 1), (1407, 1))"
      ]
     },
     "execution_count": 7,
     "metadata": {},
     "output_type": "execute_result"
    }
   ],
   "source": [
    "\n",
    "#train\n",
    "\n",
    "X_train_0, X_test, y_train_0, y_test = train_test_split(\n",
    "    X, y, test_size=0.2, random_state=42, stratify=y\n",
    ")\n",
    "\n",
    "# On prend 20% de X_train pour validation\n",
    "X_train, X_val, y_train, y_val = train_test_split(\n",
    "    X_train_0, y_train_0, test_size=0.2, random_state=42, stratify=y_train_0\n",
    ")\n",
    "X_train.shape, X_test.shape, X_val.shape, X_test.shape, y_val.shape, y_test.shape"
   ]
  },
  {
   "cell_type": "code",
   "execution_count": 8,
   "id": "ac1730ae",
   "metadata": {},
   "outputs": [
    {
     "name": "stdout",
     "output_type": "stream",
     "text": [
      "[[-0.57446809 -0.30264699 -0.39167932  0.          1.          0.\n",
      "   0.          1.          1.          1.          0.          0.\n",
      "   0.          0.          1.          1.          0.          0.\n",
      "   1.          0.          0.          0.          0.          1.\n",
      "   1.          0.          0.          1.          0.          0.\n",
      "   1.          0.          0.          0.          0.          0.\n",
      "   1.        ]\n",
      " [ 0.40425532 -0.94916842 -0.1212425   0.          1.          0.\n",
      "   0.          1.          0.          1.          0.          0.\n",
      "   0.          1.          0.          0.          1.          0.\n",
      "   0.          1.          0.          0.          1.          0.\n",
      "   0.          1.          0.          0.          1.          0.\n",
      "   0.          1.          0.          1.          0.          0.\n",
      "   0.        ]\n",
      " [ 0.21276596 -0.22487702  0.23847503  0.          0.          0.\n",
      "   0.          1.          1.          1.          0.          0.\n",
      "   1.          0.          0.          0.          0.          1.\n",
      "   1.          0.          0.          1.          0.          0.\n",
      "   0.          0.          1.          1.          0.          0.\n",
      "   0.          1.          0.          0.          1.          0.\n",
      "   0.        ]\n",
      " [-0.44680851  0.05434528 -0.23101532  0.          0.          0.\n",
      "   0.          1.          1.          0.          0.          1.\n",
      "   1.          0.          0.          1.          0.          0.\n",
      "   1.          0.          0.          1.          0.          0.\n",
      "   1.          0.          0.          1.          0.          0.\n",
      "   1.          0.          0.          0.          0.          1.\n",
      "   0.        ]\n",
      " [-0.59574468  0.09650972 -0.39508484  1.          1.          0.\n",
      "   0.          1.          1.          0.          0.          1.\n",
      "   1.          0.          0.          1.          0.          0.\n",
      "   1.          0.          0.          1.          0.          0.\n",
      "   1.          0.          0.          1.          0.          0.\n",
      "   1.          0.          0.          0.          0.          1.\n",
      "   0.        ]]\n",
      "[[-0.12765957  0.52658702  0.24572835  0.          0.          0.\n",
      "   0.          1.          1.          0.          0.          1.\n",
      "   1.          0.          0.          0.          0.          1.\n",
      "   1.          0.          0.          1.          0.          0.\n",
      "   0.          0.          1.          0.          0.          1.\n",
      "   1.          0.          0.          0.          1.          0.\n",
      "   0.        ]\n",
      " [ 0.53191489  0.452565    1.09273046  0.          0.          0.\n",
      "   0.          1.          1.          0.          0.          1.\n",
      "   1.          0.          0.          0.          0.          1.\n",
      "   0.          0.          1.          1.          0.          0.\n",
      "   0.          0.          1.          1.          0.          0.\n",
      "   0.          1.          0.          1.          0.          0.\n",
      "   0.        ]\n",
      " [-0.44680851 -0.93511361 -0.37684834  0.          0.          0.\n",
      "   0.          1.          1.          1.          0.          0.\n",
      "   0.          1.          0.          0.          1.          0.\n",
      "   0.          1.          0.          0.          1.          0.\n",
      "   0.          1.          0.          0.          1.          0.\n",
      "   1.          0.          0.          0.          0.          0.\n",
      "   1.        ]\n",
      " [ 0.25531915 -0.03935348  0.41994074  0.          1.          1.\n",
      "   1.          1.          0.          0.          0.          1.\n",
      "   1.          0.          0.          0.          0.          1.\n",
      "   0.          0.          1.          1.          0.          0.\n",
      "   0.          0.          1.          1.          0.          0.\n",
      "   0.          1.          0.          1.          0.          0.\n",
      "   0.        ]\n",
      " [ 0.91489362  0.74396814  1.93162418  0.          1.          1.\n",
      "   1.          1.          1.          0.          0.          1.\n",
      "   0.          0.          1.          0.          0.          1.\n",
      "   0.          0.          1.          1.          0.          0.\n",
      "   0.          0.          1.          0.          0.          1.\n",
      "   0.          0.          1.          1.          0.          0.\n",
      "   0.        ]]\n",
      "[[ 0.63829787  0.10025767  0.92189412  0.          0.          1.\n",
      "   1.          1.          1.          1.          0.          0.\n",
      "   1.          0.          0.          0.          0.          1.\n",
      "   1.          0.          0.          0.          0.          1.\n",
      "   0.          0.          1.          0.          0.          1.\n",
      "   0.          0.          1.          0.          1.          0.\n",
      "   0.        ]\n",
      " [-0.46808511  0.14898103 -0.26322773  0.          0.          0.\n",
      "   0.          1.          1.          0.          0.          1.\n",
      "   1.          0.          0.          0.          0.          1.\n",
      "   1.          0.          0.          1.          0.          0.\n",
      "   1.          0.          0.          1.          0.          0.\n",
      "   1.          0.          0.          1.          0.          0.\n",
      "   0.        ]\n",
      " [ 0.53191489 -0.94635746 -0.09914346  0.          0.          0.\n",
      "   0.          1.          0.          1.          0.          0.\n",
      "   0.          1.          0.          0.          1.          0.\n",
      "   0.          1.          0.          0.          1.          0.\n",
      "   0.          1.          0.          0.          1.          0.\n",
      "   0.          0.          1.          0.          0.          0.\n",
      "   1.        ]\n",
      " [-0.57446809 -0.9360506  -0.40600905  0.          0.          0.\n",
      "   0.          1.          0.          1.          0.          0.\n",
      "   0.          1.          0.          0.          1.          0.\n",
      "   0.          1.          0.          0.          1.          0.\n",
      "   0.          1.          0.          0.          1.          0.\n",
      "   1.          0.          0.          0.          0.          0.\n",
      "   1.        ]\n",
      " [ 0.89361702  0.64745842  1.81017529  0.          0.          1.\n",
      "   0.          1.          1.          0.          0.          1.\n",
      "   1.          0.          0.          0.          0.          1.\n",
      "   0.          0.          1.          1.          0.          0.\n",
      "   0.          0.          1.          0.          0.          1.\n",
      "   0.          0.          1.          1.          0.          0.\n",
      "   0.        ]]\n"
     ]
    }
   ],
   "source": [
    "# Construction du transformateur\n",
    "preprocessor = ColumnTransformer(\n",
    "    transformers=[\n",
    "        ('num', RobustScaler(), numerical_column),\n",
    "        ('ord', OrdinalEncoder(), ordinal_column),\n",
    "        ('cat', OneHotEncoder(handle_unknown='ignore'), categorical_column)\n",
    "    ]\n",
    ")\n",
    "\n",
    "# Fit sur le train uniquement\n",
    "X_train = preprocessor.fit_transform(X_train)\n",
    "X_val = preprocessor.transform(X_val)\n",
    "X_test= preprocessor.transform(X_test)\n",
    "\n",
    "# Affichage\n",
    "print(X_train[:5])\n",
    "print(X_val[:5])\n",
    "print(X_test[:5])"
   ]
  },
  {
   "cell_type": "code",
   "execution_count": 9,
   "id": "5f5fff09",
   "metadata": {},
   "outputs": [
    {
     "data": {
      "text/plain": [
       "(array([0, 1]), 2)"
      ]
     },
     "execution_count": 9,
     "metadata": {},
     "output_type": "execute_result"
    }
   ],
   "source": [
    "# Vérification des classes\n",
    "num_classes = len(np.unique(y))\n",
    "np.unique(y), num_classes"
   ]
  },
  {
   "cell_type": "code",
   "execution_count": 10,
   "id": "5f7a0af6",
   "metadata": {},
   "outputs": [
    {
     "data": {
      "text/plain": [
       "(array([[1., 0.],\n",
       "        [1., 0.],\n",
       "        [1., 0.],\n",
       "        [1., 0.],\n",
       "        [0., 1.]]),\n",
       " array([[1., 0.],\n",
       "        [1., 0.],\n",
       "        [1., 0.],\n",
       "        [1., 0.],\n",
       "        [1., 0.]]),\n",
       " array([[1., 0.],\n",
       "        [1., 0.],\n",
       "        [1., 0.],\n",
       "        [0., 1.],\n",
       "        [1., 0.]]))"
      ]
     },
     "execution_count": 10,
     "metadata": {},
     "output_type": "execute_result"
    }
   ],
   "source": [
    "# Encodage des labels en one-hot\n",
    "y_train_cat = tf.keras.utils.to_categorical(y_train, num_classes)\n",
    "y_val_cat = tf.keras.utils.to_categorical(y_val, num_classes)\n",
    "y_test_cat  = tf.keras.utils.to_categorical(y_test,  num_classes)\n",
    "y_train_cat[:5], y_val_cat[:5], y_test_cat[:5]"
   ]
  },
  {
   "cell_type": "code",
   "execution_count": 13,
   "id": "186ae485",
   "metadata": {},
   "outputs": [],
   "source": [
    "def build_model():\n",
    "    # Réseau avec 2 couches cachées de 64 neurones chacune\n",
    "    # et une couche de sortie avec activation softmax pour classification\n",
    "    model = tf.keras.Sequential([\n",
    "        tf.keras.layers.Input(shape=(X_train.shape[1],)),\n",
    "        tf.keras.layers.Dense(64, activation='relu'),\n",
    "        tf.keras.layers.Dense(64, activation='relu'),\n",
    "        tf.keras.layers.Dense(num_classes, activation='softmax')\n",
    "    ])\n",
    "\n",
    "    # Définition de la fonction de perte, de l'optimiseur et des métriques\n",
    "    model.compile(\n",
    "        optimizer=tf.keras.optimizers.Adam(learning_rate=0.001),\n",
    "        loss='categorical_crossentropy',\n",
    "        metrics=['accuracy']\n",
    "    )\n",
    "\n",
    "    model.summary()\n",
    "\n",
    "    return model"
   ]
  },
  {
   "cell_type": "code",
   "execution_count": 14,
   "id": "fc951706",
   "metadata": {},
   "outputs": [
    {
     "name": "stderr",
     "output_type": "stream",
     "text": [
      "E0000 00:00:1747743934.047824  132648 cuda_executor.cc:1228] INTERNAL: CUDA Runtime error: Failed call to cudaGetRuntimeVersion: Error loading CUDA libraries. GPU will not be used.: Error loading CUDA libraries. GPU will not be used.\n",
      "W0000 00:00:1747743934.049817  132648 gpu_device.cc:2341] Cannot dlopen some GPU libraries. Please make sure the missing libraries mentioned above are installed properly if you would like to use GPU. Follow the guide at https://www.tensorflow.org/install/gpu for how to download and setup the required libraries for your platform.\n",
      "Skipping registering GPU devices...\n"
     ]
    },
    {
     "data": {
      "text/html": [
       "<pre style=\"white-space:pre;overflow-x:auto;line-height:normal;font-family:Menlo,'DejaVu Sans Mono',consolas,'Courier New',monospace\"><span style=\"font-weight: bold\">Model: \"sequential\"</span>\n",
       "</pre>\n"
      ],
      "text/plain": [
       "\u001b[1mModel: \"sequential\"\u001b[0m\n"
      ]
     },
     "metadata": {},
     "output_type": "display_data"
    },
    {
     "data": {
      "text/html": [
       "<pre style=\"white-space:pre;overflow-x:auto;line-height:normal;font-family:Menlo,'DejaVu Sans Mono',consolas,'Courier New',monospace\">┏━━━━━━━━━━━━━━━━━━━━━━━━━━━━━━━━━┳━━━━━━━━━━━━━━━━━━━━━━━━┳━━━━━━━━━━━━━━━┓\n",
       "┃<span style=\"font-weight: bold\"> Layer (type)                    </span>┃<span style=\"font-weight: bold\"> Output Shape           </span>┃<span style=\"font-weight: bold\">       Param # </span>┃\n",
       "┡━━━━━━━━━━━━━━━━━━━━━━━━━━━━━━━━━╇━━━━━━━━━━━━━━━━━━━━━━━━╇━━━━━━━━━━━━━━━┩\n",
       "│ dense (<span style=\"color: #0087ff; text-decoration-color: #0087ff\">Dense</span>)                   │ (<span style=\"color: #00d7ff; text-decoration-color: #00d7ff\">None</span>, <span style=\"color: #00af00; text-decoration-color: #00af00\">64</span>)             │         <span style=\"color: #00af00; text-decoration-color: #00af00\">2,432</span> │\n",
       "├─────────────────────────────────┼────────────────────────┼───────────────┤\n",
       "│ dense_1 (<span style=\"color: #0087ff; text-decoration-color: #0087ff\">Dense</span>)                 │ (<span style=\"color: #00d7ff; text-decoration-color: #00d7ff\">None</span>, <span style=\"color: #00af00; text-decoration-color: #00af00\">64</span>)             │         <span style=\"color: #00af00; text-decoration-color: #00af00\">4,160</span> │\n",
       "├─────────────────────────────────┼────────────────────────┼───────────────┤\n",
       "│ dense_2 (<span style=\"color: #0087ff; text-decoration-color: #0087ff\">Dense</span>)                 │ (<span style=\"color: #00d7ff; text-decoration-color: #00d7ff\">None</span>, <span style=\"color: #00af00; text-decoration-color: #00af00\">2</span>)              │           <span style=\"color: #00af00; text-decoration-color: #00af00\">130</span> │\n",
       "└─────────────────────────────────┴────────────────────────┴───────────────┘\n",
       "</pre>\n"
      ],
      "text/plain": [
       "┏━━━━━━━━━━━━━━━━━━━━━━━━━━━━━━━━━┳━━━━━━━━━━━━━━━━━━━━━━━━┳━━━━━━━━━━━━━━━┓\n",
       "┃\u001b[1m \u001b[0m\u001b[1mLayer (type)                   \u001b[0m\u001b[1m \u001b[0m┃\u001b[1m \u001b[0m\u001b[1mOutput Shape          \u001b[0m\u001b[1m \u001b[0m┃\u001b[1m \u001b[0m\u001b[1m      Param #\u001b[0m\u001b[1m \u001b[0m┃\n",
       "┡━━━━━━━━━━━━━━━━━━━━━━━━━━━━━━━━━╇━━━━━━━━━━━━━━━━━━━━━━━━╇━━━━━━━━━━━━━━━┩\n",
       "│ dense (\u001b[38;5;33mDense\u001b[0m)                   │ (\u001b[38;5;45mNone\u001b[0m, \u001b[38;5;34m64\u001b[0m)             │         \u001b[38;5;34m2,432\u001b[0m │\n",
       "├─────────────────────────────────┼────────────────────────┼───────────────┤\n",
       "│ dense_1 (\u001b[38;5;33mDense\u001b[0m)                 │ (\u001b[38;5;45mNone\u001b[0m, \u001b[38;5;34m64\u001b[0m)             │         \u001b[38;5;34m4,160\u001b[0m │\n",
       "├─────────────────────────────────┼────────────────────────┼───────────────┤\n",
       "│ dense_2 (\u001b[38;5;33mDense\u001b[0m)                 │ (\u001b[38;5;45mNone\u001b[0m, \u001b[38;5;34m2\u001b[0m)              │           \u001b[38;5;34m130\u001b[0m │\n",
       "└─────────────────────────────────┴────────────────────────┴───────────────┘\n"
      ]
     },
     "metadata": {},
     "output_type": "display_data"
    },
    {
     "data": {
      "text/html": [
       "<pre style=\"white-space:pre;overflow-x:auto;line-height:normal;font-family:Menlo,'DejaVu Sans Mono',consolas,'Courier New',monospace\"><span style=\"font-weight: bold\"> Total params: </span><span style=\"color: #00af00; text-decoration-color: #00af00\">6,722</span> (26.26 KB)\n",
       "</pre>\n"
      ],
      "text/plain": [
       "\u001b[1m Total params: \u001b[0m\u001b[38;5;34m6,722\u001b[0m (26.26 KB)\n"
      ]
     },
     "metadata": {},
     "output_type": "display_data"
    },
    {
     "data": {
      "text/html": [
       "<pre style=\"white-space:pre;overflow-x:auto;line-height:normal;font-family:Menlo,'DejaVu Sans Mono',consolas,'Courier New',monospace\"><span style=\"font-weight: bold\"> Trainable params: </span><span style=\"color: #00af00; text-decoration-color: #00af00\">6,722</span> (26.26 KB)\n",
       "</pre>\n"
      ],
      "text/plain": [
       "\u001b[1m Trainable params: \u001b[0m\u001b[38;5;34m6,722\u001b[0m (26.26 KB)\n"
      ]
     },
     "metadata": {},
     "output_type": "display_data"
    },
    {
     "data": {
      "text/html": [
       "<pre style=\"white-space:pre;overflow-x:auto;line-height:normal;font-family:Menlo,'DejaVu Sans Mono',consolas,'Courier New',monospace\"><span style=\"font-weight: bold\"> Non-trainable params: </span><span style=\"color: #00af00; text-decoration-color: #00af00\">0</span> (0.00 B)\n",
       "</pre>\n"
      ],
      "text/plain": [
       "\u001b[1m Non-trainable params: \u001b[0m\u001b[38;5;34m0\u001b[0m (0.00 B)\n"
      ]
     },
     "metadata": {},
     "output_type": "display_data"
    }
   ],
   "source": [
    "model = build_model()"
   ]
  },
  {
   "cell_type": "code",
   "execution_count": 15,
   "id": "f7115439",
   "metadata": {},
   "outputs": [
    {
     "name": "stdout",
     "output_type": "stream",
     "text": [
      "Epoch 1/20\n",
      "\u001b[1m282/282\u001b[0m \u001b[32m━━━━━━━━━━━━━━━━━━━━\u001b[0m\u001b[37m\u001b[0m \u001b[1m2s\u001b[0m 4ms/step - accuracy: 0.7688 - loss: 0.4670 - val_accuracy: 0.7920 - val_loss: 0.4361\n",
      "Epoch 2/20\n",
      "\u001b[1m282/282\u001b[0m \u001b[32m━━━━━━━━━━━━━━━━━━━━\u001b[0m\u001b[37m\u001b[0m \u001b[1m2s\u001b[0m 6ms/step - accuracy: 0.7991 - loss: 0.4220 - val_accuracy: 0.7920 - val_loss: 0.4345\n",
      "Epoch 3/20\n",
      "\u001b[1m282/282\u001b[0m \u001b[32m━━━━━━━━━━━━━━━━━━━━\u001b[0m\u001b[37m\u001b[0m \u001b[1m2s\u001b[0m 6ms/step - accuracy: 0.8140 - loss: 0.4070 - val_accuracy: 0.7947 - val_loss: 0.4317\n",
      "Epoch 4/20\n",
      "\u001b[1m282/282\u001b[0m \u001b[32m━━━━━━━━━━━━━━━━━━━━\u001b[0m\u001b[37m\u001b[0m \u001b[1m1s\u001b[0m 4ms/step - accuracy: 0.8056 - loss: 0.4006 - val_accuracy: 0.7813 - val_loss: 0.4481\n",
      "Epoch 5/20\n",
      "\u001b[1m282/282\u001b[0m \u001b[32m━━━━━━━━━━━━━━━━━━━━\u001b[0m\u001b[37m\u001b[0m \u001b[1m2s\u001b[0m 6ms/step - accuracy: 0.8118 - loss: 0.4003 - val_accuracy: 0.7884 - val_loss: 0.4338\n",
      "Epoch 6/20\n",
      "\u001b[1m282/282\u001b[0m \u001b[32m━━━━━━━━━━━━━━━━━━━━\u001b[0m\u001b[37m\u001b[0m \u001b[1m1s\u001b[0m 2ms/step - accuracy: 0.8158 - loss: 0.3908 - val_accuracy: 0.7884 - val_loss: 0.4357\n",
      "Epoch 7/20\n",
      "\u001b[1m282/282\u001b[0m \u001b[32m━━━━━━━━━━━━━━━━━━━━\u001b[0m\u001b[37m\u001b[0m \u001b[1m2s\u001b[0m 6ms/step - accuracy: 0.8139 - loss: 0.3871 - val_accuracy: 0.7893 - val_loss: 0.4379\n",
      "Epoch 8/20\n",
      "\u001b[1m282/282\u001b[0m \u001b[32m━━━━━━━━━━━━━━━━━━━━\u001b[0m\u001b[37m\u001b[0m \u001b[1m2s\u001b[0m 6ms/step - accuracy: 0.8053 - loss: 0.4078 - val_accuracy: 0.7778 - val_loss: 0.4501\n",
      "Epoch 9/20\n",
      "\u001b[1m282/282\u001b[0m \u001b[32m━━━━━━━━━━━━━━━━━━━━\u001b[0m\u001b[37m\u001b[0m \u001b[1m2s\u001b[0m 6ms/step - accuracy: 0.8150 - loss: 0.3930 - val_accuracy: 0.7822 - val_loss: 0.4448\n",
      "Epoch 10/20\n",
      "\u001b[1m282/282\u001b[0m \u001b[32m━━━━━━━━━━━━━━━━━━━━\u001b[0m\u001b[37m\u001b[0m \u001b[1m2s\u001b[0m 6ms/step - accuracy: 0.8255 - loss: 0.3806 - val_accuracy: 0.7787 - val_loss: 0.4525\n",
      "Epoch 11/20\n",
      "\u001b[1m282/282\u001b[0m \u001b[32m━━━━━━━━━━━━━━━━━━━━\u001b[0m\u001b[37m\u001b[0m \u001b[1m2s\u001b[0m 6ms/step - accuracy: 0.8227 - loss: 0.3760 - val_accuracy: 0.7876 - val_loss: 0.4624\n",
      "Epoch 12/20\n",
      "\u001b[1m282/282\u001b[0m \u001b[32m━━━━━━━━━━━━━━━━━━━━\u001b[0m\u001b[37m\u001b[0m \u001b[1m2s\u001b[0m 5ms/step - accuracy: 0.8234 - loss: 0.3774 - val_accuracy: 0.7822 - val_loss: 0.4566\n",
      "Epoch 13/20\n",
      "\u001b[1m282/282\u001b[0m \u001b[32m━━━━━━━━━━━━━━━━━━━━\u001b[0m\u001b[37m\u001b[0m \u001b[1m2s\u001b[0m 6ms/step - accuracy: 0.8283 - loss: 0.3665 - val_accuracy: 0.7796 - val_loss: 0.4679\n",
      "Epoch 14/20\n",
      "\u001b[1m282/282\u001b[0m \u001b[32m━━━━━━━━━━━━━━━━━━━━\u001b[0m\u001b[37m\u001b[0m \u001b[1m2s\u001b[0m 6ms/step - accuracy: 0.8286 - loss: 0.3500 - val_accuracy: 0.7787 - val_loss: 0.4615\n",
      "Epoch 15/20\n",
      "\u001b[1m282/282\u001b[0m \u001b[32m━━━━━━━━━━━━━━━━━━━━\u001b[0m\u001b[37m\u001b[0m \u001b[1m2s\u001b[0m 5ms/step - accuracy: 0.8305 - loss: 0.3531 - val_accuracy: 0.7778 - val_loss: 0.4619\n",
      "Epoch 16/20\n",
      "\u001b[1m282/282\u001b[0m \u001b[32m━━━━━━━━━━━━━━━━━━━━\u001b[0m\u001b[37m\u001b[0m \u001b[1m1s\u001b[0m 4ms/step - accuracy: 0.8268 - loss: 0.3583 - val_accuracy: 0.7804 - val_loss: 0.4742\n",
      "Epoch 17/20\n",
      "\u001b[1m282/282\u001b[0m \u001b[32m━━━━━━━━━━━━━━━━━━━━\u001b[0m\u001b[37m\u001b[0m \u001b[1m2s\u001b[0m 6ms/step - accuracy: 0.8470 - loss: 0.3396 - val_accuracy: 0.7707 - val_loss: 0.4714\n",
      "Epoch 18/20\n",
      "\u001b[1m282/282\u001b[0m \u001b[32m━━━━━━━━━━━━━━━━━━━━\u001b[0m\u001b[37m\u001b[0m \u001b[1m2s\u001b[0m 6ms/step - accuracy: 0.8464 - loss: 0.3351 - val_accuracy: 0.7769 - val_loss: 0.4817\n",
      "Epoch 19/20\n",
      "\u001b[1m282/282\u001b[0m \u001b[32m━━━━━━━━━━━━━━━━━━━━\u001b[0m\u001b[37m\u001b[0m \u001b[1m2s\u001b[0m 6ms/step - accuracy: 0.8508 - loss: 0.3267 - val_accuracy: 0.7831 - val_loss: 0.4859\n",
      "Epoch 20/20\n",
      "\u001b[1m282/282\u001b[0m \u001b[32m━━━━━━━━━━━━━━━━━━━━\u001b[0m\u001b[37m\u001b[0m \u001b[1m1s\u001b[0m 4ms/step - accuracy: 0.8398 - loss: 0.3342 - val_accuracy: 0.7876 - val_loss: 0.4777\n"
     ]
    }
   ],
   "source": [
    "history = model.fit(\n",
    "    X_train, y_train_cat,\n",
    "    validation_data=(X_val, y_val_cat),\n",
    "    epochs=20,\n",
    "    batch_size=16,\n",
    "    verbose=1\n",
    ")"
   ]
  },
  {
   "cell_type": "code",
   "execution_count": 16,
   "id": "1bd35495",
   "metadata": {},
   "outputs": [
    {
     "name": "stdout",
     "output_type": "stream",
     "text": [
      "\n",
      "Accuracy sur le test set : 0.7854\n"
     ]
    }
   ],
   "source": [
    "test_loss, test_acc = model.evaluate(X_test, y_test_cat, verbose=0)\n",
    "print(f\"\\nAccuracy sur le test set : {test_acc:.4f}\")"
   ]
  },
  {
   "cell_type": "code",
   "execution_count": 16,
   "id": "99e983c5",
   "metadata": {},
   "outputs": [
    {
     "name": "stdout",
     "output_type": "stream",
     "text": [
      "\u001b[1m44/44\u001b[0m \u001b[32m━━━━━━━━━━━━━━━━━━━━\u001b[0m\u001b[37m\u001b[0m \u001b[1m0s\u001b[0m 2ms/step\n",
      "\n",
      "Classification Report :\n",
      "              precision    recall  f1-score   support\n",
      "\n",
      "         Yes       0.85      0.86      0.86      1033\n",
      "          No       0.60      0.58      0.59       374\n",
      "\n",
      "    accuracy                           0.79      1407\n",
      "   macro avg       0.73      0.72      0.72      1407\n",
      "weighted avg       0.78      0.79      0.79      1407\n",
      "\n"
     ]
    }
   ],
   "source": [
    "y_pred_probs = model.predict(X_test)\n",
    "y_pred = np.argmax(y_pred_probs, axis=1)\n",
    "print(\"\\nClassification Report :\")\n",
    "print(classification_report(y_test, y_pred, target_names=['Yes','No']))"
   ]
  },
  {
   "cell_type": "code",
   "execution_count": 17,
   "id": "bc44d21a",
   "metadata": {},
   "outputs": [
    {
     "name": "stdout",
     "output_type": "stream",
     "text": [
      "Matrice de Confusion :\n",
      "[[891 142]\n",
      " [158 216]]\n"
     ]
    }
   ],
   "source": [
    "print(\"Matrice de Confusion :\")\n",
    "cm = confusion_matrix(y_test, y_pred)\n",
    "print(cm)"
   ]
  },
  {
   "cell_type": "code",
   "execution_count": 38,
   "id": "56eca9c6",
   "metadata": {},
   "outputs": [
    {
     "data": {
      "image/png": "[encoded data removed]",
      "text/plain": [
       "<Figure size 800x600 with 2 Axes>"
      ]
     },
     "metadata": {},
     "output_type": "display_data"
    }
   ],
   "source": [
    "import seaborn as sns\n",
    "import matplotlib.pyplot as plt\n",
    "\n",
    "plt.figure(figsize=(8, 6))\n",
    "sns.heatmap(cm, annot=True, fmt='d', cmap='Blues', xticklabels=df.churn.unique(), yticklabels=df.churn.unique())\n",
    "plt.title(\"Matrice de Confusion\")\n",
    "plt.xlabel(\"Classe Prédite\")\n",
    "plt.ylabel(\"Classe Réelle\")\n",
    "plt.show()"
   ]
  },
  {
   "cell_type": "code",
   "execution_count": null,
   "id": "2b8bedee",
   "metadata": {},
   "outputs": [
    {
     "ename": "TypeError",
     "evalue": "Sequential.add() got an unexpected keyword argument 'learning_rate'",
     "output_type": "error",
     "traceback": [
      "\u001b[31m---------------------------------------------------------------------------\u001b[39m",
      "\u001b[31mTypeError\u001b[39m                                 Traceback (most recent call last)",
      "\u001b[36mCell\u001b[39m\u001b[36m \u001b[39m\u001b[32mIn[39]\u001b[39m\u001b[32m, line 45\u001b[39m\n\u001b[32m     36\u001b[39m   \u001b[38;5;28;01mreturn\u001b[39;00m model\n\u001b[32m     38\u001b[39m \u001b[38;5;66;03m# On instancie le tuner\u001b[39;00m\n\u001b[32m     39\u001b[39m \u001b[38;5;66;03m# tuner = kt.RandomSearch(\u001b[39;00m\n\u001b[32m     40\u001b[39m \u001b[38;5;66;03m#     build_model,\u001b[39;00m\n\u001b[32m   (...)\u001b[39m\u001b[32m     43\u001b[39m \u001b[38;5;66;03m#     project_name='churn_tuning',\u001b[39;00m\n\u001b[32m     44\u001b[39m \u001b[38;5;66;03m# )\u001b[39;00m\n\u001b[32m---> \u001b[39m\u001b[32m45\u001b[39m tuner = \u001b[43mkt\u001b[49m\u001b[43m.\u001b[49m\u001b[43mGridSearch\u001b[49m\u001b[43m(\u001b[49m\n\u001b[32m     46\u001b[39m \u001b[43m    \u001b[49m\u001b[43mbuild_model\u001b[49m\u001b[43m,\u001b[49m\n\u001b[32m     47\u001b[39m \u001b[43m    \u001b[49m\u001b[43mobjective\u001b[49m\u001b[43m=\u001b[49m\u001b[33;43m'\u001b[39;49m\u001b[33;43mval_recall\u001b[39;49m\u001b[33;43m'\u001b[39;49m\u001b[43m,\u001b[49m\n\u001b[32m     48\u001b[39m \u001b[43m    \u001b[49m\u001b[43mmax_trials\u001b[49m\u001b[43m=\u001b[49m\u001b[32;43m25\u001b[39;49m\u001b[43m,\u001b[49m\n\u001b[32m     49\u001b[39m \u001b[43m    \u001b[49m\u001b[43mdirectory\u001b[49m\u001b[43m=\u001b[49m\u001b[33;43m'\u001b[39;49m\u001b[33;43mmy_dir\u001b[39;49m\u001b[33;43m'\u001b[39;49m\u001b[43m,\u001b[49m\n\u001b[32m     50\u001b[39m \u001b[43m    \u001b[49m\u001b[43mproject_name\u001b[49m\u001b[43m=\u001b[49m\u001b[33;43m'\u001b[39;49m\u001b[33;43mchurn_gridsearch\u001b[39;49m\u001b[33;43m'\u001b[39;49m\n\u001b[32m     51\u001b[39m \u001b[43m)\u001b[49m\n",
      "\u001b[36mFile \u001b[39m\u001b[32m~/Documents/Simplon/deep_learning_brief/.venv/lib/python3.12/site-packages/keras_tuner/src/tuners/gridsearch.py:419\u001b[39m, in \u001b[36mGridSearch.__init__\u001b[39m\u001b[34m(self, hypermodel, objective, max_trials, seed, hyperparameters, tune_new_entries, allow_new_entries, max_retries_per_trial, max_consecutive_failed_trials, **kwargs)\u001b[39m\n\u001b[32m    408\u001b[39m \u001b[38;5;28mself\u001b[39m.seed = seed\n\u001b[32m    409\u001b[39m oracle = GridSearchOracle(\n\u001b[32m    410\u001b[39m     objective=objective,\n\u001b[32m    411\u001b[39m     max_trials=max_trials,\n\u001b[32m   (...)\u001b[39m\u001b[32m    417\u001b[39m     max_consecutive_failed_trials=max_consecutive_failed_trials,\n\u001b[32m    418\u001b[39m )\n\u001b[32m--> \u001b[39m\u001b[32m419\u001b[39m \u001b[38;5;28;43msuper\u001b[39;49m\u001b[43m(\u001b[49m\u001b[43m)\u001b[49m\u001b[43m.\u001b[49m\u001b[34;43m__init__\u001b[39;49m\u001b[43m(\u001b[49m\u001b[43moracle\u001b[49m\u001b[43m,\u001b[49m\u001b[43m \u001b[49m\u001b[43mhypermodel\u001b[49m\u001b[43m,\u001b[49m\u001b[43m \u001b[49m\u001b[43m*\u001b[49m\u001b[43m*\u001b[49m\u001b[43mkwargs\u001b[49m\u001b[43m)\u001b[49m\n",
      "\u001b[36mFile \u001b[39m\u001b[32m~/Documents/Simplon/deep_learning_brief/.venv/lib/python3.12/site-packages/keras_tuner/src/engine/tuner.py:122\u001b[39m, in \u001b[36mTuner.__init__\u001b[39m\u001b[34m(self, oracle, hypermodel, max_model_size, optimizer, loss, metrics, distribution_strategy, directory, project_name, logger, tuner_id, overwrite, executions_per_trial, **kwargs)\u001b[39m\n\u001b[32m    114\u001b[39m \u001b[38;5;28;01mif\u001b[39;00m hypermodel \u001b[38;5;129;01mis\u001b[39;00m \u001b[38;5;28;01mNone\u001b[39;00m \u001b[38;5;129;01mand\u001b[39;00m \u001b[38;5;28mself\u001b[39m.\u001b[34m__class__\u001b[39m.run_trial \u001b[38;5;129;01mis\u001b[39;00m Tuner.run_trial:\n\u001b[32m    115\u001b[39m     \u001b[38;5;28;01mraise\u001b[39;00m \u001b[38;5;167;01mValueError\u001b[39;00m(\n\u001b[32m    116\u001b[39m         \u001b[33m\"\u001b[39m\u001b[33mReceived `hypermodel=None`. We only allow not specifying \u001b[39m\u001b[33m\"\u001b[39m\n\u001b[32m    117\u001b[39m         \u001b[33m\"\u001b[39m\u001b[33m`hypermodel` if the user defines the search space in \u001b[39m\u001b[33m\"\u001b[39m\n\u001b[32m    118\u001b[39m         \u001b[33m\"\u001b[39m\u001b[33m`Tuner.run_trial()` by subclassing a `Tuner` class without \u001b[39m\u001b[33m\"\u001b[39m\n\u001b[32m    119\u001b[39m         \u001b[33m\"\u001b[39m\u001b[33musing a `HyperModel` instance.\u001b[39m\u001b[33m\"\u001b[39m\n\u001b[32m    120\u001b[39m     )\n\u001b[32m--> \u001b[39m\u001b[32m122\u001b[39m \u001b[38;5;28;43msuper\u001b[39;49m\u001b[43m(\u001b[49m\u001b[43m)\u001b[49m\u001b[43m.\u001b[49m\u001b[34;43m__init__\u001b[39;49m\u001b[43m(\u001b[49m\n\u001b[32m    123\u001b[39m \u001b[43m    \u001b[49m\u001b[43moracle\u001b[49m\u001b[43m=\u001b[49m\u001b[43moracle\u001b[49m\u001b[43m,\u001b[49m\n\u001b[32m    124\u001b[39m \u001b[43m    \u001b[49m\u001b[43mhypermodel\u001b[49m\u001b[43m=\u001b[49m\u001b[43mhypermodel\u001b[49m\u001b[43m,\u001b[49m\n\u001b[32m    125\u001b[39m \u001b[43m    \u001b[49m\u001b[43mdirectory\u001b[49m\u001b[43m=\u001b[49m\u001b[43mdirectory\u001b[49m\u001b[43m,\u001b[49m\n\u001b[32m    126\u001b[39m \u001b[43m    \u001b[49m\u001b[43mproject_name\u001b[49m\u001b[43m=\u001b[49m\u001b[43mproject_name\u001b[49m\u001b[43m,\u001b[49m\n\u001b[32m    127\u001b[39m \u001b[43m    \u001b[49m\u001b[43mlogger\u001b[49m\u001b[43m=\u001b[49m\u001b[43mlogger\u001b[49m\u001b[43m,\u001b[49m\n\u001b[32m    128\u001b[39m \u001b[43m    \u001b[49m\u001b[43moverwrite\u001b[49m\u001b[43m=\u001b[49m\u001b[43moverwrite\u001b[49m\u001b[43m,\u001b[49m\n\u001b[32m    129\u001b[39m \u001b[43m    \u001b[49m\u001b[43m*\u001b[49m\u001b[43m*\u001b[49m\u001b[43mkwargs\u001b[49m\u001b[43m,\u001b[49m\n\u001b[32m    130\u001b[39m \u001b[43m\u001b[49m\u001b[43m)\u001b[49m\n\u001b[32m    132\u001b[39m \u001b[38;5;28mself\u001b[39m.max_model_size = max_model_size\n\u001b[32m    133\u001b[39m \u001b[38;5;28mself\u001b[39m.optimizer = optimizer\n",
      "\u001b[36mFile \u001b[39m\u001b[32m~/Documents/Simplon/deep_learning_brief/.venv/lib/python3.12/site-packages/keras_tuner/src/engine/base_tuner.py:132\u001b[39m, in \u001b[36mBaseTuner.__init__\u001b[39m\u001b[34m(self, oracle, hypermodel, directory, project_name, overwrite, **kwargs)\u001b[39m\n\u001b[32m    129\u001b[39m     \u001b[38;5;28mself\u001b[39m.reload()\n\u001b[32m    130\u001b[39m \u001b[38;5;28;01melse\u001b[39;00m:\n\u001b[32m    131\u001b[39m     \u001b[38;5;66;03m# Only populate initial space if not reloading.\u001b[39;00m\n\u001b[32m--> \u001b[39m\u001b[32m132\u001b[39m     \u001b[38;5;28;43mself\u001b[39;49m\u001b[43m.\u001b[49m\u001b[43m_populate_initial_space\u001b[49m\u001b[43m(\u001b[49m\u001b[43m)\u001b[49m\n\u001b[32m    134\u001b[39m \u001b[38;5;66;03m# Run in distributed mode.\u001b[39;00m\n\u001b[32m    135\u001b[39m \u001b[38;5;28;01mif\u001b[39;00m dist_utils.has_chief_oracle() \u001b[38;5;129;01mand\u001b[39;00m \u001b[38;5;129;01mnot\u001b[39;00m dist_utils.is_chief_oracle():\n\u001b[32m    136\u001b[39m     \u001b[38;5;66;03m# Proxies requests to the chief oracle.\u001b[39;00m\n\u001b[32m    137\u001b[39m     \u001b[38;5;66;03m# Avoid import at the top, to avoid inconsistent protobuf versions.\u001b[39;00m\n",
      "\u001b[36mFile \u001b[39m\u001b[32m~/Documents/Simplon/deep_learning_brief/.venv/lib/python3.12/site-packages/keras_tuner/src/engine/base_tuner.py:192\u001b[39m, in \u001b[36mBaseTuner._populate_initial_space\u001b[39m\u001b[34m(self)\u001b[39m\n\u001b[32m    190\u001b[39m \u001b[38;5;28mself\u001b[39m.hypermodel.declare_hyperparameters(hp)\n\u001b[32m    191\u001b[39m \u001b[38;5;28mself\u001b[39m.oracle.update_space(hp)\n\u001b[32m--> \u001b[39m\u001b[32m192\u001b[39m \u001b[38;5;28;43mself\u001b[39;49m\u001b[43m.\u001b[49m\u001b[43m_activate_all_conditions\u001b[49m\u001b[43m(\u001b[49m\u001b[43m)\u001b[49m\n",
      "\u001b[36mFile \u001b[39m\u001b[32m~/Documents/Simplon/deep_learning_brief/.venv/lib/python3.12/site-packages/keras_tuner/src/engine/base_tuner.py:149\u001b[39m, in \u001b[36mBaseTuner._activate_all_conditions\u001b[39m\u001b[34m(self)\u001b[39m\n\u001b[32m    147\u001b[39m hp = \u001b[38;5;28mself\u001b[39m.oracle.get_space()\n\u001b[32m    148\u001b[39m \u001b[38;5;28;01mwhile\u001b[39;00m \u001b[38;5;28;01mTrue\u001b[39;00m:\n\u001b[32m--> \u001b[39m\u001b[32m149\u001b[39m     \u001b[38;5;28;43mself\u001b[39;49m\u001b[43m.\u001b[49m\u001b[43mhypermodel\u001b[49m\u001b[43m.\u001b[49m\u001b[43mbuild\u001b[49m\u001b[43m(\u001b[49m\u001b[43mhp\u001b[49m\u001b[43m)\u001b[49m\n\u001b[32m    150\u001b[39m     \u001b[38;5;28mself\u001b[39m.oracle.update_space(hp)\n\u001b[32m    152\u001b[39m     \u001b[38;5;66;03m# Update the recorded scopes.\u001b[39;00m\n",
      "\u001b[36mCell\u001b[39m\u001b[36m \u001b[39m\u001b[32mIn[39]\u001b[39m\u001b[32m, line 15\u001b[39m, in \u001b[36mbuild_model\u001b[39m\u001b[34m(hp)\u001b[39m\n\u001b[32m     11\u001b[39m   model = tf.keras.Sequential()\n\u001b[32m     13\u001b[39m   model.add(tf.keras.layers.Input(shape=(X_train.shape[\u001b[32m1\u001b[39m],)))\n\u001b[32m---> \u001b[39m\u001b[32m15\u001b[39m   \u001b[43mmodel\u001b[49m\u001b[43m.\u001b[49m\u001b[43madd\u001b[49m\u001b[43m(\u001b[49m\u001b[43mtf\u001b[49m\u001b[43m.\u001b[49m\u001b[43mkeras\u001b[49m\u001b[43m.\u001b[49m\u001b[43mlayers\u001b[49m\u001b[43m.\u001b[49m\u001b[43mDense\u001b[49m\u001b[43m(\u001b[49m\n\u001b[32m     16\u001b[39m \u001b[43m      \u001b[49m\u001b[43mhp\u001b[49m\u001b[43m.\u001b[49m\u001b[43mChoice\u001b[49m\u001b[43m(\u001b[49m\u001b[33;43m'\u001b[39;49m\u001b[33;43munits\u001b[39;49m\u001b[33;43m'\u001b[39;49m\u001b[43m,\u001b[49m\u001b[43m \u001b[49m\u001b[43m[\u001b[49m\u001b[32;43m8\u001b[39;49m\u001b[43m,\u001b[49m\u001b[43m \u001b[49m\u001b[32;43m16\u001b[39;49m\u001b[43m,\u001b[49m\u001b[43m \u001b[49m\u001b[32;43m32\u001b[39;49m\u001b[43m,\u001b[49m\u001b[43m \u001b[49m\u001b[32;43m64\u001b[39;49m\u001b[43m,\u001b[49m\u001b[43m \u001b[49m\u001b[32;43m128\u001b[39;49m\u001b[43m]\u001b[49m\u001b[43m)\u001b[49m\u001b[43m,\u001b[49m\n\u001b[32m     17\u001b[39m \u001b[43m      \u001b[49m\u001b[43mactivation\u001b[49m\u001b[43m=\u001b[49m\u001b[43mhp\u001b[49m\u001b[43m.\u001b[49m\u001b[43mChoice\u001b[49m\u001b[43m(\u001b[49m\u001b[33;43m'\u001b[39;49m\u001b[33;43mactivation\u001b[39;49m\u001b[33;43m'\u001b[39;49m\u001b[43m,\u001b[49m\u001b[43m \u001b[49m\u001b[43m[\u001b[49m\u001b[33;43m'\u001b[39;49m\u001b[33;43mrelu\u001b[39;49m\u001b[33;43m'\u001b[39;49m\u001b[43m,\u001b[49m\u001b[33;43m'\u001b[39;49m\u001b[33;43msigmoid\u001b[39;49m\u001b[33;43m'\u001b[39;49m\u001b[43m]\u001b[49m\u001b[43m)\u001b[49m\u001b[43m)\u001b[49m\u001b[43m,\u001b[49m\n\u001b[32m     18\u001b[39m \u001b[43m      \u001b[49m\u001b[43mlearning_rate\u001b[49m\u001b[43m \u001b[49m\u001b[43m=\u001b[49m\u001b[43m \u001b[49m\u001b[43mhp\u001b[49m\u001b[43m.\u001b[49m\u001b[43mFloat\u001b[49m\u001b[43m(\u001b[49m\u001b[33;43m'\u001b[39;49m\u001b[33;43mlearning_rate\u001b[39;49m\u001b[33;43m'\u001b[39;49m\u001b[43m,\u001b[49m\u001b[43m \u001b[49m\u001b[43mmin_value\u001b[49m\u001b[43m=\u001b[49m\u001b[32;43m1e-4\u001b[39;49m\u001b[43m,\u001b[49m\u001b[43m \u001b[49m\u001b[43mmax_value\u001b[49m\u001b[43m=\u001b[49m\u001b[32;43m1e-2\u001b[39;49m\u001b[43m,\u001b[49m\u001b[43m \u001b[49m\u001b[43msampling\u001b[49m\u001b[43m=\u001b[49m\u001b[33;43m'\u001b[39;49m\u001b[33;43mlog\u001b[39;49m\u001b[33;43m'\u001b[39;49m\u001b[43m)\u001b[49m\u001b[43m,\u001b[49m\n\u001b[32m     19\u001b[39m \u001b[43m      \u001b[49m\u001b[43mbatch_size\u001b[49m\u001b[43m \u001b[49m\u001b[43m=\u001b[49m\u001b[43m \u001b[49m\u001b[43mhp\u001b[49m\u001b[43m.\u001b[49m\u001b[43mInt\u001b[49m\u001b[43m(\u001b[49m\u001b[33;43m'\u001b[39;49m\u001b[33;43mbatch_size\u001b[39;49m\u001b[33;43m'\u001b[39;49m\u001b[43m,\u001b[49m\u001b[43m \u001b[49m\u001b[43mmin_value\u001b[49m\u001b[43m=\u001b[49m\u001b[32;43m16\u001b[39;49m\u001b[43m,\u001b[49m\u001b[43m \u001b[49m\u001b[43mmax_value\u001b[49m\u001b[43m=\u001b[49m\u001b[32;43m128\u001b[39;49m\u001b[43m,\u001b[49m\u001b[43m \u001b[49m\u001b[43mstep\u001b[49m\u001b[43m=\u001b[49m\u001b[32;43m16\u001b[39;49m\u001b[43m)\u001b[49m\n\u001b[32m     20\u001b[39m \u001b[43m)\u001b[49m\n\u001b[32m     22\u001b[39m   model.add(tf.keras.layers.Dense(\n\u001b[32m     23\u001b[39m       hp.Choice(\u001b[33m'\u001b[39m\u001b[33munits2\u001b[39m\u001b[33m'\u001b[39m, [\u001b[32m8\u001b[39m, \u001b[32m16\u001b[39m, \u001b[32m32\u001b[39m, \u001b[32m64\u001b[39m, \u001b[32m128\u001b[39m]),\n\u001b[32m     24\u001b[39m       activation=hp.Choice(\u001b[33m'\u001b[39m\u001b[33mactivation2\u001b[39m\u001b[33m'\u001b[39m, [\u001b[33m'\u001b[39m\u001b[33mrelu\u001b[39m\u001b[33m'\u001b[39m, \u001b[33m'\u001b[39m\u001b[33msigmoid\u001b[39m\u001b[33m'\u001b[39m])),\n\u001b[32m     25\u001b[39m       learning_rate = hp.Float(\u001b[33m'\u001b[39m\u001b[33mlearning_rate\u001b[39m\u001b[33m'\u001b[39m, min_value=\u001b[32m1e-4\u001b[39m, max_value=\u001b[32m1e-2\u001b[39m, sampling=\u001b[33m'\u001b[39m\u001b[33mlog\u001b[39m\u001b[33m'\u001b[39m),\n\u001b[32m     26\u001b[39m       batch_size = hp.Int(\u001b[33m'\u001b[39m\u001b[33mbatch_size\u001b[39m\u001b[33m'\u001b[39m, min_value=\u001b[32m16\u001b[39m, max_value=\u001b[32m128\u001b[39m, step=\u001b[32m16\u001b[39m)\n\u001b[32m     27\u001b[39m )\n\u001b[32m     29\u001b[39m   model.add(tf.keras.layers.Dense(num_classes, activation=\u001b[33m'\u001b[39m\u001b[33msoftmax\u001b[39m\u001b[33m'\u001b[39m))\n",
      "\u001b[31mTypeError\u001b[39m: Sequential.add() got an unexpected keyword argument 'learning_rate'"
     ]
    }
   ],
   "source": [
    "early_stop = tf.keras.callbacks.EarlyStopping(\n",
    "    monitor='val_loss',    # surveille la perte de validation\n",
    "    patience=3,            # tolère 3 époques sans amélioration\n",
    "    restore_best_weights=True\n",
    ")\n",
    "\n",
    "\n",
    "import keras_tuner as kt\n",
    "\n",
    "def build_model(hp):\n",
    "  model = tf.keras.Sequential()\n",
    "\n",
    "  model.add(tf.keras.layers.Input(shape=(X_train.shape[1],)))\n",
    "\n",
    "  model.add(tf.keras.layers.Dense(\n",
    "      hp.Choice('units', [8, 16, 32, 64, 128]),\n",
    "      activation=hp.Choice('activation', ['relu','sigmoid'])),\n",
    "      learning_rate = hp.Float('learning_rate', min_value=1e-4, max_value=1e-2, sampling='log'),\n",
    "      batch_size = hp.Int('batch_size', min_value=16, max_value=128, step=16)\n",
    ")\n",
    "  \n",
    "  model.add(tf.keras.layers.Dense(\n",
    "      hp.Choice('units2', [8, 16, 32, 64, 128]),\n",
    "      activation=hp.Choice('activation2', ['relu', 'sigmoid'])),\n",
    "      learning_rate = hp.Float('learning_rate', min_value=1e-4, max_value=1e-2, sampling='log'),\n",
    "      batch_size = hp.Int('batch_size', min_value=16, max_value=128, step=16)\n",
    ")\n",
    "  \n",
    "  model.add(tf.keras.layers.Dense(num_classes, activation='softmax'))\n",
    "\n",
    "  model.compile(\n",
    "      ptimizer = kt.Choice('optimizer', values=['adam', 'rmsprop']),\n",
    "      loss='categorical_crossentropy',\n",
    "      metrics=['accuracy','roc_auc_score']\n",
    "  )\n",
    "  return model\n",
    "\n",
    "# On instancie le tuner\n",
    "# tuner = kt.RandomSearch(\n",
    "#     build_model,\n",
    "#     objective='val_loss',\n",
    "#     max_trials=10,\n",
    "#     project_name='churn_tuning',\n",
    "# )\n",
    "tuner = kt.GridSearch(\n",
    "    build_model,\n",
    "    objective='val_recall',\n",
    "    directory='my_dir',\n",
    "    project_name='churn_gridsearch'\n",
    ")\n"
   ]
  },
  {
   "cell_type": "code",
   "execution_count": 41,
   "id": "7228c1dd",
   "metadata": {},
   "outputs": [
    {
     "name": "stdout",
     "output_type": "stream",
     "text": [
      "\n",
      "Search: Running Trial #1\n",
      "\n",
      "Value             |Best Value So Far |Hyperparameter\n",
      "8                 |8                 |units\n",
      "relu              |relu              |activation\n",
      "8                 |8                 |units2\n",
      "relu              |relu              |activation2\n",
      "0.0001            |0.0001            |learning_rate\n",
      "\n",
      "Epoch 1/20\n",
      "\u001b[1m141/141\u001b[0m \u001b[32m━━━━━━━━━━━━━━━━━━━━\u001b[0m\u001b[37m\u001b[0m \u001b[1m2s\u001b[0m 3ms/step - AUC: 0.3367 - loss: 0.6674 - recall: 0.0294 - val_AUC: 0.3906 - val_loss: 0.6385 - val_recall: 0.0067\n",
      "Epoch 2/20\n",
      "\u001b[1m141/141\u001b[0m \u001b[32m━━━━━━━━━━━━━━━━━━━━\u001b[0m\u001b[37m\u001b[0m \u001b[1m0s\u001b[0m 2ms/step - AUC: 0.4219 - loss: 0.6332 - recall: 0.0037 - val_AUC: 0.4860 - val_loss: 0.6080 - val_recall: 0.0033\n",
      "Epoch 3/20\n",
      "\u001b[1m141/141\u001b[0m \u001b[32m━━━━━━━━━━━━━━━━━━━━\u001b[0m\u001b[37m\u001b[0m \u001b[1m0s\u001b[0m 2ms/step - AUC: 0.5248 - loss: 0.6020 - recall: 9.6699e-04 - val_AUC: 0.5876 - val_loss: 0.5828 - val_recall: 0.0033\n",
      "Epoch 4/20\n",
      "\u001b[1m141/141\u001b[0m \u001b[32m━━━━━━━━━━━━━━━━━━━━\u001b[0m\u001b[37m\u001b[0m \u001b[1m0s\u001b[0m 2ms/step - AUC: 0.6109 - loss: 0.5819 - recall: 0.0000e+00 - val_AUC: 0.6649 - val_loss: 0.5616 - val_recall: 0.0000e+00\n",
      "Epoch 5/20\n",
      "\u001b[1m141/141\u001b[0m \u001b[32m━━━━━━━━━━━━━━━━━━━━\u001b[0m\u001b[37m\u001b[0m \u001b[1m0s\u001b[0m 2ms/step - AUC: 0.6783 - loss: 0.5478 - recall: 0.0000e+00 - val_AUC: 0.7172 - val_loss: 0.5441 - val_recall: 0.0000e+00\n",
      "Epoch 6/20\n",
      "\u001b[1m141/141\u001b[0m \u001b[32m━━━━━━━━━━━━━━━━━━━━\u001b[0m\u001b[37m\u001b[0m \u001b[1m0s\u001b[0m 2ms/step - AUC: 0.7290 - loss: 0.5412 - recall: 0.0000e+00 - val_AUC: 0.7472 - val_loss: 0.5297 - val_recall: 0.0000e+00\n",
      "Epoch 7/20\n",
      "\u001b[1m141/141\u001b[0m \u001b[32m━━━━━━━━━━━━━━━━━━━━\u001b[0m\u001b[37m\u001b[0m \u001b[1m0s\u001b[0m 2ms/step - AUC: 0.7518 - loss: 0.5282 - recall: 0.0000e+00 - val_AUC: 0.7643 - val_loss: 0.5179 - val_recall: 0.0000e+00\n",
      "Epoch 8/20\n",
      "\u001b[1m141/141\u001b[0m \u001b[32m━━━━━━━━━━━━━━━━━━━━\u001b[0m\u001b[37m\u001b[0m \u001b[1m0s\u001b[0m 2ms/step - AUC: 0.7767 - loss: 0.5086 - recall: 0.0000e+00 - val_AUC: 0.7757 - val_loss: 0.5079 - val_recall: 0.0000e+00\n",
      "Epoch 9/20\n",
      "\u001b[1m141/141\u001b[0m \u001b[32m━━━━━━━━━━━━━━━━━━━━\u001b[0m\u001b[37m\u001b[0m \u001b[1m0s\u001b[0m 2ms/step - AUC: 0.7936 - loss: 0.4911 - recall: 0.0000e+00 - val_AUC: 0.7841 - val_loss: 0.4995 - val_recall: 0.0000e+00\n",
      "Epoch 10/20\n",
      "\u001b[1m 45/141\u001b[0m \u001b[32m━━━━━━\u001b[0m\u001b[37m━━━━━━━━━━━━━━\u001b[0m \u001b[1m0s\u001b[0m 1ms/step - AUC: 0.7768 - loss: 0.5103 - recall: 0.0000e+00 "
     ]
    },
    {
     "ename": "KeyboardInterrupt",
     "evalue": "",
     "output_type": "error",
     "traceback": [
      "\u001b[31m---------------------------------------------------------------------------\u001b[39m",
      "\u001b[31mKeyboardInterrupt\u001b[39m                         Traceback (most recent call last)",
      "\u001b[36mCell\u001b[39m\u001b[36m \u001b[39m\u001b[32mIn[41]\u001b[39m\u001b[32m, line 55\u001b[39m\n\u001b[32m     46\u001b[39m tuner = kt.GridSearch(\n\u001b[32m     47\u001b[39m     build_model,\n\u001b[32m     48\u001b[39m     objective=\u001b[33m'\u001b[39m\u001b[33mval_recall\u001b[39m\u001b[33m'\u001b[39m,  \u001b[38;5;66;03m# Objectif à minimiser (perte sur validation)\u001b[39;00m\n\u001b[32m   (...)\u001b[39m\u001b[32m     51\u001b[39m     project_name=\u001b[33m'\u001b[39m\u001b[33mchurn_gridsearch\u001b[39m\u001b[33m'\u001b[39m  \u001b[38;5;66;03m# Nom du projet\u001b[39;00m\n\u001b[32m     52\u001b[39m )\n\u001b[32m     54\u001b[39m \u001b[38;5;66;03m# Lancer la recherche des hyperparamètres\u001b[39;00m\n\u001b[32m---> \u001b[39m\u001b[32m55\u001b[39m \u001b[43mtuner\u001b[49m\u001b[43m.\u001b[49m\u001b[43msearch\u001b[49m\u001b[43m(\u001b[49m\u001b[43mX_train\u001b[49m\u001b[43m,\u001b[49m\u001b[43m \u001b[49m\u001b[43my_train\u001b[49m\u001b[43m,\u001b[49m\u001b[43m \u001b[49m\u001b[43mepochs\u001b[49m\u001b[43m=\u001b[49m\u001b[32;43m20\u001b[39;49m\u001b[43m,\u001b[49m\u001b[43m \u001b[49m\u001b[43mvalidation_data\u001b[49m\u001b[43m=\u001b[49m\u001b[43m(\u001b[49m\u001b[43mX_val\u001b[49m\u001b[43m,\u001b[49m\u001b[43m \u001b[49m\u001b[43my_val\u001b[49m\u001b[43m)\u001b[49m\u001b[43m)\u001b[49m\u001b[38;5;66;03m#, callbacks=[early_stop])\u001b[39;00m\n\u001b[32m     57\u001b[39m \u001b[38;5;66;03m# Afficher les meilleurs hyperparamètres trouvés\u001b[39;00m\n\u001b[32m     58\u001b[39m best_hyperparameters = tuner.oracle.get_best_trials(num_trials=\u001b[32m1\u001b[39m)[\u001b[32m0\u001b[39m].hyperparameters\n",
      "\u001b[36mFile \u001b[39m\u001b[32m~/Documents/Simplon/deep_learning_brief/.venv/lib/python3.12/site-packages/keras_tuner/src/engine/base_tuner.py:234\u001b[39m, in \u001b[36mBaseTuner.search\u001b[39m\u001b[34m(self, *fit_args, **fit_kwargs)\u001b[39m\n\u001b[32m    231\u001b[39m         \u001b[38;5;28;01mcontinue\u001b[39;00m\n\u001b[32m    233\u001b[39m     \u001b[38;5;28mself\u001b[39m.on_trial_begin(trial)\n\u001b[32m--> \u001b[39m\u001b[32m234\u001b[39m     \u001b[38;5;28;43mself\u001b[39;49m\u001b[43m.\u001b[49m\u001b[43m_try_run_and_update_trial\u001b[49m\u001b[43m(\u001b[49m\u001b[43mtrial\u001b[49m\u001b[43m,\u001b[49m\u001b[43m \u001b[49m\u001b[43m*\u001b[49m\u001b[43mfit_args\u001b[49m\u001b[43m,\u001b[49m\u001b[43m \u001b[49m\u001b[43m*\u001b[49m\u001b[43m*\u001b[49m\u001b[43mfit_kwargs\u001b[49m\u001b[43m)\u001b[49m\n\u001b[32m    235\u001b[39m     \u001b[38;5;28mself\u001b[39m.on_trial_end(trial)\n\u001b[32m    236\u001b[39m \u001b[38;5;28mself\u001b[39m.on_search_end()\n",
      "\u001b[36mFile \u001b[39m\u001b[32m~/Documents/Simplon/deep_learning_brief/.venv/lib/python3.12/site-packages/keras_tuner/src/engine/base_tuner.py:274\u001b[39m, in \u001b[36mBaseTuner._try_run_and_update_trial\u001b[39m\u001b[34m(self, trial, *fit_args, **fit_kwargs)\u001b[39m\n\u001b[32m    272\u001b[39m \u001b[38;5;28;01mdef\u001b[39;00m\u001b[38;5;250m \u001b[39m\u001b[34m_try_run_and_update_trial\u001b[39m(\u001b[38;5;28mself\u001b[39m, trial, *fit_args, **fit_kwargs):\n\u001b[32m    273\u001b[39m     \u001b[38;5;28;01mtry\u001b[39;00m:\n\u001b[32m--> \u001b[39m\u001b[32m274\u001b[39m         \u001b[38;5;28;43mself\u001b[39;49m\u001b[43m.\u001b[49m\u001b[43m_run_and_update_trial\u001b[49m\u001b[43m(\u001b[49m\u001b[43mtrial\u001b[49m\u001b[43m,\u001b[49m\u001b[43m \u001b[49m\u001b[43m*\u001b[49m\u001b[43mfit_args\u001b[49m\u001b[43m,\u001b[49m\u001b[43m \u001b[49m\u001b[43m*\u001b[49m\u001b[43m*\u001b[49m\u001b[43mfit_kwargs\u001b[49m\u001b[43m)\u001b[49m\n\u001b[32m    275\u001b[39m         trial.status = trial_module.TrialStatus.COMPLETED\n\u001b[32m    276\u001b[39m         \u001b[38;5;28;01mreturn\u001b[39;00m\n",
      "\u001b[36mFile \u001b[39m\u001b[32m~/Documents/Simplon/deep_learning_brief/.venv/lib/python3.12/site-packages/keras_tuner/src/engine/base_tuner.py:239\u001b[39m, in \u001b[36mBaseTuner._run_and_update_trial\u001b[39m\u001b[34m(self, trial, *fit_args, **fit_kwargs)\u001b[39m\n\u001b[32m    238\u001b[39m \u001b[38;5;28;01mdef\u001b[39;00m\u001b[38;5;250m \u001b[39m\u001b[34m_run_and_update_trial\u001b[39m(\u001b[38;5;28mself\u001b[39m, trial, *fit_args, **fit_kwargs):\n\u001b[32m--> \u001b[39m\u001b[32m239\u001b[39m     results = \u001b[38;5;28;43mself\u001b[39;49m\u001b[43m.\u001b[49m\u001b[43mrun_trial\u001b[49m\u001b[43m(\u001b[49m\u001b[43mtrial\u001b[49m\u001b[43m,\u001b[49m\u001b[43m \u001b[49m\u001b[43m*\u001b[49m\u001b[43mfit_args\u001b[49m\u001b[43m,\u001b[49m\u001b[43m \u001b[49m\u001b[43m*\u001b[49m\u001b[43m*\u001b[49m\u001b[43mfit_kwargs\u001b[49m\u001b[43m)\u001b[49m\n\u001b[32m    240\u001b[39m     \u001b[38;5;28;01mif\u001b[39;00m \u001b[38;5;28mself\u001b[39m.oracle.get_trial(trial.trial_id).metrics.exists(\n\u001b[32m    241\u001b[39m         \u001b[38;5;28mself\u001b[39m.oracle.objective.name\n\u001b[32m    242\u001b[39m     ):\n\u001b[32m    243\u001b[39m         \u001b[38;5;66;03m# The oracle is updated by calling `self.oracle.update_trial()` in\u001b[39;00m\n\u001b[32m    244\u001b[39m         \u001b[38;5;66;03m# `Tuner.run_trial()`. For backward compatibility, we support this\u001b[39;00m\n\u001b[32m    245\u001b[39m         \u001b[38;5;66;03m# use case. No further action needed in this case.\u001b[39;00m\n\u001b[32m    246\u001b[39m         warnings.warn(\n\u001b[32m    247\u001b[39m             \u001b[33m\"\u001b[39m\u001b[33mThe use case of calling \u001b[39m\u001b[33m\"\u001b[39m\n\u001b[32m    248\u001b[39m             \u001b[33m\"\u001b[39m\u001b[33m`self.oracle.update_trial(trial_id, metrics)` \u001b[39m\u001b[33m\"\u001b[39m\n\u001b[32m   (...)\u001b[39m\u001b[32m    254\u001b[39m             stacklevel=\u001b[32m2\u001b[39m,\n\u001b[32m    255\u001b[39m         )\n",
      "\u001b[36mFile \u001b[39m\u001b[32m~/Documents/Simplon/deep_learning_brief/.venv/lib/python3.12/site-packages/keras_tuner/src/engine/tuner.py:314\u001b[39m, in \u001b[36mTuner.run_trial\u001b[39m\u001b[34m(self, trial, *args, **kwargs)\u001b[39m\n\u001b[32m    312\u001b[39m     callbacks.append(model_checkpoint)\n\u001b[32m    313\u001b[39m     copied_kwargs[\u001b[33m\"\u001b[39m\u001b[33mcallbacks\u001b[39m\u001b[33m\"\u001b[39m] = callbacks\n\u001b[32m--> \u001b[39m\u001b[32m314\u001b[39m     obj_value = \u001b[38;5;28;43mself\u001b[39;49m\u001b[43m.\u001b[49m\u001b[43m_build_and_fit_model\u001b[49m\u001b[43m(\u001b[49m\u001b[43mtrial\u001b[49m\u001b[43m,\u001b[49m\u001b[43m \u001b[49m\u001b[43m*\u001b[49m\u001b[43margs\u001b[49m\u001b[43m,\u001b[49m\u001b[43m \u001b[49m\u001b[43m*\u001b[49m\u001b[43m*\u001b[49m\u001b[43mcopied_kwargs\u001b[49m\u001b[43m)\u001b[49m\n\u001b[32m    316\u001b[39m     histories.append(obj_value)\n\u001b[32m    317\u001b[39m \u001b[38;5;28;01mreturn\u001b[39;00m histories\n",
      "\u001b[36mFile \u001b[39m\u001b[32m~/Documents/Simplon/deep_learning_brief/.venv/lib/python3.12/site-packages/keras_tuner/src/engine/tuner.py:233\u001b[39m, in \u001b[36mTuner._build_and_fit_model\u001b[39m\u001b[34m(self, trial, *args, **kwargs)\u001b[39m\n\u001b[32m    231\u001b[39m hp = trial.hyperparameters\n\u001b[32m    232\u001b[39m model = \u001b[38;5;28mself\u001b[39m._try_build(hp)\n\u001b[32m--> \u001b[39m\u001b[32m233\u001b[39m results = \u001b[38;5;28;43mself\u001b[39;49m\u001b[43m.\u001b[49m\u001b[43mhypermodel\u001b[49m\u001b[43m.\u001b[49m\u001b[43mfit\u001b[49m\u001b[43m(\u001b[49m\u001b[43mhp\u001b[49m\u001b[43m,\u001b[49m\u001b[43m \u001b[49m\u001b[43mmodel\u001b[49m\u001b[43m,\u001b[49m\u001b[43m \u001b[49m\u001b[43m*\u001b[49m\u001b[43margs\u001b[49m\u001b[43m,\u001b[49m\u001b[43m \u001b[49m\u001b[43m*\u001b[49m\u001b[43m*\u001b[49m\u001b[43mkwargs\u001b[49m\u001b[43m)\u001b[49m\n\u001b[32m    235\u001b[39m \u001b[38;5;66;03m# Save the build config for model loading later.\u001b[39;00m\n\u001b[32m    236\u001b[39m \u001b[38;5;28;01mif\u001b[39;00m backend.config.multi_backend():\n",
      "\u001b[36mFile \u001b[39m\u001b[32m~/Documents/Simplon/deep_learning_brief/.venv/lib/python3.12/site-packages/keras_tuner/src/engine/hypermodel.py:149\u001b[39m, in \u001b[36mHyperModel.fit\u001b[39m\u001b[34m(self, hp, model, *args, **kwargs)\u001b[39m\n\u001b[32m    125\u001b[39m \u001b[38;5;28;01mdef\u001b[39;00m\u001b[38;5;250m \u001b[39m\u001b[34mfit\u001b[39m(\u001b[38;5;28mself\u001b[39m, hp, model, *args, **kwargs):\n\u001b[32m    126\u001b[39m \u001b[38;5;250m    \u001b[39m\u001b[33;03m\"\"\"Train the model.\u001b[39;00m\n\u001b[32m    127\u001b[39m \n\u001b[32m    128\u001b[39m \u001b[33;03m    Args:\u001b[39;00m\n\u001b[32m   (...)\u001b[39m\u001b[32m    147\u001b[39m \u001b[33;03m        If return a float, it should be the `objective` value.\u001b[39;00m\n\u001b[32m    148\u001b[39m \u001b[33;03m    \"\"\"\u001b[39;00m\n\u001b[32m--> \u001b[39m\u001b[32m149\u001b[39m     \u001b[38;5;28;01mreturn\u001b[39;00m \u001b[43mmodel\u001b[49m\u001b[43m.\u001b[49m\u001b[43mfit\u001b[49m\u001b[43m(\u001b[49m\u001b[43m*\u001b[49m\u001b[43margs\u001b[49m\u001b[43m,\u001b[49m\u001b[43m \u001b[49m\u001b[43m*\u001b[49m\u001b[43m*\u001b[49m\u001b[43mkwargs\u001b[49m\u001b[43m)\u001b[49m\n",
      "\u001b[36mFile \u001b[39m\u001b[32m~/Documents/Simplon/deep_learning_brief/.venv/lib/python3.12/site-packages/keras/src/utils/traceback_utils.py:117\u001b[39m, in \u001b[36mfilter_traceback.<locals>.error_handler\u001b[39m\u001b[34m(*args, **kwargs)\u001b[39m\n\u001b[32m    115\u001b[39m filtered_tb = \u001b[38;5;28;01mNone\u001b[39;00m\n\u001b[32m    116\u001b[39m \u001b[38;5;28;01mtry\u001b[39;00m:\n\u001b[32m--> \u001b[39m\u001b[32m117\u001b[39m     \u001b[38;5;28;01mreturn\u001b[39;00m \u001b[43mfn\u001b[49m\u001b[43m(\u001b[49m\u001b[43m*\u001b[49m\u001b[43margs\u001b[49m\u001b[43m,\u001b[49m\u001b[43m \u001b[49m\u001b[43m*\u001b[49m\u001b[43m*\u001b[49m\u001b[43mkwargs\u001b[49m\u001b[43m)\u001b[49m\n\u001b[32m    118\u001b[39m \u001b[38;5;28;01mexcept\u001b[39;00m \u001b[38;5;167;01mException\u001b[39;00m \u001b[38;5;28;01mas\u001b[39;00m e:\n\u001b[32m    119\u001b[39m     filtered_tb = _process_traceback_frames(e.__traceback__)\n",
      "\u001b[36mFile \u001b[39m\u001b[32m~/Documents/Simplon/deep_learning_brief/.venv/lib/python3.12/site-packages/keras/src/backend/tensorflow/trainer.py:371\u001b[39m, in \u001b[36mTensorFlowTrainer.fit\u001b[39m\u001b[34m(self, x, y, batch_size, epochs, verbose, callbacks, validation_split, validation_data, shuffle, class_weight, sample_weight, initial_epoch, steps_per_epoch, validation_steps, validation_batch_size, validation_freq)\u001b[39m\n\u001b[32m    369\u001b[39m \u001b[38;5;28;01mfor\u001b[39;00m step, iterator \u001b[38;5;129;01min\u001b[39;00m epoch_iterator:\n\u001b[32m    370\u001b[39m     callbacks.on_train_batch_begin(step)\n\u001b[32m--> \u001b[39m\u001b[32m371\u001b[39m     logs = \u001b[38;5;28;43mself\u001b[39;49m\u001b[43m.\u001b[49m\u001b[43mtrain_function\u001b[49m\u001b[43m(\u001b[49m\u001b[43miterator\u001b[49m\u001b[43m)\u001b[49m\n\u001b[32m    372\u001b[39m     callbacks.on_train_batch_end(step, logs)\n\u001b[32m    373\u001b[39m     \u001b[38;5;28;01mif\u001b[39;00m \u001b[38;5;28mself\u001b[39m.stop_training:\n",
      "\u001b[36mFile \u001b[39m\u001b[32m~/Documents/Simplon/deep_learning_brief/.venv/lib/python3.12/site-packages/keras/src/backend/tensorflow/trainer.py:222\u001b[39m, in \u001b[36mTensorFlowTrainer._make_function.<locals>.function\u001b[39m\u001b[34m(iterator)\u001b[39m\n\u001b[32m    220\u001b[39m     \u001b[38;5;28;01mif\u001b[39;00m \u001b[38;5;129;01mnot\u001b[39;00m opt_outputs.has_value():\n\u001b[32m    221\u001b[39m         \u001b[38;5;28;01mraise\u001b[39;00m \u001b[38;5;167;01mStopIteration\u001b[39;00m\n\u001b[32m--> \u001b[39m\u001b[32m222\u001b[39m     \u001b[38;5;28;01mreturn\u001b[39;00m \u001b[43mopt_outputs\u001b[49m\u001b[43m.\u001b[49m\u001b[43mget_value\u001b[49m\u001b[43m(\u001b[49m\u001b[43m)\u001b[49m\n\u001b[32m    223\u001b[39m \u001b[38;5;28;01melse\u001b[39;00m:\n\u001b[32m    224\u001b[39m     \u001b[38;5;28;01mfor\u001b[39;00m step, data \u001b[38;5;129;01min\u001b[39;00m \u001b[38;5;28mzip\u001b[39m(\n\u001b[32m    225\u001b[39m         \u001b[38;5;28mrange\u001b[39m(\u001b[38;5;28mself\u001b[39m.steps_per_execution), iterator\n\u001b[32m    226\u001b[39m     ):\n",
      "\u001b[36mFile \u001b[39m\u001b[32m~/Documents/Simplon/deep_learning_brief/.venv/lib/python3.12/site-packages/tensorflow/python/data/ops/optional_ops.py:194\u001b[39m, in \u001b[36m_OptionalImpl.get_value\u001b[39m\u001b[34m(self, name)\u001b[39m\n\u001b[32m    186\u001b[39m   result = gen_optional_ops.optional_get_value(\n\u001b[32m    187\u001b[39m       \u001b[38;5;28mself\u001b[39m._variant_tensor,\n\u001b[32m    188\u001b[39m       name=scope,\n\u001b[32m    189\u001b[39m       output_types=structure.get_flat_tensor_types(\u001b[38;5;28mself\u001b[39m._element_spec),\n\u001b[32m    190\u001b[39m       output_shapes=structure.get_flat_tensor_shapes(\u001b[38;5;28mself\u001b[39m._element_spec),\n\u001b[32m    191\u001b[39m   )\n\u001b[32m    192\u001b[39m \u001b[38;5;66;03m# NOTE: We do not colocate the deserialization of composite tensors\u001b[39;00m\n\u001b[32m    193\u001b[39m \u001b[38;5;66;03m# because not all ops are guaranteed to have non-GPU kernels.\u001b[39;00m\n\u001b[32m--> \u001b[39m\u001b[32m194\u001b[39m \u001b[38;5;28;01mreturn\u001b[39;00m \u001b[43mstructure\u001b[49m\u001b[43m.\u001b[49m\u001b[43mfrom_tensor_list\u001b[49m\u001b[43m(\u001b[49m\u001b[38;5;28;43mself\u001b[39;49m\u001b[43m.\u001b[49m\u001b[43m_element_spec\u001b[49m\u001b[43m,\u001b[49m\u001b[43m \u001b[49m\u001b[43mresult\u001b[49m\u001b[43m)\u001b[49m\n",
      "\u001b[36mFile \u001b[39m\u001b[32m~/Documents/Simplon/deep_learning_brief/.venv/lib/python3.12/site-packages/tensorflow/python/data/util/structure.py:274\u001b[39m, in \u001b[36mfrom_tensor_list\u001b[39m\u001b[34m(element_spec, tensor_list)\u001b[39m\n\u001b[32m    256\u001b[39m \u001b[38;5;250m\u001b[39m\u001b[33;03m\"\"\"Returns an element constructed from the given spec and tensor list.\u001b[39;00m\n\u001b[32m    257\u001b[39m \n\u001b[32m    258\u001b[39m \u001b[33;03mArgs:\u001b[39;00m\n\u001b[32m   (...)\u001b[39m\u001b[32m    269\u001b[39m \u001b[33;03m    spec is not compatible with the tensor list.\u001b[39;00m\n\u001b[32m    270\u001b[39m \u001b[33;03m\"\"\"\u001b[39;00m\n\u001b[32m    272\u001b[39m \u001b[38;5;66;03m# pylint: disable=protected-access\u001b[39;00m\n\u001b[32m    273\u001b[39m \u001b[38;5;66;03m# pylint: disable=g-long-lambda\u001b[39;00m\n\u001b[32m--> \u001b[39m\u001b[32m274\u001b[39m \u001b[38;5;28;01mreturn\u001b[39;00m \u001b[43m_from_tensor_list_helper\u001b[49m\u001b[43m(\u001b[49m\n\u001b[32m    275\u001b[39m \u001b[43m    \u001b[49m\u001b[38;5;28;43;01mlambda\u001b[39;49;00m\u001b[43m \u001b[49m\u001b[43mspec\u001b[49m\u001b[43m,\u001b[49m\u001b[43m \u001b[49m\u001b[43mvalue\u001b[49m\u001b[43m:\u001b[49m\u001b[43m \u001b[49m\u001b[43mspec\u001b[49m\u001b[43m.\u001b[49m\u001b[43m_from_tensor_list\u001b[49m\u001b[43m(\u001b[49m\u001b[43mvalue\u001b[49m\u001b[43m)\u001b[49m\u001b[43m,\u001b[49m\u001b[43m \u001b[49m\u001b[43melement_spec\u001b[49m\u001b[43m,\u001b[49m\n\u001b[32m    276\u001b[39m \u001b[43m    \u001b[49m\u001b[43mtensor_list\u001b[49m\u001b[43m)\u001b[49m\n",
      "\u001b[36mFile \u001b[39m\u001b[32m~/Documents/Simplon/deep_learning_brief/.venv/lib/python3.12/site-packages/tensorflow/python/data/util/structure.py:229\u001b[39m, in \u001b[36m_from_tensor_list_helper\u001b[39m\u001b[34m(decode_fn, element_spec, tensor_list)\u001b[39m\n\u001b[32m    227\u001b[39m   flat_ret.append(decode_fn(component_spec, value))\n\u001b[32m    228\u001b[39m   i += num_flat_values\n\u001b[32m--> \u001b[39m\u001b[32m229\u001b[39m \u001b[38;5;28;01mreturn\u001b[39;00m \u001b[43mnest\u001b[49m\u001b[43m.\u001b[49m\u001b[43mpack_sequence_as\u001b[49m\u001b[43m(\u001b[49m\u001b[43melement_spec\u001b[49m\u001b[43m,\u001b[49m\u001b[43m \u001b[49m\u001b[43mflat_ret\u001b[49m\u001b[43m)\u001b[49m\n",
      "\u001b[36mFile \u001b[39m\u001b[32m~/Documents/Simplon/deep_learning_brief/.venv/lib/python3.12/site-packages/tensorflow/python/data/util/nest.py:87\u001b[39m, in \u001b[36mpack_sequence_as\u001b[39m\u001b[34m(structure, flat_sequence)\u001b[39m\n\u001b[32m     69\u001b[39m \u001b[38;5;28;01mdef\u001b[39;00m\u001b[38;5;250m \u001b[39m\u001b[34mpack_sequence_as\u001b[39m(structure, flat_sequence):\n\u001b[32m     70\u001b[39m \u001b[38;5;250m  \u001b[39m\u001b[33;03m\"\"\"Returns a given flattened sequence packed into a nest.\u001b[39;00m\n\u001b[32m     71\u001b[39m \n\u001b[32m     72\u001b[39m \u001b[33;03m  If `structure` is a scalar, `flat_sequence` must be a single-element list;\u001b[39;00m\n\u001b[32m   (...)\u001b[39m\u001b[32m     85\u001b[39m \u001b[33;03m    ValueError: If nest and structure have different element counts.\u001b[39;00m\n\u001b[32m     86\u001b[39m \u001b[33;03m  \"\"\"\u001b[39;00m\n\u001b[32m---> \u001b[39m\u001b[32m87\u001b[39m   \u001b[38;5;28;01mreturn\u001b[39;00m \u001b[43mnest_util\u001b[49m\u001b[43m.\u001b[49m\u001b[43mpack_sequence_as\u001b[49m\u001b[43m(\u001b[49m\n\u001b[32m     88\u001b[39m \u001b[43m      \u001b[49m\u001b[43mnest_util\u001b[49m\u001b[43m.\u001b[49m\u001b[43mModality\u001b[49m\u001b[43m.\u001b[49m\u001b[43mDATA\u001b[49m\u001b[43m,\u001b[49m\u001b[43m \u001b[49m\u001b[43mstructure\u001b[49m\u001b[43m,\u001b[49m\u001b[43m \u001b[49m\u001b[43mflat_sequence\u001b[49m\u001b[43m,\u001b[49m\u001b[43m \u001b[49m\u001b[43mexpand_composites\u001b[49m\u001b[43m=\u001b[49m\u001b[38;5;28;43;01mFalse\u001b[39;49;00m\n\u001b[32m     89\u001b[39m \u001b[43m  \u001b[49m\u001b[43m)\u001b[49m\n",
      "\u001b[36mFile \u001b[39m\u001b[32m~/Documents/Simplon/deep_learning_brief/.venv/lib/python3.12/site-packages/tensorflow/python/util/nest_util.py:859\u001b[39m, in \u001b[36mpack_sequence_as\u001b[39m\u001b[34m(modality, structure, flat_sequence, expand_composites, sequence_fn)\u001b[39m\n\u001b[32m    855\u001b[39m   \u001b[38;5;28;01mreturn\u001b[39;00m _tf_core_pack_sequence_as(\n\u001b[32m    856\u001b[39m       structure, flat_sequence, expand_composites, sequence_fn\n\u001b[32m    857\u001b[39m   )\n\u001b[32m    858\u001b[39m \u001b[38;5;28;01melif\u001b[39;00m modality == Modality.DATA:\n\u001b[32m--> \u001b[39m\u001b[32m859\u001b[39m   \u001b[38;5;28;01mreturn\u001b[39;00m \u001b[43m_tf_data_pack_sequence_as\u001b[49m\u001b[43m(\u001b[49m\u001b[43mstructure\u001b[49m\u001b[43m,\u001b[49m\u001b[43m \u001b[49m\u001b[43mflat_sequence\u001b[49m\u001b[43m)\u001b[49m\n\u001b[32m    860\u001b[39m \u001b[38;5;28;01melse\u001b[39;00m:\n\u001b[32m    861\u001b[39m   \u001b[38;5;28;01mraise\u001b[39;00m \u001b[38;5;167;01mValueError\u001b[39;00m(\n\u001b[32m    862\u001b[39m       \u001b[33m\"\u001b[39m\u001b[33mUnknown modality used \u001b[39m\u001b[38;5;132;01m{}\u001b[39;00m\u001b[33m for nested structure\u001b[39m\u001b[33m\"\u001b[39m.format(modality)\n\u001b[32m    863\u001b[39m   )\n",
      "\u001b[36mFile \u001b[39m\u001b[32m~/Documents/Simplon/deep_learning_brief/.venv/lib/python3.12/site-packages/tensorflow/python/util/nest_util.py:946\u001b[39m, in \u001b[36m_tf_data_pack_sequence_as\u001b[39m\u001b[34m(structure, flat_sequence)\u001b[39m\n\u001b[32m    940\u001b[39m \u001b[38;5;28;01mif\u001b[39;00m \u001b[38;5;129;01mnot\u001b[39;00m (_tf_data_is_nested(flat_sequence) \u001b[38;5;129;01mor\u001b[39;00m \u001b[38;5;28misinstance\u001b[39m(flat_sequence, \u001b[38;5;28mlist\u001b[39m)):\n\u001b[32m    941\u001b[39m   \u001b[38;5;28;01mraise\u001b[39;00m \u001b[38;5;167;01mTypeError\u001b[39;00m(\n\u001b[32m    942\u001b[39m       \u001b[33m\"\u001b[39m\u001b[33mArgument `flat_sequence` must be a sequence. Got \u001b[39m\u001b[33m\"\u001b[39m\n\u001b[32m    943\u001b[39m       \u001b[33mf\u001b[39m\u001b[33m\"\u001b[39m\u001b[33m'\u001b[39m\u001b[38;5;132;01m{\u001b[39;00m\u001b[38;5;28mtype\u001b[39m(flat_sequence).\u001b[34m__name__\u001b[39m\u001b[38;5;132;01m}\u001b[39;00m\u001b[33m'\u001b[39m\u001b[33m.\u001b[39m\u001b[33m\"\u001b[39m\n\u001b[32m    944\u001b[39m   )\n\u001b[32m--> \u001b[39m\u001b[32m946\u001b[39m \u001b[38;5;28;01mif\u001b[39;00m \u001b[38;5;129;01mnot\u001b[39;00m \u001b[43m_tf_data_is_nested\u001b[49m\u001b[43m(\u001b[49m\u001b[43mstructure\u001b[49m\u001b[43m)\u001b[49m:\n\u001b[32m    947\u001b[39m   \u001b[38;5;28;01mif\u001b[39;00m \u001b[38;5;28mlen\u001b[39m(flat_sequence) != \u001b[32m1\u001b[39m:\n\u001b[32m    948\u001b[39m     \u001b[38;5;28;01mraise\u001b[39;00m \u001b[38;5;167;01mValueError\u001b[39;00m(\n\u001b[32m    949\u001b[39m         \u001b[33m\"\u001b[39m\u001b[33mArgument `structure` is a scalar but \u001b[39m\u001b[33m\"\u001b[39m\n\u001b[32m    950\u001b[39m         \u001b[33mf\u001b[39m\u001b[33m\"\u001b[39m\u001b[33m`len(flat_sequence)`=\u001b[39m\u001b[38;5;132;01m{\u001b[39;00m\u001b[38;5;28mlen\u001b[39m(flat_sequence)\u001b[38;5;132;01m}\u001b[39;00m\u001b[33m > 1\u001b[39m\u001b[33m\"\u001b[39m\n\u001b[32m    951\u001b[39m     )\n",
      "\u001b[31mKeyboardInterrupt\u001b[39m: "
     ]
    }
   ],
   "source": [
    "import keras_tuner as kt\n",
    "import tensorflow as tf\n",
    "\n",
    "# Définir un callback EarlyStopping\n",
    "early_stop = tf.keras.callbacks.EarlyStopping(\n",
    "    monitor='val_loss',    # Surveille la perte de validation\n",
    "    patience=3,            # Tolère 3 époques sans amélioration\n",
    "    restore_best_weights=True\n",
    ")\n",
    "\n",
    "# Définir la fonction de construction du modèle\n",
    "def build_model(hp):\n",
    "    model = tf.keras.Sequential()\n",
    "\n",
    "    # Entrée\n",
    "    model.add(tf.keras.layers.Input(shape=(X_train.shape[1],)))\n",
    "\n",
    "    # Première couche dense\n",
    "    model.add(tf.keras.layers.Dense(\n",
    "        hp.Choice('units', [8, 16, 32, 64, 128]),  # Nombre de neurones\n",
    "        activation=hp.Choice('activation', ['relu', 'sigmoid'])  # Activation\n",
    "    ))\n",
    "\n",
    "    # Deuxième couche dense\n",
    "    model.add(tf.keras.layers.Dense(\n",
    "        hp.Choice('units2', [8, 16, 32, 64, 128]),  # Nombre de neurones\n",
    "        activation=hp.Choice('activation2', ['relu','sigmoid'])  # Activation\n",
    "    ))\n",
    "\n",
    "    # Couche de sortie (classification binaire)\n",
    "    model.add(tf.keras.layers.Dense(1, activation='sigmoid'))  # Pour classification binaire\n",
    "\n",
    "    # Taux d'apprentissage comme un hyperparamètre\n",
    "    learning_rate = hp.Float('learning_rate', min_value=1e-4, max_value=1e-2, sampling='log')\n",
    "\n",
    "    # Compilation du modèle avec un optimiseur et taux d'apprentissage\n",
    "    model.compile(\n",
    "        optimizer=tf.keras.optimizers.Adam(learning_rate=learning_rate),  # Optimiseur avec taux d'apprentissage\n",
    "        loss='binary_crossentropy',  # Perte pour la classification binaire\n",
    "        metrics=['recall', 'AUC']  # Mesures de performance\n",
    "    )\n",
    "\n",
    "    return model\n",
    "\n",
    "# Définir le tuner\n",
    "tuner = kt.GridSearch(\n",
    "    build_model,\n",
    "    objective='val_recall',  # Objectif à minimiser (perte sur validation)\n",
    "    # max_trials=25,  # Nombre d'essais du tuner\n",
    "    directory='my_dir',  # Répertoire pour stocker les résultats\n",
    "    project_name='churn_gridsearch'  # Nom du projet\n",
    ")\n",
    "\n",
    "# Lancer la recherche des hyperparamètres\n",
    "tuner.search(X_train, y_train, epochs=20, validation_data=(X_val, y_val))#, callbacks=[early_stop])\n",
    "\n",
    "# Afficher les meilleurs hyperparamètres trouvés\n",
    "best_hyperparameters = tuner.oracle.get_best_trials(num_trials=1)[0].hyperparameters\n",
    "print(\"Meilleurs hyperparamètres :\", best_hyperparameters.values)\n"
   ]
  },
  {
   "cell_type": "code",
   "execution_count": 25,
   "id": "86a6e8a3",
   "metadata": {},
   "outputs": [
    {
     "name": "stdout",
     "output_type": "stream",
     "text": [
      "Results summary\n",
      "Results in my_dir/churn_gridsearch\n",
      "Showing 10 best trials\n",
      "Objective(name=\"val_loss\", direction=\"min\")\n",
      "\n",
      "Trial 20 summary\n",
      "Hyperparameters:\n",
      "units: 8\n",
      "activation: relu\n",
      "units2: 8\n",
      "activation2: sigmoid\n",
      "learning_rate: 0.003162277660168381\n",
      "Score: 0.42728880047798157\n",
      "\n",
      "Trial 04 summary\n",
      "Hyperparameters:\n",
      "units: 8\n",
      "activation: relu\n",
      "units2: 8\n",
      "activation2: relu\n",
      "learning_rate: 0.007943282347242817\n",
      "Score: 0.4276747405529022\n",
      "\n",
      "Trial 21 summary\n",
      "Hyperparameters:\n",
      "units: 8\n",
      "activation: relu\n",
      "units2: 8\n",
      "activation2: sigmoid\n",
      "learning_rate: 0.001995262314968881\n",
      "Score: 0.42989733815193176\n",
      "\n",
      "Trial 09 summary\n",
      "Hyperparameters:\n",
      "units: 8\n",
      "activation: relu\n",
      "units2: 8\n",
      "activation2: relu\n",
      "learning_rate: 0.003162277660168381\n",
      "Score: 0.4301477074623108\n",
      "\n",
      "Trial 18 summary\n",
      "Hyperparameters:\n",
      "units: 8\n",
      "activation: relu\n",
      "units2: 8\n",
      "activation2: sigmoid\n",
      "learning_rate: 0.0050118723362727255\n",
      "Score: 0.43030011653900146\n",
      "\n",
      "Trial 07 summary\n",
      "Hyperparameters:\n",
      "units: 8\n",
      "activation: relu\n",
      "units2: 8\n",
      "activation2: relu\n",
      "learning_rate: 0.0050118723362727255\n",
      "Score: 0.4314347803592682\n",
      "\n",
      "Trial 17 summary\n",
      "Hyperparameters:\n",
      "units: 8\n",
      "activation: relu\n",
      "units2: 8\n",
      "activation2: sigmoid\n",
      "learning_rate: 0.0012589254117941675\n",
      "Score: 0.43162840604782104\n",
      "\n",
      "Trial 10 summary\n",
      "Hyperparameters:\n",
      "units: 8\n",
      "activation: relu\n",
      "units2: 8\n",
      "activation2: relu\n",
      "learning_rate: 0.001995262314968881\n",
      "Score: 0.43198731541633606\n",
      "\n",
      "Trial 06 summary\n",
      "Hyperparameters:\n",
      "units: 8\n",
      "activation: relu\n",
      "units2: 8\n",
      "activation2: relu\n",
      "learning_rate: 0.0012589254117941675\n",
      "Score: 0.4321034252643585\n",
      "\n",
      "Trial 03 summary\n",
      "Hyperparameters:\n",
      "units: 8\n",
      "activation: relu\n",
      "units2: 8\n",
      "activation2: relu\n",
      "learning_rate: 0.0007943282347242816\n",
      "Score: 0.4324240982532501\n"
     ]
    }
   ],
   "source": [
    "# Lancement de la recherche\n",
    "tuner.search(\n",
    "    X_train,\n",
    "    y_train_cat,\n",
    "    epochs=20,\n",
    "    validation_data=(X_val, y_val_cat),\n",
    "    callbacks=[early_stop]\n",
    ")\n",
    "\n",
    "tuner.results_summary()"
   ]
  },
  {
   "cell_type": "markdown",
   "id": "948f6d99",
   "metadata": {},
   "source": [
    "### tensor board "
   ]
  },
  {
   "cell_type": "code",
   "execution_count": 31,
   "id": "4f9cb2fc",
   "metadata": {},
   "outputs": [],
   "source": [
    "%load_ext tensorboard"
   ]
  },
  {
   "cell_type": "code",
   "execution_count": null,
   "id": "650d8417",
   "metadata": {},
   "outputs": [],
   "source": [
    "import os\n",
    "import datetime\n",
    "\n",
    "log_dir = os.path.join(\n",
    "    \"logs\", \"fit\", datetime.datetime.now().strftime(\"%Y%m%d-%H%M%S\")\n",
    ")\n",
    "tensorboard_cb = tf.keras.callbacks.TensorBoard(\n",
    "    log_dir=log_dir,\n",
    "    histogram_freq=1,       # enregistre les histogrammes de poids chaque époque\n",
    "    write_graph=True,       # sauvegarde le graph du modèle\n",
    "    write_images=True\n",
    ")\n",
    "\n",
    "history = model.fit(\n",
    "    X_train, y_train_cat,\n",
    "    validation_split=0.2,\n",
    "    epochs=20,\n",
    "    batch_size=16,\n",
    "    verbose=1,\n",
    "    callbacks=[early_stop, model_ckpt, tensorboard_cb]\n",
    ")"
   ]
  },
  {
   "cell_type": "code",
   "execution_count": 35,
   "id": "44d626a0",
   "metadata": {},
   "outputs": [
    {
     "name": "stdout",
     "output_type": "stream",
     "text": [
      "\n",
      "Accuracy sur le test set : 0.7854\n",
      "\u001b[1m44/44\u001b[0m \u001b[32m━━━━━━━━━━━━━━━━━━━━\u001b[0m\u001b[37m\u001b[0m \u001b[1m0s\u001b[0m 884us/step\n",
      "\n",
      "Classification Report :\n",
      "              precision    recall  f1-score   support\n",
      "\n",
      "          No       0.84      0.87      0.86      1033\n",
      "         Yes       0.60      0.56      0.58       374\n",
      "\n",
      "    accuracy                           0.79      1407\n",
      "   macro avg       0.72      0.71      0.72      1407\n",
      "weighted avg       0.78      0.79      0.78      1407\n",
      "\n",
      "Matrice de Confusion :\n",
      "[[896 137]\n",
      " [165 209]]\n"
     ]
    }
   ],
   "source": [
    "test_loss, test_acc = model.evaluate(X_test, y_test_cat, verbose=0)\n",
    "print(f\"\\nAccuracy sur le test set : {test_acc:.4f}\")\n",
    "y_pred_probs = model.predict(X_test)\n",
    "y_pred = np.argmax(y_pred_probs, axis=1)\n",
    "print(\"\\nClassification Report :\")\n",
    "print(classification_report(y_test, y_pred, target_names=df.churn.unique()))\n",
    "print(\"Matrice de Confusion :\")\n",
    "cm = confusion_matrix(y_test, y_pred)\n",
    "print(cm)"
   ]
  },
  {
   "cell_type": "code",
   "execution_count": 33,
   "id": "90f380d5",
   "metadata": {},
   "outputs": [
    {
     "data": {
      "text/html": [
       "\n",
       "      <iframe id=\"tensorboard-frame-ab3256acfbbab5ea\" width=\"100%\" height=\"800\" frameborder=\"0\">\n",
       "      </iframe>\n",
       "      <script>\n",
       "        (function() {\n",
       "          const frame = document.getElementById(\"tensorboard-frame-ab3256acfbbab5ea\");\n",
       "          const url = new URL(\"/\", window.location);\n",
       "          const port = 6007;\n",
       "          if (port) {\n",
       "            url.port = port;\n",
       "          }\n",
       "          frame.src = url;\n",
       "        })();\n",
       "      </script>\n",
       "    "
      ],
      "text/plain": [
       "<IPython.core.display.HTML object>"
      ]
     },
     "metadata": {},
     "output_type": "display_data"
    }
   ],
   "source": [
    "%tensorboard --logdir logs/fit"
   ]
  },
  {
   "cell_type": "code",
   "execution_count": null,
   "id": "89b58a87",
   "metadata": {},
   "outputs": [
    {
     "name": "stderr",
     "output_type": "stream",
     "text": [
      "UsageError: Line magic function `%tensorboard` not found.\n"
     ]
    }
   ],
   "source": [
    "test_loss, test_acc = model.evaluate(X_test, y_test_cat, verbose=0)\n",
    "print(f\"\\nAccuracy sur le test set : {test_acc:.4f}\")\n",
    "y_pred_probs = model.predict(X_test)\n",
    "y_pred = np.argmax(y_pred_probs, axis=1)\n",
    "print(\"\\nClassification Report :\")\n",
    "print(classification_report(y_test, y_pred, target_names=iris.target_names))\n",
    "print(\"Matrice de Confusion :\")\n",
    "cm = confusion_matrix(y_test, y_pred)\n",
    "print(cm)\n",
    "\n",
    "%tensorboard --logdir logs/fit\n"
   ]
  }
 ],
 "metadata": {
  "kernelspec": {
   "display_name": ".venv",
   "language": "python",
   "name": "python3"
  },
  "language_info": {
   "codemirror_mode": {
    "name": "ipython",
    "version": 3
   },
   "file_extension": ".py",
   "mimetype": "text/x-python",
   "name": "python",
   "nbconvert_exporter": "python",
   "pygments_lexer": "ipython3",
   "version": "3.12.3"
  }
 },
 "nbformat": 4,
 "nbformat_minor": 5
}
