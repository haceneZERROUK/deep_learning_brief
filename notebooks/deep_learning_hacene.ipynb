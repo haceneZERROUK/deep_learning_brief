{
 "cells": [
  {
   "cell_type": "code",
   "execution_count": 1,
   "id": "4ae89c08",
   "metadata": {},
   "outputs": [
    {
     "name": "stderr",
     "output_type": "stream",
     "text": [
      "2025-05-21 09:27:21.108860: I external/local_xla/xla/tsl/cuda/cudart_stub.cc:32] Could not find cuda drivers on your machine, GPU will not be used.\n",
      "2025-05-21 09:27:21.111824: I external/local_xla/xla/tsl/cuda/cudart_stub.cc:32] Could not find cuda drivers on your machine, GPU will not be used.\n",
      "2025-05-21 09:27:21.120679: E external/local_xla/xla/stream_executor/cuda/cuda_fft.cc:467] Unable to register cuFFT factory: Attempting to register factory for plugin cuFFT when one has already been registered\n",
      "WARNING: All log messages before absl::InitializeLog() is called are written to STDERR\n",
      "E0000 00:00:1747812441.135378 1180275 cuda_dnn.cc:8579] Unable to register cuDNN factory: Attempting to register factory for plugin cuDNN when one has already been registered\n",
      "E0000 00:00:1747812441.139989 1180275 cuda_blas.cc:1407] Unable to register cuBLAS factory: Attempting to register factory for plugin cuBLAS when one has already been registered\n",
      "W0000 00:00:1747812441.152381 1180275 computation_placer.cc:177] computation placer already registered. Please check linkage and avoid linking the same target more than once.\n",
      "W0000 00:00:1747812441.152397 1180275 computation_placer.cc:177] computation placer already registered. Please check linkage and avoid linking the same target more than once.\n",
      "W0000 00:00:1747812441.152398 1180275 computation_placer.cc:177] computation placer already registered. Please check linkage and avoid linking the same target more than once.\n",
      "W0000 00:00:1747812441.152399 1180275 computation_placer.cc:177] computation placer already registered. Please check linkage and avoid linking the same target more than once.\n",
      "2025-05-21 09:27:21.156177: I tensorflow/core/platform/cpu_feature_guard.cc:210] This TensorFlow binary is optimized to use available CPU instructions in performance-critical operations.\n",
      "To enable the following instructions: AVX2 FMA, in other operations, rebuild TensorFlow with the appropriate compiler flags.\n"
     ]
    }
   ],
   "source": [
    "import pandas as pd\n",
    "import numpy as np\n",
    "from sklearn.compose import ColumnTransformer\n",
    "from sklearn.model_selection import train_test_split\n",
    "from sklearn.preprocessing import StandardScaler, RobustScaler, OneHotEncoder,OrdinalEncoder, LabelEncoder, LabelBinarizer\n",
    "from sklearn.metrics import classification_report, confusion_matrix\n",
    "import tensorflow as tf"
   ]
  },
  {
   "cell_type": "code",
   "execution_count": 2,
   "id": "403b3a87",
   "metadata": {},
   "outputs": [
    {
     "name": "stderr",
     "output_type": "stream",
     "text": [
      "/tmp/ipykernel_1180275/4209060789.py:7: FutureWarning: DataFrame.applymap has been deprecated. Use DataFrame.map instead.\n",
      "  df = df.applymap(lambda x: x.strip() if isinstance(x, str) else x)\n"
     ]
    }
   ],
   "source": [
    "df = pd.read_csv('dataset.csv')\n",
    "df.columns = [c.strip().lower() for c in df.columns]\n",
    "# 2. Strip whitespace from column names\n",
    "df.columns = df.columns.str.strip()\n",
    "\n",
    "# 3. Trim whitespace in all string cells\n",
    "df = df.applymap(lambda x: x.strip() if isinstance(x, str) else x)\n",
    "\n",
    "# 4. Convert empty strings to NaN (optional)\n",
    "df.replace('', np.nan, inplace=True)\n",
    "df.totalcharges = pd.to_numeric(df.totalcharges)\n",
    "# 5. Drop duplicate rows\n",
    "df.drop_duplicates(inplace=True)\n",
    "\n",
    "# 6. Drop rows with missing values\n",
    "df.dropna(inplace=True)\n"
   ]
  },
  {
   "cell_type": "code",
   "execution_count": 3,
   "id": "e9a0bb79",
   "metadata": {},
   "outputs": [
    {
     "data": {
      "text/html": [
       "<div>\n",
       "<style scoped>\n",
       "    .dataframe tbody tr th:only-of-type {\n",
       "        vertical-align: middle;\n",
       "    }\n",
       "\n",
       "    .dataframe tbody tr th {\n",
       "        vertical-align: top;\n",
       "    }\n",
       "\n",
       "    .dataframe thead th {\n",
       "        text-align: right;\n",
       "    }\n",
       "</style>\n",
       "<table border=\"1\" class=\"dataframe\">\n",
       "  <thead>\n",
       "    <tr style=\"text-align: right;\">\n",
       "      <th></th>\n",
       "      <th>customerid</th>\n",
       "      <th>gender</th>\n",
       "      <th>seniorcitizen</th>\n",
       "      <th>partner</th>\n",
       "      <th>dependents</th>\n",
       "      <th>tenure</th>\n",
       "      <th>phoneservice</th>\n",
       "      <th>multiplelines</th>\n",
       "      <th>internetservice</th>\n",
       "      <th>onlinesecurity</th>\n",
       "      <th>onlinebackup</th>\n",
       "      <th>deviceprotection</th>\n",
       "      <th>techsupport</th>\n",
       "      <th>streamingtv</th>\n",
       "      <th>streamingmovies</th>\n",
       "      <th>contract</th>\n",
       "      <th>paperlessbilling</th>\n",
       "      <th>paymentmethod</th>\n",
       "      <th>monthlycharges</th>\n",
       "      <th>totalcharges</th>\n",
       "      <th>churn</th>\n",
       "    </tr>\n",
       "  </thead>\n",
       "  <tbody>\n",
       "    <tr>\n",
       "      <th>0</th>\n",
       "      <td>7590-VHVEG</td>\n",
       "      <td>Female</td>\n",
       "      <td>0</td>\n",
       "      <td>Yes</td>\n",
       "      <td>No</td>\n",
       "      <td>1</td>\n",
       "      <td>No</td>\n",
       "      <td>No phone service</td>\n",
       "      <td>DSL</td>\n",
       "      <td>No</td>\n",
       "      <td>Yes</td>\n",
       "      <td>No</td>\n",
       "      <td>No</td>\n",
       "      <td>No</td>\n",
       "      <td>No</td>\n",
       "      <td>Month-to-month</td>\n",
       "      <td>Yes</td>\n",
       "      <td>Electronic check</td>\n",
       "      <td>29.85</td>\n",
       "      <td>29.85</td>\n",
       "      <td>No</td>\n",
       "    </tr>\n",
       "    <tr>\n",
       "      <th>1</th>\n",
       "      <td>5575-GNVDE</td>\n",
       "      <td>Male</td>\n",
       "      <td>0</td>\n",
       "      <td>No</td>\n",
       "      <td>No</td>\n",
       "      <td>34</td>\n",
       "      <td>Yes</td>\n",
       "      <td>No</td>\n",
       "      <td>DSL</td>\n",
       "      <td>Yes</td>\n",
       "      <td>No</td>\n",
       "      <td>Yes</td>\n",
       "      <td>No</td>\n",
       "      <td>No</td>\n",
       "      <td>No</td>\n",
       "      <td>One year</td>\n",
       "      <td>No</td>\n",
       "      <td>Mailed check</td>\n",
       "      <td>56.95</td>\n",
       "      <td>1889.50</td>\n",
       "      <td>No</td>\n",
       "    </tr>\n",
       "    <tr>\n",
       "      <th>2</th>\n",
       "      <td>3668-QPYBK</td>\n",
       "      <td>Male</td>\n",
       "      <td>0</td>\n",
       "      <td>No</td>\n",
       "      <td>No</td>\n",
       "      <td>2</td>\n",
       "      <td>Yes</td>\n",
       "      <td>No</td>\n",
       "      <td>DSL</td>\n",
       "      <td>Yes</td>\n",
       "      <td>Yes</td>\n",
       "      <td>No</td>\n",
       "      <td>No</td>\n",
       "      <td>No</td>\n",
       "      <td>No</td>\n",
       "      <td>Month-to-month</td>\n",
       "      <td>Yes</td>\n",
       "      <td>Mailed check</td>\n",
       "      <td>53.85</td>\n",
       "      <td>108.15</td>\n",
       "      <td>Yes</td>\n",
       "    </tr>\n",
       "    <tr>\n",
       "      <th>3</th>\n",
       "      <td>7795-CFOCW</td>\n",
       "      <td>Male</td>\n",
       "      <td>0</td>\n",
       "      <td>No</td>\n",
       "      <td>No</td>\n",
       "      <td>45</td>\n",
       "      <td>No</td>\n",
       "      <td>No phone service</td>\n",
       "      <td>DSL</td>\n",
       "      <td>Yes</td>\n",
       "      <td>No</td>\n",
       "      <td>Yes</td>\n",
       "      <td>Yes</td>\n",
       "      <td>No</td>\n",
       "      <td>No</td>\n",
       "      <td>One year</td>\n",
       "      <td>No</td>\n",
       "      <td>Bank transfer (automatic)</td>\n",
       "      <td>42.30</td>\n",
       "      <td>1840.75</td>\n",
       "      <td>No</td>\n",
       "    </tr>\n",
       "    <tr>\n",
       "      <th>4</th>\n",
       "      <td>9237-HQITU</td>\n",
       "      <td>Female</td>\n",
       "      <td>0</td>\n",
       "      <td>No</td>\n",
       "      <td>No</td>\n",
       "      <td>2</td>\n",
       "      <td>Yes</td>\n",
       "      <td>No</td>\n",
       "      <td>Fiber optic</td>\n",
       "      <td>No</td>\n",
       "      <td>No</td>\n",
       "      <td>No</td>\n",
       "      <td>No</td>\n",
       "      <td>No</td>\n",
       "      <td>No</td>\n",
       "      <td>Month-to-month</td>\n",
       "      <td>Yes</td>\n",
       "      <td>Electronic check</td>\n",
       "      <td>70.70</td>\n",
       "      <td>151.65</td>\n",
       "      <td>Yes</td>\n",
       "    </tr>\n",
       "  </tbody>\n",
       "</table>\n",
       "</div>"
      ],
      "text/plain": [
       "   customerid  gender  seniorcitizen partner dependents  tenure phoneservice  \\\n",
       "0  7590-VHVEG  Female              0     Yes         No       1           No   \n",
       "1  5575-GNVDE    Male              0      No         No      34          Yes   \n",
       "2  3668-QPYBK    Male              0      No         No       2          Yes   \n",
       "3  7795-CFOCW    Male              0      No         No      45           No   \n",
       "4  9237-HQITU  Female              0      No         No       2          Yes   \n",
       "\n",
       "      multiplelines internetservice onlinesecurity onlinebackup  \\\n",
       "0  No phone service             DSL             No          Yes   \n",
       "1                No             DSL            Yes           No   \n",
       "2                No             DSL            Yes          Yes   \n",
       "3  No phone service             DSL            Yes           No   \n",
       "4                No     Fiber optic             No           No   \n",
       "\n",
       "  deviceprotection techsupport streamingtv streamingmovies        contract  \\\n",
       "0               No          No          No              No  Month-to-month   \n",
       "1              Yes          No          No              No        One year   \n",
       "2               No          No          No              No  Month-to-month   \n",
       "3              Yes         Yes          No              No        One year   \n",
       "4               No          No          No              No  Month-to-month   \n",
       "\n",
       "  paperlessbilling              paymentmethod  monthlycharges  totalcharges  \\\n",
       "0              Yes           Electronic check           29.85         29.85   \n",
       "1               No               Mailed check           56.95       1889.50   \n",
       "2              Yes               Mailed check           53.85        108.15   \n",
       "3               No  Bank transfer (automatic)           42.30       1840.75   \n",
       "4              Yes           Electronic check           70.70        151.65   \n",
       "\n",
       "  churn  \n",
       "0    No  \n",
       "1    No  \n",
       "2   Yes  \n",
       "3    No  \n",
       "4   Yes  "
      ]
     },
     "execution_count": 3,
     "metadata": {},
     "output_type": "execute_result"
    }
   ],
   "source": [
    "pd.set_option('display.max_columns', None)\n",
    "df.head()"
   ]
  },
  {
   "cell_type": "code",
   "execution_count": 4,
   "id": "d0efef58",
   "metadata": {},
   "outputs": [
    {
     "name": "stdout",
     "output_type": "stream",
     "text": [
      "pour la colonne customerid le nombre d'élement est de 7032\n",
      "pour la colonne gender le nombre d'élement est de 2\n",
      "pour la colonne seniorcitizen le nombre d'élement est de 2\n",
      "pour la colonne partner le nombre d'élement est de 2\n",
      "pour la colonne dependents le nombre d'élement est de 2\n",
      "pour la colonne tenure le nombre d'élement est de 72\n",
      "pour la colonne phoneservice le nombre d'élement est de 2\n",
      "pour la colonne multiplelines le nombre d'élement est de 3\n",
      "pour la colonne internetservice le nombre d'élement est de 3\n",
      "pour la colonne onlinesecurity le nombre d'élement est de 3\n",
      "pour la colonne onlinebackup le nombre d'élement est de 3\n",
      "pour la colonne deviceprotection le nombre d'élement est de 3\n",
      "pour la colonne techsupport le nombre d'élement est de 3\n",
      "pour la colonne streamingtv le nombre d'élement est de 3\n",
      "pour la colonne streamingmovies le nombre d'élement est de 3\n",
      "pour la colonne contract le nombre d'élement est de 3\n",
      "pour la colonne paperlessbilling le nombre d'élement est de 2\n",
      "pour la colonne paymentmethod le nombre d'élement est de 4\n",
      "pour la colonne monthlycharges le nombre d'élement est de 1584\n",
      "pour la colonne totalcharges le nombre d'élement est de 6530\n",
      "pour la colonne churn le nombre d'élement est de 2\n"
     ]
    }
   ],
   "source": [
    "for elem in df.columns:\n",
    "    print(f\"pour la colonne {elem} le nombre d'élement est de {len(df[elem].unique())}\")"
   ]
  },
  {
   "cell_type": "code",
   "execution_count": null,
   "id": "d29d1b43",
   "metadata": {},
   "outputs": [],
   "source": []
  },
  {
   "cell_type": "code",
   "execution_count": 5,
   "id": "5747f14c",
   "metadata": {},
   "outputs": [],
   "source": [
    "features_of_interest = [\n",
    "'gender',\n",
    "'seniorcitizen',\n",
    "'partner',\n",
    "'dependents',\n",
    "'tenure', \n",
    "'phoneservice', \n",
    "'multiplelines', \n",
    "'internetservice',\n",
    "'onlinesecurity',\n",
    "'onlinebackup', \n",
    "'deviceprotection', \n",
    "'techsupport',\n",
    "'streamingtv', \n",
    "'streamingmovies', \n",
    "'contract', \n",
    "'paperlessbilling',\n",
    "'paymentmethod', \n",
    "'monthlycharges', \n",
    "'totalcharges'\n",
    "]\n",
    "\n",
    "\n",
    "numerical_column = [\n",
    "\n",
    "'tenure', \n",
    "'monthlycharges',\n",
    "'totalcharges'\n",
    "]\n",
    "\n",
    "\n",
    "ordinal_column = [\n",
    "'seniorcitizen',\n",
    "'gender',\n",
    "'partner',\n",
    "'dependents',\n",
    "'phoneservice',\n",
    "'paperlessbilling',\n",
    "\n",
    "\n",
    "]\n",
    "\n",
    "categorical_column = [\n",
    "\n",
    "'multiplelines', \n",
    "'onlinesecurity',\n",
    "'onlinebackup', \n",
    "'deviceprotection', \n",
    "'techsupport',\n",
    "'streamingtv', \n",
    "'streamingmovies', \n",
    "'contract', \n",
    "'paymentmethod', \n",
    "\n",
    "\n",
    "]\n",
    "\n",
    "target_name = \"churn\"\n",
    "# data, target, numerical_data,categorical_data, ordinal_column = (\n",
    "#     df[features_of_interest],\n",
    "#     df[target_name],\n",
    "#     df[numerical_column],\n",
    "#     df[categorical_column]\n",
    "# )\n"
   ]
  },
  {
   "cell_type": "markdown",
   "id": "fb73e4e1",
   "metadata": {},
   "source": [
    "### Analyse exploratoire(Anova)"
   ]
  },
  {
   "cell_type": "code",
   "execution_count": 6,
   "id": "f28b0a24",
   "metadata": {},
   "outputs": [
    {
     "name": "stdout",
     "output_type": "stream",
     "text": [
      "Le résultat pour tenure\n",
      "Statistique F: 1007.5094314093412\n",
      "P-value: 9.437650217603554e-207\n",
      "\n",
      "================================================================================\n",
      "Le résultat pour monthlycharges\n",
      "Statistique F: 271.5769897682043\n",
      "P-value: 6.760843117999019e-60\n",
      "\n",
      "================================================================================\n",
      "Le résultat pour totalcharges\n",
      "Statistique F: 291.34486236649343\n",
      "P-value: 4.8768656897080145e-64\n",
      "\n",
      "================================================================================\n"
     ]
    }
   ],
   "source": [
    "\n",
    "\n",
    "from scipy.stats import f_oneway\n",
    "# Exemple de dataframe df_2_anova\n",
    "num_anova = [\n",
    "\n",
    "'tenure', \n",
    "'monthlycharges',\n",
    "'totalcharges',\n",
    "'churn'\n",
    "]\n",
    "df_2_anova = df[num_anova]\n",
    "\n",
    "\n",
    "\n",
    "# Boucle sur les colonnes discrètes\n",
    "for column in num_anova:\n",
    "    if column != 'churn':\n",
    "        # Créer les groupes selon la valeur de churn (\"Yes\" ou \"No\")\n",
    "        groups = [\n",
    "            df_2_anova[df_2_anova['churn'] == label][column].dropna()\n",
    "            for label in df_2_anova['churn'].unique()\n",
    "        ]\n",
    "        # Appliquer le test ANOVA\n",
    "        stat_anova, p_value = f_oneway(*groups)\n",
    "        \n",
    "        # Afficher les résultats de l'ANOVA\n",
    "        print(f'Le résultat pour {column}')\n",
    "        print(\"Statistique F:\", stat_anova)\n",
    "        print(\"P-value:\", p_value)\n",
    "        print('')\n",
    "        print('================================================================================')\n",
    "\n"
   ]
  },
  {
   "cell_type": "markdown",
   "id": "2548afd2",
   "metadata": {},
   "source": [
    "#### Analyse du chi2"
   ]
  },
  {
   "cell_type": "code",
   "execution_count": 7,
   "id": "8437af87",
   "metadata": {},
   "outputs": [
    {
     "name": "stdout",
     "output_type": "stream",
     "text": [
      "           Variable         Chi2  df        p-value Significance  Cramér's V  \\\n",
      "7          contract  1179.545829   2  7.326182e-257  Significant    0.409560   \n",
      "1    onlinesecurity   846.677389   2  1.400687e-184  Significant    0.346992   \n",
      "4       techsupport   824.925564   2  7.407808e-180  Significant    0.342506   \n",
      "8     paymentmethod   645.429900   3  1.426310e-139  Significant    0.302960   \n",
      "2      onlinebackup   599.175185   2  7.776099e-131  Significant    0.291902   \n",
      "3  deviceprotection   555.880327   2  1.959389e-121  Significant    0.281159   \n",
      "6   streamingmovies   374.268432   2   5.353560e-82  Significant    0.230702   \n",
      "5       streamingtv   372.456502   2   1.324641e-81  Significant    0.230143   \n",
      "0     multiplelines    11.271541   2   3.567927e-03  Significant    0.040036   \n",
      "\n",
      "  Association Strength  \n",
      "7             Moderate  \n",
      "1             Moderate  \n",
      "4             Moderate  \n",
      "8             Moderate  \n",
      "2                 Weak  \n",
      "3                 Weak  \n",
      "6                 Weak  \n",
      "5                 Weak  \n",
      "0            Very weak  \n"
     ]
    }
   ],
   "source": [
    "from scipy.stats import chi2_contingency\n",
    "import numpy as np\n",
    "import pandas as pd\n",
    "\n",
    "results = []\n",
    "\n",
    "cat_column = [\n",
    "    'multiplelines', \n",
    "    'onlinesecurity',\n",
    "    'onlinebackup', \n",
    "    'deviceprotection', \n",
    "    'techsupport',\n",
    "    'streamingtv', \n",
    "    'streamingmovies', \n",
    "    'contract', \n",
    "    'paymentmethod', \n",
    "    'churn'  # cible\n",
    "]\n",
    "\n",
    "# On isole churn\n",
    "target = 'churn'\n",
    "features = [col for col in cat_column if col != target]\n",
    "\n",
    "# Test du chi2 + Cramér's V\n",
    "for var in features:\n",
    "    contingency_table = pd.crosstab(df[var], df[target])\n",
    "\n",
    "    # Chi2\n",
    "    chi2, p, dof, expected = chi2_contingency(contingency_table)\n",
    "\n",
    "    # Cramér's V\n",
    "    n = contingency_table.sum().sum()\n",
    "    k, r = contingency_table.shape\n",
    "    cramers_v = np.sqrt(chi2 / (n * (min(k - 1, r - 1))))\n",
    "\n",
    "    # Interprétation\n",
    "    if cramers_v < 0.1:\n",
    "        strength = 'Very weak'\n",
    "    elif cramers_v < 0.3:\n",
    "        strength = 'Weak'\n",
    "    elif cramers_v < 0.5:\n",
    "        strength = 'Moderate'\n",
    "    else:\n",
    "        strength = 'Strong'\n",
    "    \n",
    "    significance = 'Significant' if p < 0.05 else 'Not significant'\n",
    "    \n",
    "    results.append([var, chi2, dof, p, significance, cramers_v, strength])\n",
    "\n",
    "# Résultats en DataFrame pour affichage clair\n",
    "results_df = pd.DataFrame(results, columns=['Variable', 'Chi2', 'df', 'p-value', 'Significance', \"Cramér's V\", 'Association Strength'])\n",
    "print(results_df.sort_values(\"Cramér's V\", ascending=False))\n"
   ]
  },
  {
   "cell_type": "code",
   "execution_count": 8,
   "id": "c7829fb7",
   "metadata": {},
   "outputs": [
    {
     "data": {
      "text/plain": [
       "((7032, 20), (7032, 1))"
      ]
     },
     "execution_count": 8,
     "metadata": {},
     "output_type": "execute_result"
    }
   ],
   "source": [
    "# Séparation train/val/test (80/20 puis 20% de train pour val)\n",
    "X = df.drop(columns=target_name)\n",
    "y=df[target_name]\n",
    "binirazer = LabelBinarizer()\n",
    "y = binirazer.fit_transform(y)\n",
    "X.shape, y.shape"
   ]
  },
  {
   "cell_type": "code",
   "execution_count": 9,
   "id": "48324313",
   "metadata": {},
   "outputs": [
    {
     "data": {
      "text/plain": [
       "((4500, 20), (1407, 20), (1125, 20), (1407, 20), (1125, 1), (1407, 1))"
      ]
     },
     "execution_count": 9,
     "metadata": {},
     "output_type": "execute_result"
    }
   ],
   "source": [
    "\n",
    "#train\n",
    "\n",
    "X_train_0, X_test, y_train_0, y_test = train_test_split(\n",
    "    X, y, test_size=0.2, random_state=42, stratify=y\n",
    ")\n",
    "\n",
    "# On prend 20% de X_train pour validation\n",
    "X_train, X_val, y_train, y_val = train_test_split(\n",
    "    X_train_0, y_train_0, test_size=0.2, random_state=42, stratify=y_train_0\n",
    ")\n",
    "X_train.shape, X_test.shape, X_val.shape, X_test.shape, y_val.shape, y_test.shape"
   ]
  },
  {
   "cell_type": "code",
   "execution_count": 10,
   "id": "ac1730ae",
   "metadata": {},
   "outputs": [
    {
     "name": "stdout",
     "output_type": "stream",
     "text": [
      "[[-0.57446809 -0.30264699 -0.39167932  0.          1.          0.\n",
      "   0.          1.          1.          1.          0.          0.\n",
      "   0.          0.          1.          1.          0.          0.\n",
      "   1.          0.          0.          0.          0.          1.\n",
      "   1.          0.          0.          1.          0.          0.\n",
      "   1.          0.          0.          0.          0.          0.\n",
      "   1.        ]\n",
      " [ 0.40425532 -0.94916842 -0.1212425   0.          1.          0.\n",
      "   0.          1.          0.          1.          0.          0.\n",
      "   0.          1.          0.          0.          1.          0.\n",
      "   0.          1.          0.          0.          1.          0.\n",
      "   0.          1.          0.          0.          1.          0.\n",
      "   0.          1.          0.          1.          0.          0.\n",
      "   0.        ]\n",
      " [ 0.21276596 -0.22487702  0.23847503  0.          0.          0.\n",
      "   0.          1.          1.          1.          0.          0.\n",
      "   1.          0.          0.          0.          0.          1.\n",
      "   1.          0.          0.          1.          0.          0.\n",
      "   0.          0.          1.          1.          0.          0.\n",
      "   0.          1.          0.          0.          1.          0.\n",
      "   0.        ]\n",
      " [-0.44680851  0.05434528 -0.23101532  0.          0.          0.\n",
      "   0.          1.          1.          0.          0.          1.\n",
      "   1.          0.          0.          1.          0.          0.\n",
      "   1.          0.          0.          1.          0.          0.\n",
      "   1.          0.          0.          1.          0.          0.\n",
      "   1.          0.          0.          0.          0.          1.\n",
      "   0.        ]\n",
      " [-0.59574468  0.09650972 -0.39508484  1.          1.          0.\n",
      "   0.          1.          1.          0.          0.          1.\n",
      "   1.          0.          0.          1.          0.          0.\n",
      "   1.          0.          0.          1.          0.          0.\n",
      "   1.          0.          0.          1.          0.          0.\n",
      "   1.          0.          0.          0.          0.          1.\n",
      "   0.        ]]\n",
      "[[-0.12765957  0.52658702  0.24572835  0.          0.          0.\n",
      "   0.          1.          1.          0.          0.          1.\n",
      "   1.          0.          0.          0.          0.          1.\n",
      "   1.          0.          0.          1.          0.          0.\n",
      "   0.          0.          1.          0.          0.          1.\n",
      "   1.          0.          0.          0.          1.          0.\n",
      "   0.        ]\n",
      " [ 0.53191489  0.452565    1.09273046  0.          0.          0.\n",
      "   0.          1.          1.          0.          0.          1.\n",
      "   1.          0.          0.          0.          0.          1.\n",
      "   0.          0.          1.          1.          0.          0.\n",
      "   0.          0.          1.          1.          0.          0.\n",
      "   0.          1.          0.          1.          0.          0.\n",
      "   0.        ]\n",
      " [-0.44680851 -0.93511361 -0.37684834  0.          0.          0.\n",
      "   0.          1.          1.          1.          0.          0.\n",
      "   0.          1.          0.          0.          1.          0.\n",
      "   0.          1.          0.          0.          1.          0.\n",
      "   0.          1.          0.          0.          1.          0.\n",
      "   1.          0.          0.          0.          0.          0.\n",
      "   1.        ]\n",
      " [ 0.25531915 -0.03935348  0.41994074  0.          1.          1.\n",
      "   1.          1.          0.          0.          0.          1.\n",
      "   1.          0.          0.          0.          0.          1.\n",
      "   0.          0.          1.          1.          0.          0.\n",
      "   0.          0.          1.          1.          0.          0.\n",
      "   0.          1.          0.          1.          0.          0.\n",
      "   0.        ]\n",
      " [ 0.91489362  0.74396814  1.93162418  0.          1.          1.\n",
      "   1.          1.          1.          0.          0.          1.\n",
      "   0.          0.          1.          0.          0.          1.\n",
      "   0.          0.          1.          1.          0.          0.\n",
      "   0.          0.          1.          0.          0.          1.\n",
      "   0.          0.          1.          1.          0.          0.\n",
      "   0.        ]]\n",
      "[[ 0.63829787  0.10025767  0.92189412  0.          0.          1.\n",
      "   1.          1.          1.          1.          0.          0.\n",
      "   1.          0.          0.          0.          0.          1.\n",
      "   1.          0.          0.          0.          0.          1.\n",
      "   0.          0.          1.          0.          0.          1.\n",
      "   0.          0.          1.          0.          1.          0.\n",
      "   0.        ]\n",
      " [-0.46808511  0.14898103 -0.26322773  0.          0.          0.\n",
      "   0.          1.          1.          0.          0.          1.\n",
      "   1.          0.          0.          0.          0.          1.\n",
      "   1.          0.          0.          1.          0.          0.\n",
      "   1.          0.          0.          1.          0.          0.\n",
      "   1.          0.          0.          1.          0.          0.\n",
      "   0.        ]\n",
      " [ 0.53191489 -0.94635746 -0.09914346  0.          0.          0.\n",
      "   0.          1.          0.          1.          0.          0.\n",
      "   0.          1.          0.          0.          1.          0.\n",
      "   0.          1.          0.          0.          1.          0.\n",
      "   0.          1.          0.          0.          1.          0.\n",
      "   0.          0.          1.          0.          0.          0.\n",
      "   1.        ]\n",
      " [-0.57446809 -0.9360506  -0.40600905  0.          0.          0.\n",
      "   0.          1.          0.          1.          0.          0.\n",
      "   0.          1.          0.          0.          1.          0.\n",
      "   0.          1.          0.          0.          1.          0.\n",
      "   0.          1.          0.          0.          1.          0.\n",
      "   1.          0.          0.          0.          0.          0.\n",
      "   1.        ]\n",
      " [ 0.89361702  0.64745842  1.81017529  0.          0.          1.\n",
      "   0.          1.          1.          0.          0.          1.\n",
      "   1.          0.          0.          0.          0.          1.\n",
      "   0.          0.          1.          1.          0.          0.\n",
      "   0.          0.          1.          0.          0.          1.\n",
      "   0.          0.          1.          1.          0.          0.\n",
      "   0.        ]]\n"
     ]
    }
   ],
   "source": [
    "# Construction du transformateur\n",
    "preprocessor = ColumnTransformer(\n",
    "    transformers=[\n",
    "        ('num', RobustScaler(), numerical_column),\n",
    "        ('ord', OrdinalEncoder(), ordinal_column),\n",
    "        ('cat', OneHotEncoder(handle_unknown='ignore'), categorical_column)\n",
    "    ]\n",
    ")\n",
    "\n",
    "# Fit sur le train uniquement\n",
    "X_train = preprocessor.fit_transform(X_train)\n",
    "X_val = preprocessor.transform(X_val)\n",
    "X_test= preprocessor.transform(X_test)\n",
    "\n",
    "# Affichage\n",
    "print(X_train[:5])\n",
    "print(X_val[:5])\n",
    "print(X_test[:5])"
   ]
  },
  {
   "cell_type": "code",
   "execution_count": 11,
   "id": "5f5fff09",
   "metadata": {},
   "outputs": [
    {
     "data": {
      "text/plain": [
       "(array([0, 1]), 2)"
      ]
     },
     "execution_count": 11,
     "metadata": {},
     "output_type": "execute_result"
    }
   ],
   "source": [
    "# Vérification des classes\n",
    "num_classes = len(np.unique(y))\n",
    "np.unique(y), num_classes"
   ]
  },
  {
   "cell_type": "code",
   "execution_count": 12,
   "id": "5f7a0af6",
   "metadata": {},
   "outputs": [
    {
     "data": {
      "text/plain": [
       "(array([[1., 0.],\n",
       "        [1., 0.],\n",
       "        [1., 0.],\n",
       "        [1., 0.],\n",
       "        [0., 1.]]),\n",
       " array([[1., 0.],\n",
       "        [1., 0.],\n",
       "        [1., 0.],\n",
       "        [1., 0.],\n",
       "        [1., 0.]]),\n",
       " array([[1., 0.],\n",
       "        [1., 0.],\n",
       "        [1., 0.],\n",
       "        [0., 1.],\n",
       "        [1., 0.]]))"
      ]
     },
     "execution_count": 12,
     "metadata": {},
     "output_type": "execute_result"
    }
   ],
   "source": [
    "# Encodage des labels en one-hot\n",
    "y_train_cat = tf.keras.utils.to_categorical(y_train, num_classes)\n",
    "y_val_cat = tf.keras.utils.to_categorical(y_val, num_classes)\n",
    "y_test_cat  = tf.keras.utils.to_categorical(y_test,  num_classes)\n",
    "y_train_cat[:5], y_val_cat[:5], y_test_cat[:5]"
   ]
  },
  {
   "cell_type": "code",
   "execution_count": 13,
   "id": "186ae485",
   "metadata": {},
   "outputs": [],
   "source": [
    "def build_model():\n",
    "    # Réseau avec 2 couches cachées de 64 neurones chacune\n",
    "    # et une couche de sortie avec activation softmax pour classification\n",
    "    model = tf.keras.Sequential([\n",
    "        tf.keras.layers.Input(shape=(X_train.shape[1],)),\n",
    "        tf.keras.layers.Dense(64, activation='relu'),\n",
    "        tf.keras.layers.Dense(64, activation='relu'),\n",
    "        tf.keras.layers.Dense(num_classes, activation='softmax')\n",
    "    ])\n",
    "\n",
    "    # Définition de la fonction de perte, de l'optimiseur et des métriques\n",
    "    model.compile(\n",
    "        optimizer=tf.keras.optimizers.Adam(learning_rate=0.001),\n",
    "        loss='categorical_crossentropy',\n",
    "        metrics=['accuracy']\n",
    "    )\n",
    "\n",
    "    model.summary()\n",
    "\n",
    "    return model"
   ]
  },
  {
   "cell_type": "code",
   "execution_count": 14,
   "id": "fc951706",
   "metadata": {},
   "outputs": [
    {
     "name": "stderr",
     "output_type": "stream",
     "text": [
      "E0000 00:00:1747812443.241252 1180275 cuda_executor.cc:1228] INTERNAL: CUDA Runtime error: Failed call to cudaGetRuntimeVersion: Error loading CUDA libraries. GPU will not be used.: Error loading CUDA libraries. GPU will not be used.\n",
      "W0000 00:00:1747812443.241815 1180275 gpu_device.cc:2341] Cannot dlopen some GPU libraries. Please make sure the missing libraries mentioned above are installed properly if you would like to use GPU. Follow the guide at https://www.tensorflow.org/install/gpu for how to download and setup the required libraries for your platform.\n",
      "Skipping registering GPU devices...\n"
     ]
    },
    {
     "data": {
      "text/html": [
       "<pre style=\"white-space:pre;overflow-x:auto;line-height:normal;font-family:Menlo,'DejaVu Sans Mono',consolas,'Courier New',monospace\"><span style=\"font-weight: bold\">Model: \"sequential\"</span>\n",
       "</pre>\n"
      ],
      "text/plain": [
       "\u001b[1mModel: \"sequential\"\u001b[0m\n"
      ]
     },
     "metadata": {},
     "output_type": "display_data"
    },
    {
     "data": {
      "text/html": [
       "<pre style=\"white-space:pre;overflow-x:auto;line-height:normal;font-family:Menlo,'DejaVu Sans Mono',consolas,'Courier New',monospace\">┏━━━━━━━━━━━━━━━━━━━━━━━━━━━━━━━━━┳━━━━━━━━━━━━━━━━━━━━━━━━┳━━━━━━━━━━━━━━━┓\n",
       "┃<span style=\"font-weight: bold\"> Layer (type)                    </span>┃<span style=\"font-weight: bold\"> Output Shape           </span>┃<span style=\"font-weight: bold\">       Param # </span>┃\n",
       "┡━━━━━━━━━━━━━━━━━━━━━━━━━━━━━━━━━╇━━━━━━━━━━━━━━━━━━━━━━━━╇━━━━━━━━━━━━━━━┩\n",
       "│ dense (<span style=\"color: #0087ff; text-decoration-color: #0087ff\">Dense</span>)                   │ (<span style=\"color: #00d7ff; text-decoration-color: #00d7ff\">None</span>, <span style=\"color: #00af00; text-decoration-color: #00af00\">64</span>)             │         <span style=\"color: #00af00; text-decoration-color: #00af00\">2,432</span> │\n",
       "├─────────────────────────────────┼────────────────────────┼───────────────┤\n",
       "│ dense_1 (<span style=\"color: #0087ff; text-decoration-color: #0087ff\">Dense</span>)                 │ (<span style=\"color: #00d7ff; text-decoration-color: #00d7ff\">None</span>, <span style=\"color: #00af00; text-decoration-color: #00af00\">64</span>)             │         <span style=\"color: #00af00; text-decoration-color: #00af00\">4,160</span> │\n",
       "├─────────────────────────────────┼────────────────────────┼───────────────┤\n",
       "│ dense_2 (<span style=\"color: #0087ff; text-decoration-color: #0087ff\">Dense</span>)                 │ (<span style=\"color: #00d7ff; text-decoration-color: #00d7ff\">None</span>, <span style=\"color: #00af00; text-decoration-color: #00af00\">2</span>)              │           <span style=\"color: #00af00; text-decoration-color: #00af00\">130</span> │\n",
       "└─────────────────────────────────┴────────────────────────┴───────────────┘\n",
       "</pre>\n"
      ],
      "text/plain": [
       "┏━━━━━━━━━━━━━━━━━━━━━━━━━━━━━━━━━┳━━━━━━━━━━━━━━━━━━━━━━━━┳━━━━━━━━━━━━━━━┓\n",
       "┃\u001b[1m \u001b[0m\u001b[1mLayer (type)                   \u001b[0m\u001b[1m \u001b[0m┃\u001b[1m \u001b[0m\u001b[1mOutput Shape          \u001b[0m\u001b[1m \u001b[0m┃\u001b[1m \u001b[0m\u001b[1m      Param #\u001b[0m\u001b[1m \u001b[0m┃\n",
       "┡━━━━━━━━━━━━━━━━━━━━━━━━━━━━━━━━━╇━━━━━━━━━━━━━━━━━━━━━━━━╇━━━━━━━━━━━━━━━┩\n",
       "│ dense (\u001b[38;5;33mDense\u001b[0m)                   │ (\u001b[38;5;45mNone\u001b[0m, \u001b[38;5;34m64\u001b[0m)             │         \u001b[38;5;34m2,432\u001b[0m │\n",
       "├─────────────────────────────────┼────────────────────────┼───────────────┤\n",
       "│ dense_1 (\u001b[38;5;33mDense\u001b[0m)                 │ (\u001b[38;5;45mNone\u001b[0m, \u001b[38;5;34m64\u001b[0m)             │         \u001b[38;5;34m4,160\u001b[0m │\n",
       "├─────────────────────────────────┼────────────────────────┼───────────────┤\n",
       "│ dense_2 (\u001b[38;5;33mDense\u001b[0m)                 │ (\u001b[38;5;45mNone\u001b[0m, \u001b[38;5;34m2\u001b[0m)              │           \u001b[38;5;34m130\u001b[0m │\n",
       "└─────────────────────────────────┴────────────────────────┴───────────────┘\n"
      ]
     },
     "metadata": {},
     "output_type": "display_data"
    },
    {
     "data": {
      "text/html": [
       "<pre style=\"white-space:pre;overflow-x:auto;line-height:normal;font-family:Menlo,'DejaVu Sans Mono',consolas,'Courier New',monospace\"><span style=\"font-weight: bold\"> Total params: </span><span style=\"color: #00af00; text-decoration-color: #00af00\">6,722</span> (26.26 KB)\n",
       "</pre>\n"
      ],
      "text/plain": [
       "\u001b[1m Total params: \u001b[0m\u001b[38;5;34m6,722\u001b[0m (26.26 KB)\n"
      ]
     },
     "metadata": {},
     "output_type": "display_data"
    },
    {
     "data": {
      "text/html": [
       "<pre style=\"white-space:pre;overflow-x:auto;line-height:normal;font-family:Menlo,'DejaVu Sans Mono',consolas,'Courier New',monospace\"><span style=\"font-weight: bold\"> Trainable params: </span><span style=\"color: #00af00; text-decoration-color: #00af00\">6,722</span> (26.26 KB)\n",
       "</pre>\n"
      ],
      "text/plain": [
       "\u001b[1m Trainable params: \u001b[0m\u001b[38;5;34m6,722\u001b[0m (26.26 KB)\n"
      ]
     },
     "metadata": {},
     "output_type": "display_data"
    },
    {
     "data": {
      "text/html": [
       "<pre style=\"white-space:pre;overflow-x:auto;line-height:normal;font-family:Menlo,'DejaVu Sans Mono',consolas,'Courier New',monospace\"><span style=\"font-weight: bold\"> Non-trainable params: </span><span style=\"color: #00af00; text-decoration-color: #00af00\">0</span> (0.00 B)\n",
       "</pre>\n"
      ],
      "text/plain": [
       "\u001b[1m Non-trainable params: \u001b[0m\u001b[38;5;34m0\u001b[0m (0.00 B)\n"
      ]
     },
     "metadata": {},
     "output_type": "display_data"
    }
   ],
   "source": [
    "model = build_model()"
   ]
  },
  {
   "cell_type": "code",
   "execution_count": 15,
   "id": "f7115439",
   "metadata": {},
   "outputs": [
    {
     "name": "stdout",
     "output_type": "stream",
     "text": [
      "Epoch 1/20\n",
      "\u001b[1m282/282\u001b[0m \u001b[32m━━━━━━━━━━━━━━━━━━━━\u001b[0m\u001b[37m\u001b[0m \u001b[1m1s\u001b[0m 2ms/step - accuracy: 0.7569 - loss: 0.4830 - val_accuracy: 0.7876 - val_loss: 0.4354\n",
      "Epoch 2/20\n",
      "\u001b[1m282/282\u001b[0m \u001b[32m━━━━━━━━━━━━━━━━━━━━\u001b[0m\u001b[37m\u001b[0m \u001b[1m0s\u001b[0m 1ms/step - accuracy: 0.8075 - loss: 0.4110 - val_accuracy: 0.7920 - val_loss: 0.4373\n",
      "Epoch 3/20\n",
      "\u001b[1m282/282\u001b[0m \u001b[32m━━━━━━━━━━━━━━━━━━━━\u001b[0m\u001b[37m\u001b[0m \u001b[1m0s\u001b[0m 1ms/step - accuracy: 0.8008 - loss: 0.4198 - val_accuracy: 0.7884 - val_loss: 0.4423\n",
      "Epoch 4/20\n",
      "\u001b[1m282/282\u001b[0m \u001b[32m━━━━━━━━━━━━━━━━━━━━\u001b[0m\u001b[37m\u001b[0m \u001b[1m0s\u001b[0m 1ms/step - accuracy: 0.8117 - loss: 0.4232 - val_accuracy: 0.7884 - val_loss: 0.4333\n",
      "Epoch 5/20\n",
      "\u001b[1m282/282\u001b[0m \u001b[32m━━━━━━━━━━━━━━━━━━━━\u001b[0m\u001b[37m\u001b[0m \u001b[1m0s\u001b[0m 1ms/step - accuracy: 0.8084 - loss: 0.3977 - val_accuracy: 0.7929 - val_loss: 0.4323\n",
      "Epoch 6/20\n",
      "\u001b[1m282/282\u001b[0m \u001b[32m━━━━━━━━━━━━━━━━━━━━\u001b[0m\u001b[37m\u001b[0m \u001b[1m0s\u001b[0m 1ms/step - accuracy: 0.8054 - loss: 0.4088 - val_accuracy: 0.7902 - val_loss: 0.4354\n",
      "Epoch 7/20\n",
      "\u001b[1m282/282\u001b[0m \u001b[32m━━━━━━━━━━━━━━━━━━━━\u001b[0m\u001b[37m\u001b[0m \u001b[1m0s\u001b[0m 1ms/step - accuracy: 0.8181 - loss: 0.3920 - val_accuracy: 0.7849 - val_loss: 0.4380\n",
      "Epoch 8/20\n",
      "\u001b[1m282/282\u001b[0m \u001b[32m━━━━━━━━━━━━━━━━━━━━\u001b[0m\u001b[37m\u001b[0m \u001b[1m0s\u001b[0m 1ms/step - accuracy: 0.8179 - loss: 0.3855 - val_accuracy: 0.7902 - val_loss: 0.4338\n",
      "Epoch 9/20\n",
      "\u001b[1m282/282\u001b[0m \u001b[32m━━━━━━━━━━━━━━━━━━━━\u001b[0m\u001b[37m\u001b[0m \u001b[1m0s\u001b[0m 1ms/step - accuracy: 0.8154 - loss: 0.3943 - val_accuracy: 0.7884 - val_loss: 0.4402\n",
      "Epoch 10/20\n",
      "\u001b[1m282/282\u001b[0m \u001b[32m━━━━━━━━━━━━━━━━━━━━\u001b[0m\u001b[37m\u001b[0m \u001b[1m0s\u001b[0m 1ms/step - accuracy: 0.8218 - loss: 0.3706 - val_accuracy: 0.7849 - val_loss: 0.4397\n",
      "Epoch 11/20\n",
      "\u001b[1m282/282\u001b[0m \u001b[32m━━━━━━━━━━━━━━━━━━━━\u001b[0m\u001b[37m\u001b[0m \u001b[1m0s\u001b[0m 1ms/step - accuracy: 0.8272 - loss: 0.3675 - val_accuracy: 0.7938 - val_loss: 0.4428\n",
      "Epoch 12/20\n",
      "\u001b[1m282/282\u001b[0m \u001b[32m━━━━━━━━━━━━━━━━━━━━\u001b[0m\u001b[37m\u001b[0m \u001b[1m0s\u001b[0m 1ms/step - accuracy: 0.8263 - loss: 0.3742 - val_accuracy: 0.7867 - val_loss: 0.4421\n",
      "Epoch 13/20\n",
      "\u001b[1m282/282\u001b[0m \u001b[32m━━━━━━━━━━━━━━━━━━━━\u001b[0m\u001b[37m\u001b[0m \u001b[1m0s\u001b[0m 1ms/step - accuracy: 0.8475 - loss: 0.3509 - val_accuracy: 0.7929 - val_loss: 0.4435\n",
      "Epoch 14/20\n",
      "\u001b[1m282/282\u001b[0m \u001b[32m━━━━━━━━━━━━━━━━━━━━\u001b[0m\u001b[37m\u001b[0m \u001b[1m0s\u001b[0m 1ms/step - accuracy: 0.8330 - loss: 0.3566 - val_accuracy: 0.7778 - val_loss: 0.4566\n",
      "Epoch 15/20\n",
      "\u001b[1m282/282\u001b[0m \u001b[32m━━━━━━━━━━━━━━━━━━━━\u001b[0m\u001b[37m\u001b[0m \u001b[1m0s\u001b[0m 1ms/step - accuracy: 0.8398 - loss: 0.3543 - val_accuracy: 0.7831 - val_loss: 0.4615\n",
      "Epoch 16/20\n",
      "\u001b[1m282/282\u001b[0m \u001b[32m━━━━━━━━━━━━━━━━━━━━\u001b[0m\u001b[37m\u001b[0m \u001b[1m0s\u001b[0m 1ms/step - accuracy: 0.8325 - loss: 0.3564 - val_accuracy: 0.7876 - val_loss: 0.4615\n",
      "Epoch 17/20\n",
      "\u001b[1m282/282\u001b[0m \u001b[32m━━━━━━━━━━━━━━━━━━━━\u001b[0m\u001b[37m\u001b[0m \u001b[1m0s\u001b[0m 1ms/step - accuracy: 0.8452 - loss: 0.3383 - val_accuracy: 0.7858 - val_loss: 0.4650\n",
      "Epoch 18/20\n",
      "\u001b[1m282/282\u001b[0m \u001b[32m━━━━━━━━━━━━━━━━━━━━\u001b[0m\u001b[37m\u001b[0m \u001b[1m0s\u001b[0m 1ms/step - accuracy: 0.8507 - loss: 0.3320 - val_accuracy: 0.7867 - val_loss: 0.4687\n",
      "Epoch 19/20\n",
      "\u001b[1m282/282\u001b[0m \u001b[32m━━━━━━━━━━━━━━━━━━━━\u001b[0m\u001b[37m\u001b[0m \u001b[1m0s\u001b[0m 1ms/step - accuracy: 0.8433 - loss: 0.3422 - val_accuracy: 0.7876 - val_loss: 0.4703\n",
      "Epoch 20/20\n",
      "\u001b[1m282/282\u001b[0m \u001b[32m━━━━━━━━━━━━━━━━━━━━\u001b[0m\u001b[37m\u001b[0m \u001b[1m0s\u001b[0m 1ms/step - accuracy: 0.8459 - loss: 0.3355 - val_accuracy: 0.7787 - val_loss: 0.4735\n"
     ]
    }
   ],
   "source": [
    "history = model.fit(\n",
    "    X_train, y_train_cat,\n",
    "    validation_data=(X_val, y_val_cat),\n",
    "    epochs=20,\n",
    "    batch_size=16,\n",
    "    verbose=1\n",
    ")"
   ]
  },
  {
   "cell_type": "code",
   "execution_count": 16,
   "id": "1bd35495",
   "metadata": {},
   "outputs": [
    {
     "name": "stdout",
     "output_type": "stream",
     "text": [
      "\n",
      "Accuracy sur le test set : 0.7804\n"
     ]
    }
   ],
   "source": [
    "test_loss, test_acc = model.evaluate(X_test, y_test_cat, verbose=0)\n",
    "print(f\"\\nAccuracy sur le test set : {test_acc:.4f}\")"
   ]
  },
  {
   "cell_type": "code",
   "execution_count": 17,
   "id": "99e983c5",
   "metadata": {},
   "outputs": [
    {
     "name": "stdout",
     "output_type": "stream",
     "text": [
      "\u001b[1m44/44\u001b[0m \u001b[32m━━━━━━━━━━━━━━━━━━━━\u001b[0m\u001b[37m\u001b[0m \u001b[1m0s\u001b[0m 1ms/step \n",
      "\n",
      "Classification Report :\n",
      "              precision    recall  f1-score   support\n",
      "\n",
      "         Yes       0.85      0.85      0.85      1033\n",
      "          No       0.59      0.59      0.59       374\n",
      "\n",
      "    accuracy                           0.78      1407\n",
      "   macro avg       0.72      0.72      0.72      1407\n",
      "weighted avg       0.78      0.78      0.78      1407\n",
      "\n"
     ]
    }
   ],
   "source": [
    "y_pred_probs = model.predict(X_test)\n",
    "y_pred = np.argmax(y_pred_probs, axis=1)\n",
    "print(\"\\nClassification Report :\")\n",
    "print(classification_report(y_test, y_pred, target_names=['Yes','No']))"
   ]
  },
  {
   "cell_type": "code",
   "execution_count": 18,
   "id": "bc44d21a",
   "metadata": {},
   "outputs": [
    {
     "name": "stdout",
     "output_type": "stream",
     "text": [
      "Matrice de Confusion :\n",
      "[[876 157]\n",
      " [152 222]]\n"
     ]
    }
   ],
   "source": [
    "print(\"Matrice de Confusion :\")\n",
    "cm = confusion_matrix(y_test, y_pred)\n",
    "print(cm)"
   ]
  },
  {
   "cell_type": "code",
   "execution_count": 19,
   "id": "56eca9c6",
   "metadata": {},
   "outputs": [
    {
     "data": {
      "image/png": "[encoded data removed]",
      "text/plain": [
       "<Figure size 800x600 with 2 Axes>"
      ]
     },
     "metadata": {},
     "output_type": "display_data"
    }
   ],
   "source": [
    "import seaborn as sns\n",
    "import matplotlib.pyplot as plt\n",
    "\n",
    "plt.figure(figsize=(8, 6))\n",
    "sns.heatmap(cm, annot=True, fmt='d', cmap='Blues', xticklabels=df.churn.unique(), yticklabels=df.churn.unique())\n",
    "plt.title(\"Matrice de Confusion\")\n",
    "plt.xlabel(\"Classe Prédite\")\n",
    "plt.ylabel(\"Classe Réelle\")\n",
    "plt.show()"
   ]
  },
  {
   "cell_type": "code",
   "execution_count": 20,
   "id": "2b8bedee",
   "metadata": {},
   "outputs": [
    {
     "name": "stdout",
     "output_type": "stream",
     "text": [
      "Reloading Tuner from my_dir/churn_gridsearch/tuner0.json\n"
     ]
    }
   ],
   "source": [
    "early_stop = tf.keras.callbacks.EarlyStopping(\n",
    "    monitor='val_loss',    # surveille la perte de validation\n",
    "    patience=3,            # tolère 3 époques sans amélioration\n",
    "    restore_best_weights=True\n",
    ")\n",
    "\n",
    "\n",
    "import keras_tuner as kt\n",
    "\n",
    "def build_model(hp):\n",
    "  model = tf.keras.Sequential()\n",
    "\n",
    "  model.add(tf.keras.layers.Input(shape=(X_train.shape[1],)))\n",
    "\n",
    "  model.add(tf.keras.layers.Dense(\n",
    "      hp.Choice('units', [8, 16, 32, 64, 128]),\n",
    "      activation=hp.Choice('activation', ['relu','sigmoid'])),\n",
    "      learning_rate = hp.Float('learning_rate', min_value=1e-4, max_value=1e-2, sampling='log'),\n",
    "      batch_size = hp.Int('batch_size', min_value=16, max_value=128, step=16)\n",
    ")\n",
    "  \n",
    "  model.add(tf.keras.layers.Dense(\n",
    "      hp.Choice('units2', [8, 16, 32, 64, 128]),\n",
    "      activation=hp.Choice('activation2', ['relu', 'sigmoid'])),\n",
    "      learning_rate = hp.Float('learning_rate', min_value=1e-4, max_value=1e-2, sampling='log'),\n",
    "      batch_size = hp.Int('batch_size', min_value=16, max_value=128, step=16)\n",
    ")\n",
    "  \n",
    "  model.add(tf.keras.layers.Dense(num_classes, activation='softmax'))\n",
    "\n",
    "  model.compile(\n",
    "      ptimizer = kt.Choice('optimizer', values=['adam', 'rmsprop']),\n",
    "      loss='categorical_crossentropy',\n",
    "      metrics=['accuracy','roc_auc_score']\n",
    "  )\n",
    "  return model\n",
    "\n",
    "# On instancie le tuner\n",
    "# tuner = kt.RandomSearch(\n",
    "#     build_model,\n",
    "#     objective='val_loss',\n",
    "#     max_trials=10,\n",
    "#     project_name='churn_tuning',\n",
    "# )\n",
    "tuner = kt.GridSearch(\n",
    "    build_model,\n",
    "    objective='val_recall',\n",
    "    directory='my_dir',\n",
    "    project_name='churn_gridsearch'\n",
    ")\n"
   ]
  },
  {
   "cell_type": "code",
   "execution_count": 34,
   "id": "2a50ccd8",
   "metadata": {},
   "outputs": [
    {
     "data": {
      "text/plain": [
       "array([0, 0, 0, ..., 0, 0, 0])"
      ]
     },
     "execution_count": 34,
     "metadata": {},
     "output_type": "execute_result"
    }
   ],
   "source": [
    "y_train_labels = np.argmax(y_train, axis=1)\n",
    "y_train_labels"
   ]
  },
  {
   "cell_type": "code",
   "execution_count": 55,
   "id": "7228c1dd",
   "metadata": {},
   "outputs": [
    {
     "name": "stdout",
     "output_type": "stream",
     "text": [
      "Trial 100 Complete [00h 00m 04s]\n",
      "val_recall: 0.0\n",
      "\n",
      "Best val_recall So Far: 1.0\n",
      "Total elapsed time: 00h 07m 22s\n",
      "Meilleurs hyperparamètres : {'units': 8, 'activation': 'relu', 'units2': 8, 'activation2': 'sigmoid', 'learning_rate': 0.000316227766016838}\n"
     ]
    }
   ],
   "source": [
    "import keras_tuner as kt\n",
    "import tensorflow as tf\n",
    "from sklearn.utils import class_weight\n",
    "import numpy as np\n",
    "\n",
    "# Conversion de y_train en labels binaires si nécessaire (si c'est en one-hot encoding)\n",
    "y_train_labels = np.argmax(y_train, axis=1)  # Convertir les labels en format binaire (0 ou 1)\n",
    "\n",
    "# Calcul des poids des classes\n",
    "class_weights = class_weight.compute_class_weight(\n",
    "    class_weight='balanced',\n",
    "    classes=np.unique(y_train_labels),\n",
    "    y=y_train_labels\n",
    ")\n",
    "class_weight_dict = dict(enumerate(class_weights))\n",
    "\n",
    "# Définir un callback EarlyStopping\n",
    "early_stop = tf.keras.callbacks.EarlyStopping(\n",
    "    monitor='val_recall',    # Surveille la recall sur la validation\n",
    "    patience=3,              # Tolère 3 époques sans amélioration\n",
    "    restore_best_weights=True\n",
    ")\n",
    "\n",
    "# Définir la fonction de construction du modèle\n",
    "def build_model(hp):\n",
    "    model = tf.keras.Sequential()\n",
    "\n",
    "    # Entrée\n",
    "    model.add(tf.keras.layers.Input(shape=(X_train.shape[1],)))\n",
    "\n",
    "    # Première couche dense\n",
    "    model.add(tf.keras.layers.Dense(\n",
    "        hp.Choice('units', [8, 16, 32, 64, 128]),  # Nombre de neurones\n",
    "        activation=hp.Choice('activation', ['relu', 'sigmoid'])  # Activation\n",
    "    ))\n",
    "\n",
    "    # Deuxième couche dense\n",
    "    model.add(tf.keras.layers.Dense(\n",
    "        hp.Choice('units2', [8, 16, 32, 64, 128]),  # Nombre de neurones\n",
    "        activation=hp.Choice('activation2', ['relu','sigmoid'])  # Activation\n",
    "    ))\n",
    "\n",
    "    # Couche de sortie (classification binaire)\n",
    "    model.add(tf.keras.layers.Dense(1, activation='sigmoid'))  # Pour classification binaire\n",
    "\n",
    "    # Taux d'apprentissage comme un hyperparamètre\n",
    "    learning_rate = hp.Float('learning_rate', min_value=1e-4, max_value=1e-2, sampling='log')\n",
    "\n",
    "    # Compilation du modèle avec un optimiseur et taux d'apprentissage\n",
    "    model.compile(\n",
    "        optimizer=tf.keras.optimizers.Adam(learning_rate=learning_rate),  # Optimiseur avec taux d'apprentissage\n",
    "        loss='binary_crossentropy',  # Perte pour la classification binaire\n",
    "        metrics=[tf.keras.metrics.Recall(), 'AUC']  # Surveille la recall de la classe 1 (churn = \"yes\")\n",
    "    )\n",
    "\n",
    "    model.summary()\n",
    "    return model\n",
    "\n",
    "# Définir le tuner\n",
    "tuner = kt.GridSearch(\n",
    "    build_model,\n",
    "    objective='val_recall',  # Objectif à maximiser (val_recall)\n",
    "    max_trials=100,  # Nombre d'essais du tuner\n",
    "    directory='my_dir',  # Répertoire pour stocker les résultats\n",
    "    project_name='churn_gridsearch_cw'  # Nom du projet\n",
    ")\n",
    "\n",
    "# Lancer la recherche des hyperparamètres\n",
    "tuner.search(X_train, y_train, epochs=20, validation_data=(X_val, y_val), callbacks=[early_stop], class_weight=class_weight_dict)\n",
    "\n",
    "# Afficher les meilleurs hyperparamètres trouvés\n",
    "best_hyperparameters = tuner.oracle.get_best_trials(num_trials=1)[0].hyperparameters\n",
    "print(\"Meilleurs hyperparamètres :\", best_hyperparameters.values)\n"
   ]
  },
  {
   "cell_type": "code",
   "execution_count": 46,
   "id": "ec99a1b2",
   "metadata": {},
   "outputs": [
    {
     "data": {
      "text/plain": [
       "array([0, 1])"
      ]
     },
     "execution_count": 46,
     "metadata": {},
     "output_type": "execute_result"
    }
   ],
   "source": [
    "np.unique(y_train)"
   ]
  },
  {
   "cell_type": "code",
   "execution_count": 56,
   "id": "86a6e8a3",
   "metadata": {},
   "outputs": [
    {
     "name": "stdout",
     "output_type": "stream",
     "text": [
      "Results summary\n",
      "Results in my_dir/churn_gridsearch_cw\n",
      "Showing 10 best trials\n",
      "Objective(name=\"val_recall\", direction=\"max\")\n",
      "\n",
      "Trial 013 summary\n",
      "Hyperparameters:\n",
      "units: 8\n",
      "activation: relu\n",
      "units2: 8\n",
      "activation2: sigmoid\n",
      "learning_rate: 0.000316227766016838\n",
      "Score: 1.0\n",
      "\n",
      "Trial 041 summary\n",
      "Hyperparameters:\n",
      "units: 8\n",
      "activation: relu\n",
      "units2: 16\n",
      "activation2: sigmoid\n",
      "learning_rate: 0.00012589254117941674\n",
      "Score: 1.0\n",
      "\n",
      "Trial 077 summary\n",
      "Hyperparameters:\n",
      "units: 8\n",
      "activation: relu\n",
      "units2: 64\n",
      "activation2: sigmoid\n",
      "learning_rate: 0.0001\n",
      "Score: 1.0\n",
      "\n",
      "Trial 085 summary\n",
      "Hyperparameters:\n",
      "units: 8\n",
      "activation: relu\n",
      "units2: 64\n",
      "activation2: sigmoid\n",
      "learning_rate: 0.00012589254117941674\n",
      "Score: 1.0\n",
      "\n",
      "Trial 016 summary\n",
      "Hyperparameters:\n",
      "units: 8\n",
      "activation: relu\n",
      "units2: 8\n",
      "activation2: sigmoid\n",
      "learning_rate: 0.00019952623149688798\n",
      "Score: 0.9030100107192993\n",
      "\n",
      "Trial 002 summary\n",
      "Hyperparameters:\n",
      "units: 8\n",
      "activation: relu\n",
      "units2: 8\n",
      "activation2: relu\n",
      "learning_rate: 0.000316227766016838\n",
      "Score: 0.7290970087051392\n",
      "\n",
      "Trial 026 summary\n",
      "Hyperparameters:\n",
      "units: 8\n",
      "activation: relu\n",
      "units2: 16\n",
      "activation2: relu\n",
      "learning_rate: 0.007943282347242817\n",
      "Score: 0.6889632344245911\n",
      "\n",
      "Trial 031 summary\n",
      "Hyperparameters:\n",
      "units: 8\n",
      "activation: relu\n",
      "units2: 16\n",
      "activation2: relu\n",
      "learning_rate: 0.003162277660168381\n",
      "Score: 0.6688963174819946\n",
      "\n",
      "Trial 037 summary\n",
      "Hyperparameters:\n",
      "units: 8\n",
      "activation: relu\n",
      "units2: 16\n",
      "activation2: sigmoid\n",
      "learning_rate: 0.007943282347242817\n",
      "Score: 0.6688963174819946\n",
      "\n",
      "Trial 098 summary\n",
      "Hyperparameters:\n",
      "units: 8\n",
      "activation: relu\n",
      "units2: 128\n",
      "activation2: relu\n",
      "learning_rate: 0.001995262314968881\n",
      "Score: 0.6655518412590027\n"
     ]
    }
   ],
   "source": [
    "# Lancement de la recherche\n",
    "tuner.search(\n",
    "    X_train,\n",
    "    y_train_cat,\n",
    "    epochs=20,\n",
    "    validation_data=(X_val, y_val_cat),\n",
    "    callbacks=[early_stop]\n",
    ")\n",
    "\n",
    "tuner.results_summary()"
   ]
  },
  {
   "cell_type": "code",
   "execution_count": 41,
   "id": "c902e365",
   "metadata": {},
   "outputs": [
    {
     "data": {
      "text/html": [
       "<pre style=\"white-space:pre;overflow-x:auto;line-height:normal;font-family:Menlo,'DejaVu Sans Mono',consolas,'Courier New',monospace\"><span style=\"font-weight: bold\">Model: \"sequential_3\"</span>\n",
       "</pre>\n"
      ],
      "text/plain": [
       "\u001b[1mModel: \"sequential_3\"\u001b[0m\n"
      ]
     },
     "metadata": {},
     "output_type": "display_data"
    },
    {
     "data": {
      "text/html": [
       "<pre style=\"white-space:pre;overflow-x:auto;line-height:normal;font-family:Menlo,'DejaVu Sans Mono',consolas,'Courier New',monospace\">┏━━━━━━━━━━━━━━━━━━━━━━━━━━━━━━━━━┳━━━━━━━━━━━━━━━━━━━━━━━━┳━━━━━━━━━━━━━━━┓\n",
       "┃<span style=\"font-weight: bold\"> Layer (type)                    </span>┃<span style=\"font-weight: bold\"> Output Shape           </span>┃<span style=\"font-weight: bold\">       Param # </span>┃\n",
       "┡━━━━━━━━━━━━━━━━━━━━━━━━━━━━━━━━━╇━━━━━━━━━━━━━━━━━━━━━━━━╇━━━━━━━━━━━━━━━┩\n",
       "│ dense_9 (<span style=\"color: #0087ff; text-decoration-color: #0087ff\">Dense</span>)                 │ (<span style=\"color: #00d7ff; text-decoration-color: #00d7ff\">None</span>, <span style=\"color: #00af00; text-decoration-color: #00af00\">8</span>)              │           <span style=\"color: #00af00; text-decoration-color: #00af00\">304</span> │\n",
       "├─────────────────────────────────┼────────────────────────┼───────────────┤\n",
       "│ dense_10 (<span style=\"color: #0087ff; text-decoration-color: #0087ff\">Dense</span>)                │ (<span style=\"color: #00d7ff; text-decoration-color: #00d7ff\">None</span>, <span style=\"color: #00af00; text-decoration-color: #00af00\">8</span>)              │            <span style=\"color: #00af00; text-decoration-color: #00af00\">72</span> │\n",
       "├─────────────────────────────────┼────────────────────────┼───────────────┤\n",
       "│ dense_11 (<span style=\"color: #0087ff; text-decoration-color: #0087ff\">Dense</span>)                │ (<span style=\"color: #00d7ff; text-decoration-color: #00d7ff\">None</span>, <span style=\"color: #00af00; text-decoration-color: #00af00\">2</span>)              │            <span style=\"color: #00af00; text-decoration-color: #00af00\">18</span> │\n",
       "└─────────────────────────────────┴────────────────────────┴───────────────┘\n",
       "</pre>\n"
      ],
      "text/plain": [
       "┏━━━━━━━━━━━━━━━━━━━━━━━━━━━━━━━━━┳━━━━━━━━━━━━━━━━━━━━━━━━┳━━━━━━━━━━━━━━━┓\n",
       "┃\u001b[1m \u001b[0m\u001b[1mLayer (type)                   \u001b[0m\u001b[1m \u001b[0m┃\u001b[1m \u001b[0m\u001b[1mOutput Shape          \u001b[0m\u001b[1m \u001b[0m┃\u001b[1m \u001b[0m\u001b[1m      Param #\u001b[0m\u001b[1m \u001b[0m┃\n",
       "┡━━━━━━━━━━━━━━━━━━━━━━━━━━━━━━━━━╇━━━━━━━━━━━━━━━━━━━━━━━━╇━━━━━━━━━━━━━━━┩\n",
       "│ dense_9 (\u001b[38;5;33mDense\u001b[0m)                 │ (\u001b[38;5;45mNone\u001b[0m, \u001b[38;5;34m8\u001b[0m)              │           \u001b[38;5;34m304\u001b[0m │\n",
       "├─────────────────────────────────┼────────────────────────┼───────────────┤\n",
       "│ dense_10 (\u001b[38;5;33mDense\u001b[0m)                │ (\u001b[38;5;45mNone\u001b[0m, \u001b[38;5;34m8\u001b[0m)              │            \u001b[38;5;34m72\u001b[0m │\n",
       "├─────────────────────────────────┼────────────────────────┼───────────────┤\n",
       "│ dense_11 (\u001b[38;5;33mDense\u001b[0m)                │ (\u001b[38;5;45mNone\u001b[0m, \u001b[38;5;34m2\u001b[0m)              │            \u001b[38;5;34m18\u001b[0m │\n",
       "└─────────────────────────────────┴────────────────────────┴───────────────┘\n"
      ]
     },
     "metadata": {},
     "output_type": "display_data"
    },
    {
     "data": {
      "text/html": [
       "<pre style=\"white-space:pre;overflow-x:auto;line-height:normal;font-family:Menlo,'DejaVu Sans Mono',consolas,'Courier New',monospace\"><span style=\"font-weight: bold\"> Total params: </span><span style=\"color: #00af00; text-decoration-color: #00af00\">394</span> (1.54 KB)\n",
       "</pre>\n"
      ],
      "text/plain": [
       "\u001b[1m Total params: \u001b[0m\u001b[38;5;34m394\u001b[0m (1.54 KB)\n"
      ]
     },
     "metadata": {},
     "output_type": "display_data"
    },
    {
     "data": {
      "text/html": [
       "<pre style=\"white-space:pre;overflow-x:auto;line-height:normal;font-family:Menlo,'DejaVu Sans Mono',consolas,'Courier New',monospace\"><span style=\"font-weight: bold\"> Trainable params: </span><span style=\"color: #00af00; text-decoration-color: #00af00\">394</span> (1.54 KB)\n",
       "</pre>\n"
      ],
      "text/plain": [
       "\u001b[1m Trainable params: \u001b[0m\u001b[38;5;34m394\u001b[0m (1.54 KB)\n"
      ]
     },
     "metadata": {},
     "output_type": "display_data"
    },
    {
     "data": {
      "text/html": [
       "<pre style=\"white-space:pre;overflow-x:auto;line-height:normal;font-family:Menlo,'DejaVu Sans Mono',consolas,'Courier New',monospace\"><span style=\"font-weight: bold\"> Non-trainable params: </span><span style=\"color: #00af00; text-decoration-color: #00af00\">0</span> (0.00 B)\n",
       "</pre>\n"
      ],
      "text/plain": [
       "\u001b[1m Non-trainable params: \u001b[0m\u001b[38;5;34m0\u001b[0m (0.00 B)\n"
      ]
     },
     "metadata": {},
     "output_type": "display_data"
    },
    {
     "name": "stdout",
     "output_type": "stream",
     "text": [
      "Epoch 1/20\n"
     ]
    },
    {
     "ename": "ValueError",
     "evalue": "Arguments `target` and `output` must have the same shape. Received: target.shape=(None, 1), output.shape=(None, 2)",
     "output_type": "error",
     "traceback": [
      "\u001b[31m---------------------------------------------------------------------------\u001b[39m",
      "\u001b[31mValueError\u001b[39m                                Traceback (most recent call last)",
      "\u001b[36mCell\u001b[39m\u001b[36m \u001b[39m\u001b[32mIn[41]\u001b[39m\u001b[32m, line 39\u001b[39m\n\u001b[32m     36\u001b[39m model = build_model(X_train, num_classes=\u001b[32m2\u001b[39m)  \u001b[38;5;66;03m# 2 classes : 'churn' et 'no churn'\u001b[39;00m\n\u001b[32m     38\u001b[39m \u001b[38;5;66;03m# Entraîner le modèle avec les poids de classe\u001b[39;00m\n\u001b[32m---> \u001b[39m\u001b[32m39\u001b[39m history = \u001b[43mmodel\u001b[49m\u001b[43m.\u001b[49m\u001b[43mfit\u001b[49m\u001b[43m(\u001b[49m\n\u001b[32m     40\u001b[39m \u001b[43m    \u001b[49m\u001b[43mX_train\u001b[49m\u001b[43m,\u001b[49m\u001b[43m \u001b[49m\n\u001b[32m     41\u001b[39m \u001b[43m    \u001b[49m\u001b[43my_train\u001b[49m\u001b[43m,\u001b[49m\u001b[43m \u001b[49m\n\u001b[32m     42\u001b[39m \u001b[43m    \u001b[49m\u001b[43mvalidation_data\u001b[49m\u001b[43m=\u001b[49m\u001b[43m(\u001b[49m\u001b[43mX_val\u001b[49m\u001b[43m,\u001b[49m\u001b[43m \u001b[49m\u001b[43my_val\u001b[49m\u001b[43m)\u001b[49m\u001b[43m,\u001b[49m\u001b[43m \u001b[49m\n\u001b[32m     43\u001b[39m \u001b[43m    \u001b[49m\u001b[43mepochs\u001b[49m\u001b[43m=\u001b[49m\u001b[32;43m20\u001b[39;49m\u001b[43m,\u001b[49m\u001b[43m \u001b[49m\n\u001b[32m     44\u001b[39m \u001b[43m    \u001b[49m\u001b[43mbatch_size\u001b[49m\u001b[43m=\u001b[49m\u001b[32;43m32\u001b[39;49m\u001b[43m,\u001b[49m\u001b[43m \u001b[49m\n\u001b[32m     45\u001b[39m \u001b[43m    \u001b[49m\u001b[43mclass_weight\u001b[49m\u001b[43m=\u001b[49m\u001b[43mclass_weight_dict\u001b[49m\u001b[43m,\u001b[49m\u001b[43m  \u001b[49m\u001b[38;5;66;43;03m# Ici tu passes class_weight\u001b[39;49;00m\n\u001b[32m     46\u001b[39m \u001b[43m    \u001b[49m\u001b[43mverbose\u001b[49m\u001b[43m=\u001b[49m\u001b[32;43m1\u001b[39;49m\n\u001b[32m     47\u001b[39m \u001b[43m)\u001b[49m\n",
      "\u001b[36mFile \u001b[39m\u001b[32m~/Documents/Simplon/deep_learning_brief/.venv/lib/python3.12/site-packages/keras/src/utils/traceback_utils.py:122\u001b[39m, in \u001b[36mfilter_traceback.<locals>.error_handler\u001b[39m\u001b[34m(*args, **kwargs)\u001b[39m\n\u001b[32m    119\u001b[39m     filtered_tb = _process_traceback_frames(e.__traceback__)\n\u001b[32m    120\u001b[39m     \u001b[38;5;66;03m# To get the full stack trace, call:\u001b[39;00m\n\u001b[32m    121\u001b[39m     \u001b[38;5;66;03m# `keras.config.disable_traceback_filtering()`\u001b[39;00m\n\u001b[32m--> \u001b[39m\u001b[32m122\u001b[39m     \u001b[38;5;28;01mraise\u001b[39;00m e.with_traceback(filtered_tb) \u001b[38;5;28;01mfrom\u001b[39;00m\u001b[38;5;250m \u001b[39m\u001b[38;5;28;01mNone\u001b[39;00m\n\u001b[32m    123\u001b[39m \u001b[38;5;28;01mfinally\u001b[39;00m:\n\u001b[32m    124\u001b[39m     \u001b[38;5;28;01mdel\u001b[39;00m filtered_tb\n",
      "\u001b[36mFile \u001b[39m\u001b[32m~/Documents/Simplon/deep_learning_brief/.venv/lib/python3.12/site-packages/keras/src/backend/tensorflow/nn.py:774\u001b[39m, in \u001b[36mbinary_crossentropy\u001b[39m\u001b[34m(target, output, from_logits)\u001b[39m\n\u001b[32m    772\u001b[39m \u001b[38;5;28;01mfor\u001b[39;00m e1, e2 \u001b[38;5;129;01min\u001b[39;00m \u001b[38;5;28mzip\u001b[39m(target.shape, output.shape):\n\u001b[32m    773\u001b[39m     \u001b[38;5;28;01mif\u001b[39;00m e1 \u001b[38;5;129;01mis\u001b[39;00m \u001b[38;5;129;01mnot\u001b[39;00m \u001b[38;5;28;01mNone\u001b[39;00m \u001b[38;5;129;01mand\u001b[39;00m e2 \u001b[38;5;129;01mis\u001b[39;00m \u001b[38;5;129;01mnot\u001b[39;00m \u001b[38;5;28;01mNone\u001b[39;00m \u001b[38;5;129;01mand\u001b[39;00m e1 != e2:\n\u001b[32m--> \u001b[39m\u001b[32m774\u001b[39m         \u001b[38;5;28;01mraise\u001b[39;00m \u001b[38;5;167;01mValueError\u001b[39;00m(\n\u001b[32m    775\u001b[39m             \u001b[33m\"\u001b[39m\u001b[33mArguments `target` and `output` must have the same shape. \u001b[39m\u001b[33m\"\u001b[39m\n\u001b[32m    776\u001b[39m             \u001b[33m\"\u001b[39m\u001b[33mReceived: \u001b[39m\u001b[33m\"\u001b[39m\n\u001b[32m    777\u001b[39m             \u001b[33mf\u001b[39m\u001b[33m\"\u001b[39m\u001b[33mtarget.shape=\u001b[39m\u001b[38;5;132;01m{\u001b[39;00mtarget.shape\u001b[38;5;132;01m}\u001b[39;00m\u001b[33m, output.shape=\u001b[39m\u001b[38;5;132;01m{\u001b[39;00moutput.shape\u001b[38;5;132;01m}\u001b[39;00m\u001b[33m\"\u001b[39m\n\u001b[32m    778\u001b[39m         )\n\u001b[32m    780\u001b[39m output, from_logits = _get_logits(\n\u001b[32m    781\u001b[39m     output, from_logits, \u001b[33m\"\u001b[39m\u001b[33mSigmoid\u001b[39m\u001b[33m\"\u001b[39m, \u001b[33m\"\u001b[39m\u001b[33mbinary_crossentropy\u001b[39m\u001b[33m\"\u001b[39m\n\u001b[32m    782\u001b[39m )\n\u001b[32m    784\u001b[39m \u001b[38;5;28;01mif\u001b[39;00m from_logits:\n",
      "\u001b[31mValueError\u001b[39m: Arguments `target` and `output` must have the same shape. Received: target.shape=(None, 1), output.shape=(None, 2)"
     ]
    }
   ],
   "source": [
    "import tensorflow as tf\n",
    "from sklearn.utils import class_weight\n",
    "import numpy as np\n",
    "\n",
    "def build_model(X_train, num_classes):\n",
    "    model = tf.keras.Sequential([\n",
    "        tf.keras.layers.Input(shape=(X_train.shape[1],)),\n",
    "        tf.keras.layers.Dense(8, activation='relu'),       \n",
    "        tf.keras.layers.Dense(8, activation='sigmoid'),    \n",
    "        tf.keras.layers.Dense(num_classes, activation='sigmoid')  \n",
    "    ])\n",
    "\n",
    "    model.compile(\n",
    "        optimizer=tf.keras.optimizers.Adam(learning_rate=0.000316227766016838),  # 'learning_rate': 0.003\n",
    "        loss='binary_crossentropy',  # 'categorical_crossentropy' → mauvais pour binaire\n",
    "        metrics=['accuracy', tf.keras.metrics.AUC(name=\"auc\")]\n",
    "    )\n",
    "\n",
    "    model.summary()\n",
    "    return model\n",
    "\n",
    "# Calcul des poids de classe dans la fonction build_model\n",
    "def get_class_weights(y_train):\n",
    "    # Calcul des poids de classe\n",
    "    class_weights = class_weight.compute_class_weight(\n",
    "        class_weight='balanced',\n",
    "        classes=np.unique(y_train),\n",
    "        y=y_train\n",
    "    )\n",
    "    return dict(enumerate(class_weights))\n",
    "\n",
    "# Supposons que y_train soit déjà défini\n",
    "class_weight_dict = get_class_weights(y_train_labels)\n",
    "\n",
    "# Créer le modèle\n",
    "model = build_model(X_train, num_classes=2)  # 2 classes : 'churn' et 'no churn'\n",
    "\n",
    "# Entraîner le modèle avec les poids de classe\n",
    "history = model.fit(\n",
    "    X_train, \n",
    "    y_train, \n",
    "    validation_data=(X_val, y_val), \n",
    "    epochs=20, \n",
    "    batch_size=32, \n",
    "    class_weight=class_weight_dict,  # Ici tu passes class_weight\n",
    "    verbose=1\n",
    ")\n"
   ]
  },
  {
   "cell_type": "markdown",
   "id": "948f6d99",
   "metadata": {},
   "source": [
    "### tensor board "
   ]
  },
  {
   "cell_type": "code",
   "execution_count": 25,
   "id": "4f9cb2fc",
   "metadata": {},
   "outputs": [],
   "source": [
    "%load_ext tensorboard"
   ]
  },
  {
   "cell_type": "code",
   "execution_count": 29,
   "id": "650d8417",
   "metadata": {},
   "outputs": [
    {
     "ename": "TypeError",
     "evalue": "'<' not supported between instances of 'int' and 'HyperParameters'",
     "output_type": "error",
     "traceback": [
      "\u001b[31m---------------------------------------------------------------------------\u001b[39m",
      "\u001b[31mTypeError\u001b[39m                                 Traceback (most recent call last)",
      "\u001b[36mCell\u001b[39m\u001b[36m \u001b[39m\u001b[32mIn[29]\u001b[39m\u001b[32m, line 6\u001b[39m\n\u001b[32m      2\u001b[39m \u001b[38;5;28;01mimport\u001b[39;00m\u001b[38;5;250m \u001b[39m\u001b[34;01mdatetime\u001b[39;00m\n\u001b[32m      4\u001b[39m best_hp = tuner.get_best_hyperparameters(\u001b[32m1\u001b[39m)[\u001b[32m0\u001b[39m]\n\u001b[32m----> \u001b[39m\u001b[32m6\u001b[39m best_model = \u001b[43mtuner\u001b[49m\u001b[43m.\u001b[49m\u001b[43moracle\u001b[49m\u001b[43m.\u001b[49m\u001b[43mget_best_trials\u001b[49m\u001b[43m(\u001b[49m\u001b[43mbest_hp\u001b[49m\u001b[43m)\u001b[49m\n\u001b[32m      8\u001b[39m model_ckpt = tf.keras.callbacks.ModelCheckpoint(\n\u001b[32m      9\u001b[39m     \u001b[33m'\u001b[39m\u001b[33mbest_model.keras\u001b[39m\u001b[33m'\u001b[39m,\n\u001b[32m     10\u001b[39m     save_best_only=\u001b[38;5;28;01mTrue\u001b[39;00m,\n\u001b[32m     11\u001b[39m     monitor=\u001b[33m'\u001b[39m\u001b[33mval_recall\u001b[39m\u001b[33m'\u001b[39m\n\u001b[32m     12\u001b[39m )\n\u001b[32m     14\u001b[39m log_dir = os.path.join(\n\u001b[32m     15\u001b[39m     \u001b[33m\"\u001b[39m\u001b[33mlogs\u001b[39m\u001b[33m\"\u001b[39m, \u001b[33m\"\u001b[39m\u001b[33mfit\u001b[39m\u001b[33m\"\u001b[39m, datetime.datetime.now().strftime(\u001b[33m\"\u001b[39m\u001b[33m%\u001b[39m\u001b[33mY\u001b[39m\u001b[33m%\u001b[39m\u001b[33mm\u001b[39m\u001b[38;5;132;01m%d\u001b[39;00m\u001b[33m-\u001b[39m\u001b[33m%\u001b[39m\u001b[33mH\u001b[39m\u001b[33m%\u001b[39m\u001b[33mM\u001b[39m\u001b[33m%\u001b[39m\u001b[33mS\u001b[39m\u001b[33m\"\u001b[39m)\n\u001b[32m     16\u001b[39m )\n",
      "\u001b[36mFile \u001b[39m\u001b[32m~/Documents/Simplon/deep_learning_brief/.venv/lib/python3.12/site-packages/keras_tuner/src/engine/oracle.py:677\u001b[39m, in \u001b[36mOracle.get_best_trials\u001b[39m\u001b[34m(self, num_trials)\u001b[39m\n\u001b[32m    665\u001b[39m trials = [\n\u001b[32m    666\u001b[39m     t\n\u001b[32m    667\u001b[39m     \u001b[38;5;28;01mfor\u001b[39;00m t \u001b[38;5;129;01min\u001b[39;00m \u001b[38;5;28mself\u001b[39m.trials.values()\n\u001b[32m    668\u001b[39m     \u001b[38;5;28;01mif\u001b[39;00m t.status == trial_module.TrialStatus.COMPLETED\n\u001b[32m    669\u001b[39m ]\n\u001b[32m    671\u001b[39m sorted_trials = \u001b[38;5;28msorted\u001b[39m(\n\u001b[32m    672\u001b[39m     trials,\n\u001b[32m    673\u001b[39m     key=\u001b[38;5;28;01mlambda\u001b[39;00m trial: trial.score,\n\u001b[32m    674\u001b[39m     reverse=\u001b[38;5;28mself\u001b[39m.objective.direction == \u001b[33m\"\u001b[39m\u001b[33mmax\u001b[39m\u001b[33m\"\u001b[39m,\n\u001b[32m    675\u001b[39m )\n\u001b[32m--> \u001b[39m\u001b[32m677\u001b[39m \u001b[38;5;28;01mif\u001b[39;00m \u001b[38;5;28;43mlen\u001b[39;49m\u001b[43m(\u001b[49m\u001b[43msorted_trials\u001b[49m\u001b[43m)\u001b[49m\u001b[43m \u001b[49m\u001b[43m<\u001b[49m\u001b[43m \u001b[49m\u001b[43mnum_trials\u001b[49m:\n\u001b[32m    678\u001b[39m     sorted_trials = sorted_trials + [\n\u001b[32m    679\u001b[39m         t\n\u001b[32m    680\u001b[39m         \u001b[38;5;28;01mfor\u001b[39;00m t \u001b[38;5;129;01min\u001b[39;00m \u001b[38;5;28mself\u001b[39m.trials.values()\n\u001b[32m    681\u001b[39m         \u001b[38;5;28;01mif\u001b[39;00m t.status != trial_module.TrialStatus.COMPLETED\n\u001b[32m    682\u001b[39m     ]\n\u001b[32m    683\u001b[39m \u001b[38;5;28;01mreturn\u001b[39;00m sorted_trials[:num_trials]\n",
      "\u001b[31mTypeError\u001b[39m: '<' not supported between instances of 'int' and 'HyperParameters'"
     ]
    }
   ],
   "source": [
    "import os\n",
    "import datetime\n",
    "\n",
    "best_hp = tuner.get_best_hyperparameters(1)[0]\n",
    "\n",
    "best_model = tuner.oracle.get_best_trials(best_hp)\n",
    "\n",
    "model_ckpt = tf.keras.callbacks.ModelCheckpoint(\n",
    "    'best_model.keras',\n",
    "    save_best_only=True,\n",
    "    monitor='val_recall'\n",
    ")\n",
    "\n",
    "log_dir = os.path.join(\n",
    "    \"logs\", \"fit\", datetime.datetime.now().strftime(\"%Y%m%d-%H%M%S\")\n",
    ")\n",
    "tensorboard_cb = tf.keras.callbacks.TensorBoard(\n",
    "    log_dir=log_dir,\n",
    "    histogram_freq=1,       # enregistre les histogrammes de poids chaque époque\n",
    "    write_graph=True,       # sauvegarde le graph du modèle\n",
    "    write_images=True\n",
    ")\n",
    "\n",
    "history = model.fit(\n",
    "    X_train, y_train_cat,\n",
    "    validation_split=0.2,\n",
    "    epochs=20,\n",
    "    batch_size=16,\n",
    "    verbose=1,\n",
    "    callbacks=[early_stop, model_ckpt, tensorboard_cb]\n",
    ")"
   ]
  },
  {
   "cell_type": "code",
   "execution_count": null,
   "id": "44d626a0",
   "metadata": {},
   "outputs": [
    {
     "name": "stdout",
     "output_type": "stream",
     "text": [
      "\n",
      "Accuracy sur le test set : 0.7854\n",
      "\u001b[1m44/44\u001b[0m \u001b[32m━━━━━━━━━━━━━━━━━━━━\u001b[0m\u001b[37m\u001b[0m \u001b[1m0s\u001b[0m 884us/step\n",
      "\n",
      "Classification Report :\n",
      "              precision    recall  f1-score   support\n",
      "\n",
      "          No       0.84      0.87      0.86      1033\n",
      "         Yes       0.60      0.56      0.58       374\n",
      "\n",
      "    accuracy                           0.79      1407\n",
      "   macro avg       0.72      0.71      0.72      1407\n",
      "weighted avg       0.78      0.79      0.78      1407\n",
      "\n",
      "Matrice de Confusion :\n",
      "[[896 137]\n",
      " [165 209]]\n"
     ]
    }
   ],
   "source": [
    "test_loss, test_acc = model.evaluate(X_test, y_test_cat, verbose=0)\n",
    "print(f\"\\nAccuracy sur le test set : {test_acc:.4f}\")\n",
    "y_pred_probs = model.predict(X_test)\n",
    "y_pred = np.argmax(y_pred_probs, axis=1)\n",
    "print(\"\\nClassification Report :\")\n",
    "print(classification_report(y_test, y_pred, target_names=df.churn.unique()))\n",
    "print(\"Matrice de Confusion :\")\n",
    "cm = confusion_matrix(y_test, y_pred)\n",
    "print(cm)"
   ]
  },
  {
   "cell_type": "code",
   "execution_count": null,
   "id": "90f380d5",
   "metadata": {},
   "outputs": [
    {
     "data": {
      "text/html": [
       "\n",
       "      <iframe id=\"tensorboard-frame-ab3256acfbbab5ea\" width=\"100%\" height=\"800\" frameborder=\"0\">\n",
       "      </iframe>\n",
       "      <script>\n",
       "        (function() {\n",
       "          const frame = document.getElementById(\"tensorboard-frame-ab3256acfbbab5ea\");\n",
       "          const url = new URL(\"/\", window.location);\n",
       "          const port = 6007;\n",
       "          if (port) {\n",
       "            url.port = port;\n",
       "          }\n",
       "          frame.src = url;\n",
       "        })();\n",
       "      </script>\n",
       "    "
      ],
      "text/plain": [
       "<IPython.core.display.HTML object>"
      ]
     },
     "metadata": {},
     "output_type": "display_data"
    }
   ],
   "source": [
    "%tensorboard --logdir logs/fit"
   ]
  },
  {
   "cell_type": "code",
   "execution_count": null,
   "id": "89b58a87",
   "metadata": {},
   "outputs": [
    {
     "name": "stderr",
     "output_type": "stream",
     "text": [
      "UsageError: Line magic function `%tensorboard` not found.\n"
     ]
    }
   ],
   "source": [
    "test_loss, test_acc = model.evaluate(X_test, y_test_cat, verbose=0)\n",
    "print(f\"\\nAccuracy sur le test set : {test_acc:.4f}\")\n",
    "y_pred_probs = model.predict(X_test)\n",
    "y_pred = np.argmax(y_pred_probs, axis=1)\n",
    "print(\"\\nClassification Report :\")\n",
    "print(classification_report(y_test, y_pred, target_names=iris.target_names))\n",
    "print(\"Matrice de Confusion :\")\n",
    "cm = confusion_matrix(y_test, y_pred)\n",
    "print(cm)\n",
    "\n",
    "%tensorboard --logdir logs/fit\n"
   ]
  }
 ],
 "metadata": {
  "kernelspec": {
   "display_name": ".venv",
   "language": "python",
   "name": "python3"
  },
  "language_info": {
   "codemirror_mode": {
    "name": "ipython",
    "version": 3
   },
   "file_extension": ".py",
   "mimetype": "text/x-python",
   "name": "python",
   "nbconvert_exporter": "python",
   "pygments_lexer": "ipython3",
   "version": "3.12.3"
  }
 },
 "nbformat": 4,
 "nbformat_minor": 5
}
